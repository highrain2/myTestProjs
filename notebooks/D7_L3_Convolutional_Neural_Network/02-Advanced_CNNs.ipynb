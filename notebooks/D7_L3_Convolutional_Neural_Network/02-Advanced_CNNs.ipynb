{
 "cells": [
  {
   "cell_type": "markdown",
   "metadata": {
    "colab_type": "text",
    "id": "bOChJSNXtC9g"
   },
   "source": [
    "# Computer Vision"
   ]
  },
  {
   "cell_type": "markdown",
   "metadata": {
    "colab_type": "text",
    "id": "OLIxEDq6VhvZ"
   },
   "source": [
    "In this notebook we're going to cover the basics of computer vision using CNNs. So far we've explored using CNNs for text but their initial origin began with computer vision tasks.\n",
    "\n",
    "\n"
   ]
  },
  {
   "cell_type": "markdown",
   "metadata": {
    "colab_type": "text",
    "id": "wKX2R_FT4hSQ"
   },
   "source": [
    "<img src=\"figures/cnn_cv.png\" width=650>"
   ]
  },
  {
   "cell_type": "markdown",
   "metadata": {
    "colab_type": "text",
    "id": "WhPQxVDRvMWG"
   },
   "source": [
    "# Configuration"
   ]
  },
  {
   "cell_type": "code",
   "execution_count": 21,
   "metadata": {
    "colab": {},
    "colab_type": "code",
    "id": "GBOpAGnTvJ2L"
   },
   "outputs": [],
   "source": [
    "config = {\n",
    "  \"seed\": 1234,\n",
    "  \"cuda\": True,\n",
    "  \"data_dir\": \"cifar10\",\n",
    "  \"shuffle\": True,\n",
    "  \"train_size\": 0.7,\n",
    "  \"val_size\": 0.15,\n",
    "  \"test_size\": 0.15,\n",
    "  \"vectorizer_file\": \"vectorizer.json\",\n",
    "  \"model_file\": \"model.pth\",\n",
    "  \"save_dir\": \"experiments\",\n",
    "  \"num_epochs\": 5,\n",
    "  \"early_stopping_criteria\": 5,\n",
    "  \"learning_rate\": 1e-3,\n",
    "  \"batch_size\": 128,\n",
    "  \"fc\": {\n",
    "    \"hidden_dim\": 100,\n",
    "    \"dropout_p\": 0.1\n",
    "  }\n",
    "}"
   ]
  },
  {
   "cell_type": "markdown",
   "metadata": {
    "colab_type": "text",
    "id": "ptkKF5Fov-SD"
   },
   "source": [
    "# Set up"
   ]
  },
  {
   "cell_type": "code",
   "execution_count": 22,
   "metadata": {
    "colab": {},
    "colab_type": "code",
    "id": "R_rteDFbvKPc"
   },
   "outputs": [],
   "source": [
    "# Load PyTorch library\n",
    "#!pip3 install torch"
   ]
  },
  {
   "cell_type": "code",
   "execution_count": 23,
   "metadata": {
    "colab": {},
    "colab_type": "code",
    "id": "hVe2_gEuvKfr"
   },
   "outputs": [],
   "source": [
    "import os\n",
    "import json\n",
    "import numpy as np\n",
    "import time\n",
    "import torch\n",
    "import uuid"
   ]
  },
  {
   "cell_type": "markdown",
   "metadata": {
    "colab_type": "text",
    "id": "W_2LVROYwFyL"
   },
   "source": [
    "### Components"
   ]
  },
  {
   "cell_type": "code",
   "execution_count": 24,
   "metadata": {
    "colab": {},
    "colab_type": "code",
    "id": "uvBG7wQzvKx-"
   },
   "outputs": [],
   "source": [
    "def set_seeds(seed, cuda):\n",
    "    \"\"\" Set Numpy and PyTorch seeds.\n",
    "    \"\"\"\n",
    "    np.random.seed(seed)\n",
    "    torch.manual_seed(seed)\n",
    "    if cuda:\n",
    "        torch.cuda.manual_seed_all(seed)\n",
    "    print (\"==> 🌱 Set NumPy and PyTorch seeds.\")"
   ]
  },
  {
   "cell_type": "code",
   "execution_count": 25,
   "metadata": {
    "colab": {},
    "colab_type": "code",
    "id": "29_qNeT9wKTc"
   },
   "outputs": [],
   "source": [
    "def generate_unique_id():\n",
    "    \"\"\"Generate a unique uuid\n",
    "    preceded by a epochtime.\n",
    "    \"\"\"\n",
    "    timestamp = int(time.time())\n",
    "    unique_id = \"{}_{}\".format(timestamp, uuid.uuid1())\n",
    "    print (\"==> 🔑 Generated unique id: {0}\".format(unique_id))\n",
    "    return unique_id"
   ]
  },
  {
   "cell_type": "code",
   "execution_count": 26,
   "metadata": {
    "colab": {},
    "colab_type": "code",
    "id": "nyjHX3DzwKZY"
   },
   "outputs": [],
   "source": [
    "def create_dirs(dirpath):\n",
    "    \"\"\"Creating directories.\n",
    "    \"\"\"\n",
    "    if not os.path.exists(dirpath):\n",
    "        os.makedirs(dirpath)\n",
    "        print (\"==> 📂 Created {0}\".format(dirpath))"
   ]
  },
  {
   "cell_type": "code",
   "execution_count": 27,
   "metadata": {
    "colab": {},
    "colab_type": "code",
    "id": "Q2nZw4grwKQS"
   },
   "outputs": [],
   "source": [
    "def check_cuda(cuda):\n",
    "    \"\"\"Check to see if GPU is available.\n",
    "    \"\"\"\n",
    "    if not torch.cuda.is_available():\n",
    "        cuda = False\n",
    "    device = torch.device(\"cuda\" if cuda else \"cpu\")\n",
    "    print (\"==> 💻 Device: {0}\".format(device))\n",
    "    return device"
   ]
  },
  {
   "cell_type": "markdown",
   "metadata": {
    "colab_type": "text",
    "id": "lA0uwEUlwHjO"
   },
   "source": [
    "### Operations"
   ]
  },
  {
   "cell_type": "code",
   "execution_count": 28,
   "metadata": {
    "colab": {
     "base_uri": "https://localhost:8080/",
     "height": 34
    },
    "colab_type": "code",
    "id": "gt8SiXgavK38",
    "outputId": "1fe12a80-3724-44b6-f865-4acfaea2fdd2"
   },
   "outputs": [
    {
     "name": "stdout",
     "output_type": "stream",
     "text": [
      "==> 🌱 Set NumPy and PyTorch seeds.\n"
     ]
    }
   ],
   "source": [
    "# Set seeds for reproducability\n",
    "set_seeds(seed=config[\"seed\"], cuda=config[\"cuda\"])"
   ]
  },
  {
   "cell_type": "code",
   "execution_count": 29,
   "metadata": {
    "colab": {
     "base_uri": "https://localhost:8080/",
     "height": 34
    },
    "colab_type": "code",
    "id": "xAkZJMckvK1s",
    "outputId": "f13930f3-ee38-44d9-bbc5-2722c2574270"
   },
   "outputs": [
    {
     "name": "stdout",
     "output_type": "stream",
     "text": [
      "==> 🔑 Generated unique id: 1561133296_c786f074-943e-11e9-ab20-80e6501a278b\n"
     ]
    }
   ],
   "source": [
    "# Generate unique experiment ID\n",
    "config[\"experiment_id\"] = generate_unique_id()"
   ]
  },
  {
   "cell_type": "code",
   "execution_count": 30,
   "metadata": {
    "colab": {
     "base_uri": "https://localhost:8080/",
     "height": 34
    },
    "colab_type": "code",
    "id": "MQeZH6oqvKu5",
    "outputId": "295fd1d0-9a83-42a0-d10e-fd660a2b4941"
   },
   "outputs": [
    {
     "name": "stdout",
     "output_type": "stream",
     "text": [
      "==> 📂 Created experiments\\1561133296_c786f074-943e-11e9-ab20-80e6501a278b\n"
     ]
    }
   ],
   "source": [
    "# Create experiment directory\n",
    "config[\"save_dir\"] = os.path.join(config[\"save_dir\"], config[\"experiment_id\"])\n",
    "create_dirs(dirpath=config[\"save_dir\"])"
   ]
  },
  {
   "cell_type": "code",
   "execution_count": 31,
   "metadata": {
    "colab": {
     "base_uri": "https://localhost:8080/",
     "height": 68
    },
    "colab_type": "code",
    "id": "JZbd2RQjvKsD",
    "outputId": "a263b3be-361b-4717-d2fc-1343b7821cca"
   },
   "outputs": [
    {
     "name": "stdout",
     "output_type": "stream",
     "text": [
      "Expanded filepaths: \n",
      "experiments\\1561133296_c786f074-943e-11e9-ab20-80e6501a278b\\vectorizer.json\n",
      "experiments\\1561133296_c786f074-943e-11e9-ab20-80e6501a278b\\model.pth\n"
     ]
    }
   ],
   "source": [
    "# Expand file paths to store components later\n",
    "config[\"vectorizer_file\"] = os.path.join(config[\"save_dir\"], config[\"vectorizer_file\"])\n",
    "config[\"model_file\"] = os.path.join(config[\"save_dir\"], config[\"model_file\"])\n",
    "print (\"Expanded filepaths: \")\n",
    "print (\"{}\".format(config[\"vectorizer_file\"]))\n",
    "print (\"{}\".format(config[\"model_file\"]))"
   ]
  },
  {
   "cell_type": "code",
   "execution_count": 32,
   "metadata": {
    "colab": {},
    "colab_type": "code",
    "id": "TdlTftnCvKph"
   },
   "outputs": [],
   "source": [
    "# Save config\n",
    "config_fp = os.path.join(config[\"save_dir\"], \"config.json\")\n",
    "with open(config_fp, \"w\") as fp:\n",
    "    json.dump(config, fp)"
   ]
  },
  {
   "cell_type": "code",
   "execution_count": 33,
   "metadata": {
    "colab": {
     "base_uri": "https://localhost:8080/",
     "height": 34
    },
    "colab_type": "code",
    "id": "qa0EQ8VRvKl0",
    "outputId": "919c94f1-4ae7-4a59-c05e-7f921dd19479"
   },
   "outputs": [
    {
     "name": "stdout",
     "output_type": "stream",
     "text": [
      "==> 💻 Device: cpu\n"
     ]
    }
   ],
   "source": [
    "# Check CUDA\n",
    "config[\"device\"] = check_cuda(cuda=config[\"cuda\"])"
   ]
  },
  {
   "cell_type": "markdown",
   "metadata": {
    "colab_type": "text",
    "id": "ZVtnfTpvwi4i"
   },
   "source": [
    "# Load data"
   ]
  },
  {
   "cell_type": "markdown",
   "metadata": {
    "colab_type": "text",
    "id": "z0qPZ5tRws38"
   },
   "source": [
    "We are going to get CIFAR10 data which contains images from ten unique classes. Each image has length 32, width 32 and three color channels (RGB). We are going to save these images in a directory. Each image will have its own directory (name will be the class)."
   ]
  },
  {
   "cell_type": "code",
   "execution_count": 34,
   "metadata": {
    "colab": {},
    "colab_type": "code",
    "id": "FrfCnsZS2io4"
   },
   "outputs": [],
   "source": [
    "import matplotlib.pyplot as plt\n",
    "import pandas as pd\n",
    "from PIL import Image\n",
    "import tensorflow as tf"
   ]
  },
  {
   "cell_type": "markdown",
   "metadata": {
    "colab_type": "text",
    "id": "muXdsetFx4QW"
   },
   "source": [
    "### Components"
   ]
  },
  {
   "cell_type": "code",
   "execution_count": 35,
   "metadata": {
    "colab": {},
    "colab_type": "code",
    "id": "QYiuXPMax4YJ"
   },
   "outputs": [],
   "source": [
    "def get_data():\n",
    "    \"\"\"Get CIFAR10 data.\n",
    "    \"\"\"\n",
    "    (x_train, y_train), (x_test, y_test) = tf.keras.datasets.cifar10.load_data()\n",
    "    X = np.vstack([x_train, x_test])\n",
    "    y = np.vstack([y_train, y_test]).squeeze(1)\n",
    "    print (\"==> 🌊 Downloading Cifar10 data using TensorFlow.\")\n",
    "    return X, y"
   ]
  },
  {
   "cell_type": "code",
   "execution_count": 36,
   "metadata": {
    "colab": {},
    "colab_type": "code",
    "id": "MD01k_gx1pxN"
   },
   "outputs": [],
   "source": [
    "def create_class_dirs(data_dir, classes):\n",
    "    \"\"\"Create class directories.\n",
    "    \"\"\"\n",
    "    create_dirs(dirpath=data_dir)\n",
    "    for _class in classes.values():\n",
    "        classpath = os.path.join(data_dir, _class)\n",
    "        create_dirs(dirpath=classpath)"
   ]
  },
  {
   "cell_type": "code",
   "execution_count": 37,
   "metadata": {
    "colab": {},
    "colab_type": "code",
    "id": "O4bthBeo281C"
   },
   "outputs": [],
   "source": [
    "def visualize_samples(data_dir, classes):\n",
    "    \"\"\"Visualize sample images for\n",
    "    each class.\n",
    "    \"\"\"\n",
    "    # Visualize some samples\n",
    "    num_samples = len(classes)\n",
    "    for i, _class in enumerate(classes.values()):  \n",
    "        for file in os.listdir(os.path.join(data_dir, _class)):\n",
    "            if file.endswith((\".png\", \".jpg\", \".jpeg\")):\n",
    "                plt.subplot(1, num_samples, i+1)\n",
    "                plt.title(\"{0}\".format(_class))\n",
    "                img = Image.open(os.path.join(data_dir, _class, file))\n",
    "                plt.imshow(img)\n",
    "                plt.axis(\"off\")\n",
    "                break"
   ]
  },
  {
   "cell_type": "code",
   "execution_count": 38,
   "metadata": {
    "colab": {},
    "colab_type": "code",
    "id": "1sxd32MU4f8-"
   },
   "outputs": [],
   "source": [
    "def img_to_array(fp):\n",
    "    \"\"\"Conver image file to NumPy array.\n",
    "    \"\"\"\n",
    "    img = Image.open(fp)\n",
    "    array = np.asarray(img, dtype=\"float32\")\n",
    "    return array"
   ]
  },
  {
   "cell_type": "code",
   "execution_count": 39,
   "metadata": {
    "colab": {},
    "colab_type": "code",
    "id": "Er9BP9Ch4nKc"
   },
   "outputs": [],
   "source": [
    "def load_data(data_dir, classes):\n",
    "    \"\"\"Load data into Pandas DataFrame.\n",
    "    \"\"\"\n",
    "    # Load data from files\n",
    "    data = []\n",
    "    for i, _class in enumerate(classes.values()):  \n",
    "        for file in os.listdir(os.path.join(data_dir, _class)):\n",
    "            if file.endswith((\".png\", \".jpg\", \".jpeg\")):\n",
    "                full_filepath = os.path.join(data_dir, _class, file)\n",
    "                data.append({\"image\": img_to_array(full_filepath), \"category\": _class})\n",
    "                \n",
    "    # Load to Pandas DataFrame\n",
    "    df = pd.DataFrame(data)\n",
    "    print (\"==> 🖼️ Image dimensions: {0}\".format(df.image[0].shape))\n",
    "    print (\"==> 🍣 Raw data:\")\n",
    "    print (df.head())\n",
    "    return df"
   ]
  },
  {
   "cell_type": "markdown",
   "metadata": {
    "colab_type": "text",
    "id": "FPDqxy_ax4wI"
   },
   "source": [
    "### Operations"
   ]
  },
  {
   "cell_type": "code",
   "execution_count": 40,
   "metadata": {
    "colab": {
     "base_uri": "https://localhost:8080/",
     "height": 102
    },
    "colab_type": "code",
    "id": "KfbhWM7PvKdY",
    "outputId": "05d92d98-55f3-466c-f79e-cdbfa8ff2fb8"
   },
   "outputs": [
    {
     "name": "stdout",
     "output_type": "stream",
     "text": [
      "Downloading data from https://www.cs.toronto.edu/~kriz/cifar-10-python.tar.gz\n",
      "170500096/170498071 [==============================] - 44s 0us/step\n",
      "==> 🌊 Downloading Cifar10 data using TensorFlow.\n",
      "X: (60000, 32, 32, 3)\n",
      "y: (60000,)\n"
     ]
    }
   ],
   "source": [
    "# Get CIFAR10 data\n",
    "X, y = get_data()\n",
    "print (\"X:\", X.shape)\n",
    "print (\"y:\", y.shape)"
   ]
  },
  {
   "cell_type": "code",
   "execution_count": 41,
   "metadata": {
    "colab": {},
    "colab_type": "code",
    "id": "UqEXvEZkvKaV"
   },
   "outputs": [],
   "source": [
    "# Classes\n",
    "classes = {0: 'plane', 1: 'car', 2: 'bird', 3: 'cat', 4: 'deer', 5: 'dog', \n",
    "           6: 'frog', 7: 'horse', 8: 'ship', 9: 'truck'}"
   ]
  },
  {
   "cell_type": "code",
   "execution_count": 42,
   "metadata": {
    "colab": {
     "base_uri": "https://localhost:8080/",
     "height": 204
    },
    "colab_type": "code",
    "id": "Ohn-yT0KvKYW",
    "outputId": "8f717fc6-7fa4-42f4-e881-83b5f55ac158"
   },
   "outputs": [
    {
     "name": "stdout",
     "output_type": "stream",
     "text": [
      "==> 📂 Created cifar10\n",
      "==> 📂 Created cifar10\\plane\n",
      "==> 📂 Created cifar10\\car\n",
      "==> 📂 Created cifar10\\bird\n",
      "==> 📂 Created cifar10\\cat\n",
      "==> 📂 Created cifar10\\deer\n",
      "==> 📂 Created cifar10\\dog\n",
      "==> 📂 Created cifar10\\frog\n",
      "==> 📂 Created cifar10\\horse\n",
      "==> 📂 Created cifar10\\ship\n",
      "==> 📂 Created cifar10\\truck\n"
     ]
    }
   ],
   "source": [
    "# Create image directories\n",
    "create_class_dirs(data_dir=config[\"data_dir\"], classes=classes)"
   ]
  },
  {
   "cell_type": "code",
   "execution_count": 43,
   "metadata": {
    "colab": {},
    "colab_type": "code",
    "id": "OMsgEBXwvKVN"
   },
   "outputs": [],
   "source": [
    "# Save images for each class\n",
    "for i, (image, label) in enumerate(zip(X, y)):\n",
    "    _class = classes[label]\n",
    "    im = Image.fromarray(image)\n",
    "    im.save(os.path.join(config[\"data_dir\"], _class, \"{0:02d}.png\".format(i)))"
   ]
  },
  {
   "cell_type": "code",
   "execution_count": 44,
   "metadata": {
    "colab": {
     "base_uri": "https://localhost:8080/",
     "height": 101
    },
    "colab_type": "code",
    "id": "o8vVS8advKTE",
    "outputId": "f4fc86cc-f1d9-4837-8fd4-b78441957508"
   },
   "outputs": [
    {
     "data": {
      "image/png": "[encoded data removed]",
      "text/plain": [
       "<Figure size 432x288 with 10 Axes>"
      ]
     },
     "metadata": {
      "needs_background": "light"
     },
     "output_type": "display_data"
    }
   ],
   "source": [
    "# Visualize each class\n",
    "visualize_samples(data_dir=config[\"data_dir\"], classes=classes)"
   ]
  },
  {
   "cell_type": "code",
   "execution_count": 45,
   "metadata": {
    "colab": {
     "base_uri": "https://localhost:8080/",
     "height": 153
    },
    "colab_type": "code",
    "id": "9oPqQShhvKMe",
    "outputId": "a2c96dfa-f175-41fb-b882-47889cebb9af"
   },
   "outputs": [
    {
     "name": "stdout",
     "output_type": "stream",
     "text": [
      "==> 🖼️ Image dimensions: (32, 32, 3)\n",
      "==> 🍣 Raw data:\n",
      "  category                                              image\n",
      "0    plane  [[[219.0, 238.0, 245.0], [219.0, 238.0, 245.0]...\n",
      "1    plane  [[[115.0, 138.0, 191.0], [118.0, 141.0, 193.0]...\n",
      "2    plane  [[[145.0, 153.0, 155.0], [147.0, 156.0, 161.0]...\n",
      "3    plane  [[[126.0, 133.0, 149.0], [124.0, 131.0, 147.0]...\n",
      "4    plane  [[[71.0, 134.0, 193.0], [70.0, 133.0, 192.0], ...\n"
     ]
    }
   ],
   "source": [
    "# Load data into DataFrame\n",
    "df = load_data(data_dir=config[\"data_dir\"], classes=classes)"
   ]
  },
  {
   "cell_type": "markdown",
   "metadata": {
    "colab_type": "text",
    "id": "JNSAGHsI6JH2"
   },
   "source": [
    "# Split data"
   ]
  },
  {
   "cell_type": "markdown",
   "metadata": {
    "colab_type": "text",
    "id": "1AIMrapz6Pzy"
   },
   "source": [
    "Split the data into train, validation and test sets where each split has similar class distributions."
   ]
  },
  {
   "cell_type": "code",
   "execution_count": 46,
   "metadata": {
    "colab": {},
    "colab_type": "code",
    "id": "WKeBROMj6WQL"
   },
   "outputs": [],
   "source": [
    "import collections"
   ]
  },
  {
   "cell_type": "markdown",
   "metadata": {
    "colab_type": "text",
    "id": "p2SLUqQp6S4-"
   },
   "source": [
    "### Components"
   ]
  },
  {
   "cell_type": "code",
   "execution_count": 47,
   "metadata": {
    "colab": {},
    "colab_type": "code",
    "id": "0ySue6PBvKJ1"
   },
   "outputs": [],
   "source": [
    "def split_data(df, shuffle, train_size, val_size, test_size):\n",
    "    \"\"\"Split the data into train/val/test splits.\n",
    "    \"\"\"\n",
    "    # Split by category\n",
    "    by_category = collections.defaultdict(list)\n",
    "    for _, row in df.iterrows():\n",
    "        by_category[row.category].append(row.to_dict())\n",
    "    print (\"\\n==> 🛍️ Categories:\")\n",
    "    for category in by_category:\n",
    "        print (\"{0}: {1}\".format(category, len(by_category[category])))\n",
    "\n",
    "    # Create split data\n",
    "    final_list = []\n",
    "    for _, item_list in sorted(by_category.items()):\n",
    "        if shuffle:\n",
    "            np.random.shuffle(item_list)\n",
    "        n = len(item_list)\n",
    "        n_train = int(train_size*n)\n",
    "        n_val = int(val_size*n)\n",
    "        n_test = int(test_size*n)\n",
    "\n",
    "      # Give data point a split attribute\n",
    "        for item in item_list[:n_train]:\n",
    "            item['split'] = 'train'\n",
    "        for item in item_list[n_train:n_train+n_val]:\n",
    "            item['split'] = 'val'\n",
    "        for item in item_list[n_train+n_val:]:\n",
    "            item['split'] = 'test'\n",
    "\n",
    "        # Add to final list\n",
    "        final_list.extend(item_list)\n",
    "\n",
    "    # df with split datasets\n",
    "    split_df = pd.DataFrame(final_list)\n",
    "    print (\"\\n==> 🖖 Splits:\")\n",
    "    print (split_df[\"split\"].value_counts())\n",
    "\n",
    "    return split_df"
   ]
  },
  {
   "cell_type": "markdown",
   "metadata": {
    "colab_type": "text",
    "id": "GcunpUPK6UlF"
   },
   "source": [
    "### Operations"
   ]
  },
  {
   "cell_type": "code",
   "execution_count": 48,
   "metadata": {
    "colab": {
     "base_uri": "https://localhost:8080/",
     "height": 323
    },
    "colab_type": "code",
    "id": "yzznm188vKHN",
    "outputId": "e2fa1789-65ce-4c78-f894-21a517821b2d"
   },
   "outputs": [
    {
     "name": "stdout",
     "output_type": "stream",
     "text": [
      "\n",
      "==> 🛍️ Categories:\n",
      "plane: 6000\n",
      "car: 6000\n",
      "bird: 6000\n",
      "cat: 6000\n",
      "deer: 6000\n",
      "dog: 6000\n",
      "frog: 6000\n",
      "horse: 6000\n",
      "ship: 6000\n",
      "truck: 6000\n",
      "\n",
      "==> 🖖 Splits:\n",
      "train    42000\n",
      "val       9000\n",
      "test      9000\n",
      "Name: split, dtype: int64\n"
     ]
    }
   ],
   "source": [
    "# Split data\n",
    "split_df = split_data(\n",
    "    df=df, shuffle=config[\"shuffle\"],\n",
    "    train_size=config[\"train_size\"],\n",
    "    val_size=config[\"val_size\"],\n",
    "    test_size=config[\"test_size\"])"
   ]
  },
  {
   "cell_type": "markdown",
   "metadata": {
    "colab_type": "text",
    "id": "DlwbzIsL64yz"
   },
   "source": [
    "# Vocabulary"
   ]
  },
  {
   "cell_type": "markdown",
   "metadata": {
    "colab_type": "text",
    "id": "daGiSGEn7JZL"
   },
   "source": [
    "Create vocabularies for the image classes."
   ]
  },
  {
   "cell_type": "markdown",
   "metadata": {
    "colab_type": "text",
    "id": "cOH5OuG07Ohv"
   },
   "source": [
    "### Components"
   ]
  },
  {
   "cell_type": "code",
   "execution_count": 49,
   "metadata": {
    "colab": {},
    "colab_type": "code",
    "id": "hJzh14kmvKE6"
   },
   "outputs": [],
   "source": [
    "class Vocabulary(object):\n",
    "    def __init__(self, token_to_idx=None, add_unk=True, unk_token=\"<UNK>\"):\n",
    "\n",
    "        # Token to index\n",
    "        if token_to_idx is None:\n",
    "            token_to_idx = {}\n",
    "        self.token_to_idx = token_to_idx\n",
    "\n",
    "        # Index to token\n",
    "        self.idx_to_token = {idx: token \\\n",
    "                             for token, idx in self.token_to_idx.items()}\n",
    "        \n",
    "        # Add unknown token\n",
    "        self.add_unk = add_unk\n",
    "        self.unk_token = unk_token\n",
    "        if self.add_unk:\n",
    "            self.unk_index = self.add_token(self.unk_token)\n",
    "\n",
    "    def to_serializable(self):\n",
    "        return {'token_to_idx': self.token_to_idx,\n",
    "                'add_unk': self.add_unk, 'unk_token': self.unk_token}\n",
    "\n",
    "    @classmethod\n",
    "    def from_serializable(cls, contents):\n",
    "        return cls(**contents)\n",
    "\n",
    "    def add_token(self, token):\n",
    "        if token in self.token_to_idx:\n",
    "            index = self.token_to_idx[token]\n",
    "        else:\n",
    "            index = len(self.token_to_idx)\n",
    "            self.token_to_idx[token] = index\n",
    "            self.idx_to_token[index] = token\n",
    "        return index\n",
    "\n",
    "    def add_tokens(self, tokens):\n",
    "        return [self.add_token[token] for token in tokens]\n",
    "\n",
    "    def lookup_token(self, token):\n",
    "        if self.add_unk:\n",
    "            index = self.token_to_idx.get(token, self.unk_index)\n",
    "        else:\n",
    "            index =  self.token_to_idx[token]\n",
    "        return index\n",
    "\n",
    "    def lookup_index(self, index):\n",
    "        if index not in self.idx_to_token:\n",
    "            raise KeyError(\"the index (%d) is not in the Vocabulary\" % index)\n",
    "        return self.idx_to_token[index]\n",
    "\n",
    "    def __str__(self):\n",
    "        return \"<Vocabulary(size=%d)>\" % len(self)\n",
    "\n",
    "    def __len__(self):\n",
    "        return len(self.token_to_idx)"
   ]
  },
  {
   "cell_type": "markdown",
   "metadata": {
    "colab_type": "text",
    "id": "W60Z1cda7Pv2"
   },
   "source": [
    "### Operations"
   ]
  },
  {
   "cell_type": "code",
   "execution_count": 50,
   "metadata": {
    "colab": {
     "base_uri": "https://localhost:8080/",
     "height": 85
    },
    "colab_type": "code",
    "id": "NcufVLErvKCt",
    "outputId": "9d40c5d2-96dd-4e60-aca7-9c24f3ccc244"
   },
   "outputs": [
    {
     "name": "stdout",
     "output_type": "stream",
     "text": [
      "<Vocabulary(size=10)>\n",
      "10\n",
      "2\n",
      "bird\n"
     ]
    }
   ],
   "source": [
    "# Vocabulary instance\n",
    "category_vocab = Vocabulary(add_unk=False)\n",
    "for index, row in df.iterrows():\n",
    "    category_vocab.add_token(row.category)\n",
    "print (category_vocab) # __str__\n",
    "print (len(category_vocab)) # __len__\n",
    "index = category_vocab.lookup_token(\"bird\")\n",
    "print (index)\n",
    "print (category_vocab.lookup_index(index))"
   ]
  },
  {
   "cell_type": "markdown",
   "metadata": {
    "colab_type": "text",
    "id": "ubECmrcqZIHI"
   },
   "source": [
    "# Sequence vocbulary"
   ]
  },
  {
   "cell_type": "markdown",
   "metadata": {
    "colab_type": "text",
    "id": "mUee35g37m8k"
   },
   "source": [
    "We will also create a vocabulary object for the actual images. It will store the mean and standard deviations for eahc image channel (RGB) which we will use later on for normalizing our images with the Vectorizer."
   ]
  },
  {
   "cell_type": "code",
   "execution_count": 51,
   "metadata": {
    "colab": {},
    "colab_type": "code",
    "id": "37pGFTBiZIbm"
   },
   "outputs": [],
   "source": [
    "from collections import Counter\n",
    "import string"
   ]
  },
  {
   "cell_type": "markdown",
   "metadata": {
    "colab_type": "text",
    "id": "gbIKSQ5a7jsG"
   },
   "source": [
    "### Components"
   ]
  },
  {
   "cell_type": "code",
   "execution_count": 52,
   "metadata": {
    "colab": {},
    "colab_type": "code",
    "id": "YvWL2JcgZPaw"
   },
   "outputs": [],
   "source": [
    "class SequenceVocabulary(Vocabulary):\n",
    "    def __init__(self, train_means, train_stds):\n",
    "        \n",
    "        self.train_means = train_means\n",
    "        self.train_stds = train_stds\n",
    "        \n",
    "    def to_serializable(self):\n",
    "        contents = {'train_means': self.train_means,\n",
    "                    'train_stds': self.train_stds}\n",
    "        return contents\n",
    "    \n",
    "    @classmethod\n",
    "    def from_dataframe(cls, df):\n",
    "        train_data = df[df.split == \"train\"]\n",
    "        means = {0:[], 1:[], 2:[]}\n",
    "        stds = {0:[], 1:[], 2:[]}\n",
    "        for image in train_data.image:\n",
    "            for dim in range(3):\n",
    "                means[dim].append(np.mean(image[:, :, dim]))\n",
    "                stds[dim].append(np.std(image[:, :, dim]))\n",
    "        train_means = np.array((np.mean(means[0]), np.mean(means[1]), \n",
    "                                np.mean(means[2])), dtype=\"float64\").tolist()\n",
    "        train_stds = np.array((np.mean(stds[0]), np.mean(stds[1]), \n",
    "                               np.mean(stds[2])), dtype=\"float64\").tolist()\n",
    "            \n",
    "        return cls(train_means, train_stds)\n",
    "        \n",
    "    def __str__(self):\n",
    "        return \"<SequenceVocabulary(train_means: {0}, train_stds: {1}>\".format(\n",
    "            self.train_means, self.train_stds)"
   ]
  },
  {
   "cell_type": "markdown",
   "metadata": {
    "colab_type": "text",
    "id": "osFf9EGY71tT"
   },
   "source": [
    "### Operations"
   ]
  },
  {
   "cell_type": "code",
   "execution_count": 53,
   "metadata": {
    "colab": {
     "base_uri": "https://localhost:8080/",
     "height": 34
    },
    "colab_type": "code",
    "id": "-ODlh2wcahqH",
    "outputId": "df6e43f2-d6fb-41dd-c781-daa95565e07a"
   },
   "outputs": [
    {
     "name": "stdout",
     "output_type": "stream",
     "text": [
      "<SequenceVocabulary(train_means: [125.49060821533203, 123.18034362792969, 114.1384506225586], train_stds: [51.59408187866211, 50.860694885253906, 51.29096984863281]>\n"
     ]
    }
   ],
   "source": [
    "# Create SequenceVocabulary instance\n",
    "image_vocab = SequenceVocabulary.from_dataframe(split_df)\n",
    "print (image_vocab) # __str__"
   ]
  },
  {
   "cell_type": "markdown",
   "metadata": {
    "colab_type": "text",
    "id": "lUZKa0c9YD0V"
   },
   "source": [
    "# Vectorizer"
   ]
  },
  {
   "cell_type": "markdown",
   "metadata": {
    "colab_type": "text",
    "id": "-vlDb26u8BEy"
   },
   "source": [
    "The vectorizer will normalize our images using the vocabulary."
   ]
  },
  {
   "cell_type": "markdown",
   "metadata": {
    "colab_type": "text",
    "id": "DyfX-utj8JTz"
   },
   "source": [
    "### Components"
   ]
  },
  {
   "cell_type": "code",
   "execution_count": 54,
   "metadata": {
    "colab": {},
    "colab_type": "code",
    "id": "RyxHZLTFX5VC"
   },
   "outputs": [],
   "source": [
    "class ImageVectorizer(object):\n",
    "    def __init__(self, image_vocab, category_vocab):\n",
    "        self.image_vocab = image_vocab\n",
    "        self.category_vocab = category_vocab\n",
    "\n",
    "    def vectorize(self, image):\n",
    "        # Avoid modifying the actual df\n",
    "        image = np.copy(image)\n",
    "        \n",
    "        # Normalize\n",
    "        for dim in range(3):\n",
    "            mean = self.image_vocab.train_means[dim]\n",
    "            std = self.image_vocab.train_stds[dim]\n",
    "            image[:, :, dim] = ((image[:, :, dim] - mean) / std)\n",
    "            \n",
    "        # Reshape from (32, 32, 3) to (3, 32, 32)\n",
    "        image = np.swapaxes(image, 0, 2)\n",
    "        image = np.swapaxes(image, 1, 2)\n",
    "                \n",
    "        return image\n",
    "    \n",
    "    @classmethod\n",
    "    def from_dataframe(cls, df):\n",
    "        # Create vocabularies\n",
    "        image_vocab = SequenceVocabulary.from_dataframe(df)\n",
    "        category_vocab = Vocabulary(add_unk=False)   \n",
    "        for category in sorted(set(df.category)):\n",
    "            category_vocab.add_token(category)\n",
    "        return cls(image_vocab, category_vocab)\n",
    "\n",
    "    @classmethod\n",
    "    def from_serializable(cls, contents):\n",
    "        image_vocab = SequenceVocabulary.from_serializable(contents['image_vocab'])\n",
    "        category_vocab = Vocabulary.from_serializable(contents['category_vocab'])\n",
    "        return cls(image_vocab=image_vocab, \n",
    "                   category_vocab=category_vocab)\n",
    "    \n",
    "    def to_serializable(self):\n",
    "        return {'image_vocab': self.image_vocab.to_serializable(),\n",
    "                'category_vocab': self.category_vocab.to_serializable()}"
   ]
  },
  {
   "cell_type": "markdown",
   "metadata": {
    "colab_type": "text",
    "id": "kTxCnjAb8Kzn"
   },
   "source": [
    "### Operations"
   ]
  },
  {
   "cell_type": "code",
   "execution_count": 55,
   "metadata": {
    "colab": {
     "base_uri": "https://localhost:8080/",
     "height": 85
    },
    "colab_type": "code",
    "id": "yXWIhtFUiDUe",
    "outputId": "07849d6e-b269-43ed-ad80-86e51d0b2dbd"
   },
   "outputs": [
    {
     "name": "stdout",
     "output_type": "stream",
     "text": [
      "<SequenceVocabulary(train_means: [125.49060821533203, 123.18034362792969, 114.1384506225586], train_stds: [51.59408187866211, 50.860694885253906, 51.29096984863281]>\n",
      "<Vocabulary(size=10)>\n",
      "{'bird': 0, 'car': 1, 'cat': 2, 'deer': 3, 'dog': 4, 'frog': 5, 'horse': 6, 'plane': 7, 'ship': 8, 'truck': 9}\n",
      "(3, 32, 32)\n"
     ]
    }
   ],
   "source": [
    "# Vectorizer instance\n",
    "vectorizer = ImageVectorizer.from_dataframe(split_df)\n",
    "print (vectorizer.image_vocab)\n",
    "print (vectorizer.category_vocab)\n",
    "print (vectorizer.category_vocab.token_to_idx)\n",
    "image_vector = vectorizer.vectorize(split_df.iloc[0].image)\n",
    "print (image_vector.shape)"
   ]
  },
  {
   "cell_type": "markdown",
   "metadata": {
    "colab_type": "text",
    "id": "Xm7s9RPThF3c"
   },
   "source": [
    "# Dataset"
   ]
  },
  {
   "cell_type": "markdown",
   "metadata": {
    "colab_type": "text",
    "id": "22ptC-NZ9Ls1"
   },
   "source": [
    "The Dataset will create vectorized data from the data."
   ]
  },
  {
   "cell_type": "code",
   "execution_count": 56,
   "metadata": {
    "colab": {},
    "colab_type": "code",
    "id": "2mL4eEdNX5c1"
   },
   "outputs": [],
   "source": [
    "import random\n",
    "from torch.utils.data import Dataset, DataLoader"
   ]
  },
  {
   "cell_type": "markdown",
   "metadata": {
    "colab_type": "text",
    "id": "TtnGYqxk9Hxc"
   },
   "source": [
    "### Components"
   ]
  },
  {
   "cell_type": "code",
   "execution_count": 57,
   "metadata": {
    "colab": {},
    "colab_type": "code",
    "id": "Dzegh16nX5fY"
   },
   "outputs": [],
   "source": [
    "class ImageDataset(Dataset):\n",
    "    def __init__(self, df, vectorizer, infer=False):\n",
    "        self.df = df\n",
    "        self.vectorizer = vectorizer\n",
    "        \n",
    "        # Data splits\n",
    "        if not infer:\n",
    "            self.train_df = self.df[self.df.split=='train']\n",
    "            self.train_size = len(self.train_df)\n",
    "            self.val_df = self.df[self.df.split=='val']\n",
    "            self.val_size = len(self.val_df)\n",
    "            self.test_df = self.df[self.df.split=='test']\n",
    "            self.test_size = len(self.test_df)\n",
    "            self.lookup_dict = {'train': (self.train_df, self.train_size), \n",
    "                                'val': (self.val_df, self.val_size),\n",
    "                                'test': (self.test_df, self.test_size)}\n",
    "            self.set_split('train')\n",
    "\n",
    "            # Class weights (for imbalances)\n",
    "            class_counts = df.category.value_counts().to_dict()\n",
    "            def sort_key(item):\n",
    "                return self.vectorizer.category_vocab.lookup_token(item[0])\n",
    "            sorted_counts = sorted(class_counts.items(), key=sort_key)\n",
    "            frequencies = [count for _, count in sorted_counts]\n",
    "            self.class_weights = 1.0 / torch.tensor(frequencies, dtype=torch.float32)\n",
    "        elif infer:\n",
    "            self.infer_df = self.df[self.df.split==\"infer\"]\n",
    "            self.infer_size = len(self.infer_df)\n",
    "            self.lookup_dict = {'infer': (self.infer_df, self.infer_size)}\n",
    "            self.set_split('infer')\n",
    "\n",
    "    @classmethod\n",
    "    def load_dataset_and_make_vectorizer(cls, df):\n",
    "        train_df = df[df.split=='train']\n",
    "        return cls(df, ImageVectorizer.from_dataframe(train_df))\n",
    "\n",
    "    @classmethod\n",
    "    def load_dataset_and_load_vectorizer(cls, df, vectorizer_filepath):\n",
    "        vectorizer = cls.load_vectorizer_only(vectorizer_filepath)\n",
    "        return cls(df, vectorizer)\n",
    "\n",
    "    def load_vectorizer_only(vectorizer_filepath):\n",
    "        with open(vectorizer_filepath) as fp:\n",
    "            return ImageVectorizer.from_serializable(json.load(fp))\n",
    "\n",
    "    def save_vectorizer(self, vectorizer_filepath):\n",
    "        with open(vectorizer_filepath, \"w\") as fp:\n",
    "            json.dump(self.vectorizer.to_serializable(), fp)\n",
    "\n",
    "    def set_split(self, split=\"train\"):\n",
    "        self.target_split = split\n",
    "        self.target_df, self.target_size = self.lookup_dict[split]\n",
    "\n",
    "    def __str__(self):\n",
    "        return \"<Dataset(split={0}, size={1})\".format(\n",
    "            self.target_split, self.target_size)\n",
    "\n",
    "    def __len__(self):\n",
    "        return self.target_size\n",
    "\n",
    "    def __getitem__(self, index):\n",
    "        row = self.target_df.iloc[index]\n",
    "        image_vector = self.vectorizer.vectorize(row.image)\n",
    "        category_index = self.vectorizer.category_vocab.lookup_token(row.category)\n",
    "        return {'image': image_vector, \n",
    "                'category': category_index}\n",
    "\n",
    "    def get_num_batches(self, batch_size):\n",
    "        return len(self) // batch_size\n",
    "\n",
    "    def generate_batches(self, batch_size, shuffle=True, drop_last=True, device=\"cpu\"):\n",
    "        dataloader = DataLoader(dataset=self, batch_size=batch_size, \n",
    "                                shuffle=shuffle, drop_last=drop_last)\n",
    "        for data_dict in dataloader:\n",
    "            out_data_dict = {}\n",
    "            for name, tensor in data_dict.items():\n",
    "                out_data_dict[name] = data_dict[name].to(device)\n",
    "            yield out_data_dict"
   ]
  },
  {
   "cell_type": "code",
   "execution_count": 58,
   "metadata": {
    "colab": {},
    "colab_type": "code",
    "id": "BMZbi-S29VQP"
   },
   "outputs": [],
   "source": [
    "def sample(dataset):\n",
    "    \"\"\"Some sanity checks on the dataset.\n",
    "    \"\"\"\n",
    "    sample_idx = random.randint(0,len(dataset))\n",
    "    sample = dataset[sample_idx]\n",
    "    print (\"\\n==> 🔢 Dataset:\")\n",
    "    print (\"Random sample: {0}\".format(sample))\n",
    "    print (\"Unvectorized category: {0}\".format(\n",
    "        dataset.vectorizer.category_vocab.lookup_index(sample['category'])))"
   ]
  },
  {
   "cell_type": "markdown",
   "metadata": {
    "colab_type": "text",
    "id": "DZKAha5f9VVG"
   },
   "source": [
    "### Operations"
   ]
  },
  {
   "cell_type": "code",
   "execution_count": 59,
   "metadata": {
    "colab": {
     "base_uri": "https://localhost:8080/",
     "height": 51
    },
    "colab_type": "code",
    "id": "-sW6otUGX5iA",
    "outputId": "87911deb-a842-447c-8c58-5cef1591070a"
   },
   "outputs": [
    {
     "name": "stdout",
     "output_type": "stream",
     "text": [
      "tensor([0.0002, 0.0002, 0.0002, 0.0002, 0.0002, 0.0002, 0.0002, 0.0002, 0.0002,\n",
      "        0.0002])\n"
     ]
    }
   ],
   "source": [
    "# Load dataset and vectorizer\n",
    "dataset = ImageDataset.load_dataset_and_make_vectorizer(split_df)\n",
    "dataset.save_vectorizer(config[\"vectorizer_file\"])\n",
    "vectorizer = dataset.vectorizer\n",
    "print (dataset.class_weights)"
   ]
  },
  {
   "cell_type": "code",
   "execution_count": 60,
   "metadata": {
    "colab": {},
    "colab_type": "code",
    "id": "_TKZjOyM9liD"
   },
   "outputs": [
    {
     "name": "stdout",
     "output_type": "stream",
     "text": [
      "\n",
      "==> 🔢 Dataset:\n",
      "Random sample: {'image': array([[[ 2.51016   ,  2.4713957 ,  2.4713957 , ...,  2.4520137 ,\n",
      "          2.4520137 ,  2.51016   ],\n",
      "        [ 2.51016   ,  2.51016   ,  2.51016   , ...,  2.51016   ,\n",
      "          2.51016   ,  2.51016   ],\n",
      "        [ 2.490778  ,  2.4520137 ,  2.4520137 , ...,  2.4713957 ,\n",
      "          2.4713957 ,  2.51016   ],\n",
      "        ...,\n",
      "        [ 2.4326315 ,  2.3357213 ,  2.3163393 , ...,  0.843302  ,\n",
      "          2.258193  ,  2.51016   ],\n",
      "        [ 2.51016   ,  2.4713957 ,  2.4713957 , ...,  0.20369375,\n",
      "          1.5216744 ,  2.51016   ],\n",
      "        [ 2.51016   ,  2.490778  ,  2.490778  , ...,  1.8899337 ,\n",
      "          2.2194288 ,  2.51016   ]],\n",
      "\n",
      "       [[ 2.5524554 ,  2.5131323 ,  2.5131323 , ...,  2.5327938 ,\n",
      "          2.5327938 ,  2.5917785 ],\n",
      "        [ 2.5917785 ,  2.5721169 ,  2.5721169 , ...,  2.5917785 ,\n",
      "          2.5917785 ,  2.5917785 ],\n",
      "        [ 2.5917785 ,  2.5524554 ,  2.5524554 , ...,  2.5524554 ,\n",
      "          2.5524554 ,  2.5917785 ],\n",
      "        ...,\n",
      "        [ 2.4344862 ,  2.35584   ,  2.2968552 , ...,  0.56663907,\n",
      "          1.785655  ,  1.9822705 ],\n",
      "        [ 2.5917785 ,  2.5524554 ,  2.5524554 , ..., -0.00354583,\n",
      "          1.3137779 ,  2.35584   ],\n",
      "        [ 2.5917785 ,  2.5721169 ,  2.5721169 , ...,  1.8053166 ,\n",
      "          2.1395628 ,  2.4738092 ]],\n",
      "\n",
      "       [[ 2.7463224 ,  2.7073293 ,  2.7073293 , ...,  2.6878326 ,\n",
      "          2.6878326 ,  2.7463224 ],\n",
      "        [ 2.7463224 ,  2.7463224 ,  2.7463224 , ...,  2.7463224 ,\n",
      "          2.7463224 ,  2.7463224 ],\n",
      "        [ 2.7463224 ,  2.7073293 ,  2.7073293 , ...,  2.7073293 ,\n",
      "          2.7073293 ,  2.7463224 ],\n",
      "        ...,\n",
      "        [ 2.6488395 ,  2.5513563 ,  2.5318596 , ...,  0.99162775,\n",
      "          2.083438  ,  2.2394106 ],\n",
      "        [ 2.7463224 ,  2.7073293 ,  2.7073293 , ...,  0.36773625,\n",
      "          1.5960226 ,  2.5318596 ],\n",
      "        [ 2.7463224 ,  2.726826  ,  2.726826  , ...,  2.1029346 ,\n",
      "          2.375887  ,  2.6293428 ]]], dtype=float32), 'category': 9}\n",
      "Unvectorized category: truck\n"
     ]
    }
   ],
   "source": [
    "# Sample checks\n",
    "sample(dataset=dataset)"
   ]
  },
  {
   "cell_type": "markdown",
   "metadata": {
    "colab_type": "text",
    "id": "SjPHp36i3G_i"
   },
   "source": [
    "# Model"
   ]
  },
  {
   "cell_type": "markdown",
   "metadata": {
    "colab_type": "text",
    "id": "KPgY8JDi9_GO"
   },
   "source": [
    "Basic CNN architecture for image classification."
   ]
  },
  {
   "cell_type": "code",
   "execution_count": 61,
   "metadata": {
    "colab": {},
    "colab_type": "code",
    "id": "bPaf6Dy2X5ko"
   },
   "outputs": [],
   "source": [
    "import torch.nn as nn\n",
    "import torch.nn.functional as F"
   ]
  },
  {
   "cell_type": "markdown",
   "metadata": {
    "colab_type": "text",
    "id": "OdZfoEKc-BBm"
   },
   "source": [
    "### Components"
   ]
  },
  {
   "cell_type": "code",
   "execution_count": 62,
   "metadata": {
    "colab": {},
    "colab_type": "code",
    "id": "RKRPzX1nX5nN"
   },
   "outputs": [],
   "source": [
    "class ImageModel(nn.Module):\n",
    "    def __init__(self, num_hidden_units, num_classes, dropout_p):\n",
    "        super(ImageModel, self).__init__()\n",
    "        self.conv1 = nn.Conv2d(3, 10, kernel_size=5) # input_channels:3, output_channels:10 (aka num filters)\n",
    "        self.conv2 = nn.Conv2d(10, 20, kernel_size=5) \n",
    "        self.conv_dropout = nn.Dropout2d(dropout_p)\n",
    "        self.fc1 = nn.Linear(20*5*5, num_hidden_units)\n",
    "        self.dropout = nn.Dropout(dropout_p)\n",
    "        self.fc2 = nn.Linear(num_hidden_units, num_classes)\n",
    "\n",
    "    def forward(self, x, apply_softmax=False):\n",
    "        # Conv pool\n",
    "        z = self.conv1(x) # (N, 10, 28, 28)\n",
    "        z = F.max_pool2d(z, 2) # (N, 10, 14, 14)\n",
    "        z = F.relu(z)\n",
    "        \n",
    "        # Conv pool\n",
    "        z = self.conv2(z) # (N, 20, 10, 10)\n",
    "        z = self.conv_dropout(z) \n",
    "        z = F.max_pool2d(z, 2) # (N, 20, 5, 5)\n",
    "        z = F.relu(z)\n",
    "        \n",
    "        # Flatten\n",
    "        z = z.view(-1, 20*5*5)\n",
    "        \n",
    "        # FC\n",
    "        z = F.relu(self.fc1(z))\n",
    "        z = self.dropout(z)\n",
    "        y_pred = self.fc2(z)\n",
    "        \n",
    "        if apply_softmax:\n",
    "            y_pred = F.softmax(y_pred, dim=1)\n",
    "        return y_pred "
   ]
  },
  {
   "cell_type": "code",
   "execution_count": 63,
   "metadata": {
    "colab": {},
    "colab_type": "code",
    "id": "lMKxHPxs-JlA"
   },
   "outputs": [],
   "source": [
    "def initialize_model(config, vectorizer):\n",
    "    \"\"\"Initialize the model.\n",
    "    \"\"\"\n",
    "    print (\"\\n==> 🚀 Initializing model:\")\n",
    "    model = ImageModel(\n",
    "       num_hidden_units=config[\"fc\"][\"hidden_dim\"], \n",
    "       num_classes=len(vectorizer.category_vocab),\n",
    "       dropout_p=config[\"fc\"][\"dropout_p\"])\n",
    "    print (model.named_modules)\n",
    "    return model"
   ]
  },
  {
   "cell_type": "markdown",
   "metadata": {
    "colab_type": "text",
    "id": "wSZOM8Xw-I8O"
   },
   "source": [
    "### Operations"
   ]
  },
  {
   "cell_type": "code",
   "execution_count": 64,
   "metadata": {
    "colab": {
     "base_uri": "https://localhost:8080/",
     "height": 187
    },
    "colab_type": "code",
    "id": "z5C6DfY3-QXr",
    "outputId": "fd88fc88-41e7-4511-c08a-d40303d21bb8"
   },
   "outputs": [
    {
     "name": "stdout",
     "output_type": "stream",
     "text": [
      "\n",
      "==> 🚀 Initializing model:\n",
      "<bound method Module.named_modules of ImageModel(\n",
      "  (conv1): Conv2d(3, 10, kernel_size=(5, 5), stride=(1, 1))\n",
      "  (conv2): Conv2d(10, 20, kernel_size=(5, 5), stride=(1, 1))\n",
      "  (conv_dropout): Dropout2d(p=0.1)\n",
      "  (fc1): Linear(in_features=500, out_features=100, bias=True)\n",
      "  (dropout): Dropout(p=0.1)\n",
      "  (fc2): Linear(in_features=100, out_features=10, bias=True)\n",
      ")>\n"
     ]
    }
   ],
   "source": [
    "# Initializing model\n",
    "model = initialize_model(config=config, vectorizer=vectorizer)"
   ]
  },
  {
   "cell_type": "markdown",
   "metadata": {
    "colab_type": "text",
    "id": "jAiIbY9TBGef"
   },
   "source": [
    "# Training"
   ]
  },
  {
   "cell_type": "markdown",
   "metadata": {
    "colab_type": "text",
    "id": "w5yLzB4XG5aw"
   },
   "source": [
    "Training operations for image classification."
   ]
  },
  {
   "cell_type": "code",
   "execution_count": 65,
   "metadata": {
    "colab": {},
    "colab_type": "code",
    "id": "bnMvjt9JX5p4"
   },
   "outputs": [],
   "source": [
    "import torch.optim as optim"
   ]
  },
  {
   "cell_type": "markdown",
   "metadata": {
    "colab_type": "text",
    "id": "kCkVhv54G6Ui"
   },
   "source": [
    "### Components"
   ]
  },
  {
   "cell_type": "code",
   "execution_count": 66,
   "metadata": {
    "colab": {},
    "colab_type": "code",
    "id": "z8dxixyVHAi8"
   },
   "outputs": [],
   "source": [
    "def compute_accuracy(y_pred, y_target):\n",
    "    _, y_pred_indices = y_pred.max(dim=1)\n",
    "    n_correct = torch.eq(y_pred_indices, y_target).sum().item()\n",
    "    return n_correct / len(y_pred_indices) * 100"
   ]
  },
  {
   "cell_type": "code",
   "execution_count": 67,
   "metadata": {
    "colab": {},
    "colab_type": "code",
    "id": "FhDr6F8-HAyf"
   },
   "outputs": [],
   "source": [
    "def update_train_state(model, train_state):\n",
    "    \"\"\" Update train state during training.\n",
    "    \"\"\"\n",
    "    # Verbose\n",
    "    print (\"[EPOCH]: {0} | [LR]: {1} | [TRAIN LOSS]: {2:.2f} | [TRAIN ACC]: {3:.1f}% | [VAL LOSS]: {4:.2f} | [VAL ACC]: {5:.1f}%\".format(\n",
    "      train_state['epoch_index'], train_state['learning_rate'], \n",
    "        train_state['train_loss'][-1], train_state['train_acc'][-1], \n",
    "        train_state['val_loss'][-1], train_state['val_acc'][-1]))\n",
    "\n",
    "    # Save one model at least\n",
    "    if train_state['epoch_index'] == 0:\n",
    "        torch.save(model.state_dict(), train_state['model_filename'])\n",
    "        train_state['stop_early'] = False\n",
    "\n",
    "    # Save model if performance improved\n",
    "    elif train_state['epoch_index'] >= 1:\n",
    "        loss_tm1, loss_t = train_state['val_loss'][-2:]\n",
    "\n",
    "        # If loss worsened\n",
    "        if loss_t >= train_state['early_stopping_best_val']:\n",
    "            # Update step\n",
    "            train_state['early_stopping_step'] += 1\n",
    "\n",
    "        # Loss decreased\n",
    "        else:\n",
    "            # Save the best model\n",
    "            if loss_t < train_state['early_stopping_best_val']:\n",
    "                torch.save(model.state_dict(), train_state['model_filename'])\n",
    "\n",
    "            # Reset early stopping step\n",
    "            train_state['early_stopping_step'] = 0\n",
    "\n",
    "        # Stop early ?\n",
    "        train_state['stop_early'] = train_state['early_stopping_step'] \\\n",
    "          >= train_state['early_stopping_criteria']\n",
    "    return train_state"
   ]
  },
  {
   "cell_type": "code",
   "execution_count": 68,
   "metadata": {
    "colab": {},
    "colab_type": "code",
    "id": "Yw8Ek3fvHAwT"
   },
   "outputs": [],
   "source": [
    "class Trainer(object):\n",
    "    def __init__(self, dataset, model, model_file, device, shuffle, \n",
    "               num_epochs, batch_size, learning_rate, early_stopping_criteria):\n",
    "        self.dataset = dataset\n",
    "        self.class_weights = dataset.class_weights.to(device)\n",
    "        self.model = model.to(device)\n",
    "        self.device = device\n",
    "        self.shuffle = shuffle\n",
    "        self.num_epochs = num_epochs\n",
    "        self.batch_size = batch_size\n",
    "        self.loss_func = nn.CrossEntropyLoss(self.class_weights)\n",
    "        self.optimizer = optim.Adam(self.model.parameters(), lr=learning_rate)\n",
    "        self.scheduler = optim.lr_scheduler.ReduceLROnPlateau(\n",
    "            optimizer=self.optimizer, mode='min', factor=0.5, patience=1)\n",
    "        self.train_state = {\n",
    "            'done_training': False,\n",
    "            'stop_early': False, \n",
    "            'early_stopping_step': 0,\n",
    "            'early_stopping_best_val': 1e8,\n",
    "            'early_stopping_criteria': early_stopping_criteria,\n",
    "            'learning_rate': learning_rate,\n",
    "            'epoch_index': 0,\n",
    "            'train_loss': [],\n",
    "            'train_acc': [],\n",
    "            'val_loss': [],\n",
    "            'val_acc': [],\n",
    "            'test_loss': -1,\n",
    "            'test_acc': -1,\n",
    "            'model_filename': model_file}\n",
    "  \n",
    "    def run_train_loop(self):\n",
    "        print (\"==> 🏋 Training:\")\n",
    "        for epoch_index in range(self.num_epochs):\n",
    "            self.train_state['epoch_index'] = epoch_index\n",
    "      \n",
    "            # Iterate over train dataset\n",
    "\n",
    "            # initialize batch generator, set loss and acc to 0, set train mode on\n",
    "            self.dataset.set_split('train')\n",
    "            batch_generator = self.dataset.generate_batches(\n",
    "                batch_size=self.batch_size, shuffle=self.shuffle, \n",
    "                device=self.device)\n",
    "            running_loss = 0.0\n",
    "            running_acc = 0.0\n",
    "            self.model.train()\n",
    "\n",
    "            for batch_index, batch_dict in enumerate(batch_generator):\n",
    "                # zero the gradients\n",
    "                self.optimizer.zero_grad()\n",
    "\n",
    "                # compute the output\n",
    "                y_pred = self.model(batch_dict['image'])\n",
    "\n",
    "                # compute the loss\n",
    "                loss = self.loss_func(y_pred, batch_dict['category'])\n",
    "                loss_t = loss.item()\n",
    "                running_loss += (loss_t - running_loss) / (batch_index + 1)\n",
    "\n",
    "                # compute gradients using loss\n",
    "                loss.backward()\n",
    "\n",
    "                # use optimizer to take a gradient step\n",
    "                self.optimizer.step()\n",
    "                \n",
    "                # compute the accuracy\n",
    "                acc_t = compute_accuracy(y_pred, batch_dict['category'])\n",
    "                running_acc += (acc_t - running_acc) / (batch_index + 1)\n",
    "\n",
    "            self.train_state['train_loss'].append(running_loss)\n",
    "            self.train_state['train_acc'].append(running_acc)\n",
    "\n",
    "            # Iterate over val dataset\n",
    "\n",
    "            # initialize batch generator, set loss and acc to 0; set eval mode on\n",
    "            self.dataset.set_split('val')\n",
    "            batch_generator = self.dataset.generate_batches(\n",
    "                batch_size=self.batch_size, shuffle=self.shuffle, device=self.device)\n",
    "            running_loss = 0.\n",
    "            running_acc = 0.\n",
    "            self.model.eval()\n",
    "\n",
    "            for batch_index, batch_dict in enumerate(batch_generator):\n",
    "\n",
    "                # compute the output\n",
    "                y_pred =  self.model(batch_dict['image'])\n",
    "\n",
    "                # compute the loss\n",
    "                loss = self.loss_func(y_pred, batch_dict['category'])\n",
    "                loss_t = loss.to(\"cpu\").item()\n",
    "                running_loss += (loss_t - running_loss) / (batch_index + 1)\n",
    "\n",
    "                # compute the accuracy\n",
    "                acc_t = compute_accuracy(y_pred, batch_dict['category'])\n",
    "                running_acc += (acc_t - running_acc) / (batch_index + 1)\n",
    "\n",
    "            self.train_state['val_loss'].append(running_loss)\n",
    "            self.train_state['val_acc'].append(running_acc)\n",
    "\n",
    "            self.train_state = update_train_state(model=self.model, train_state=self.train_state)\n",
    "            self.scheduler.step(self.train_state['val_loss'][-1])\n",
    "            if self.train_state['stop_early']:\n",
    "                break\n",
    "          \n",
    "    def run_test_loop(self):\n",
    "        # initialize batch generator, set loss and acc to 0; set eval mode on\n",
    "        self.dataset.set_split('test')\n",
    "        batch_generator = self.dataset.generate_batches(\n",
    "            batch_size=self.batch_size, shuffle=self.shuffle, device=self.device)\n",
    "        running_loss = 0.0\n",
    "        running_acc = 0.0\n",
    "        self.model.eval()\n",
    "\n",
    "        for batch_index, batch_dict in enumerate(batch_generator):\n",
    "            # compute the output\n",
    "            y_pred =  self.model(batch_dict['image'])\n",
    "\n",
    "            # compute the loss\n",
    "            loss = self.loss_func(y_pred, batch_dict['category'])\n",
    "            loss_t = loss.item()\n",
    "            running_loss += (loss_t - running_loss) / (batch_index + 1)\n",
    "\n",
    "            # compute the accuracy\n",
    "            acc_t = compute_accuracy(y_pred, batch_dict['category'])\n",
    "            running_acc += (acc_t - running_acc) / (batch_index + 1)\n",
    "\n",
    "        self.train_state['test_loss'] = running_loss\n",
    "        self.train_state['test_acc'] = running_acc\n",
    "        \n",
    "        # Verbose\n",
    "        print (\"==> 💯 Test performance:\")\n",
    "        print (\"Test loss: {0:.2f}\".format(self.train_state['test_loss']))\n",
    "        print (\"Test Accuracy: {0:.1f}%\".format(self.train_state['test_acc']))"
   ]
  },
  {
   "cell_type": "code",
   "execution_count": 69,
   "metadata": {
    "colab": {},
    "colab_type": "code",
    "id": "MVqHg8rqHAt5"
   },
   "outputs": [],
   "source": [
    "def plot_performance(train_state, save_dir, show_plot=True):\n",
    "    \"\"\" Plot loss and accuracy.\n",
    "    \"\"\"\n",
    "    # Figure size\n",
    "    plt.figure(figsize=(15,5))\n",
    "\n",
    "    # Plot Loss\n",
    "    plt.subplot(1, 2, 1)\n",
    "    plt.title(\"Loss\")\n",
    "    plt.plot(train_state[\"train_loss\"], label=\"train\")\n",
    "    plt.plot(train_state[\"val_loss\"], label=\"val\")\n",
    "    plt.legend(loc='upper right')\n",
    "\n",
    "    # Plot Accuracy\n",
    "    plt.subplot(1, 2, 2)\n",
    "    plt.title(\"Accuracy\")\n",
    "    plt.plot(train_state[\"train_acc\"], label=\"train\")\n",
    "    plt.plot(train_state[\"val_acc\"], label=\"val\")\n",
    "    plt.legend(loc='lower right')\n",
    "\n",
    "    # Save figure\n",
    "    plt.savefig(os.path.join(save_dir, \"performance.png\"))\n",
    "\n",
    "    # Show plots\n",
    "    if show_plot:\n",
    "        print (\"==> 📈 Metric plots:\")\n",
    "        plt.show()"
   ]
  },
  {
   "cell_type": "code",
   "execution_count": 70,
   "metadata": {
    "colab": {},
    "colab_type": "code",
    "id": "H_dN8IRRHArg"
   },
   "outputs": [],
   "source": [
    "def save_train_state(train_state, save_dir):\n",
    "    train_state[\"done_training\"] = True\n",
    "    with open(os.path.join(save_dir, \"train_state.json\"), \"w\") as fp:\n",
    "        json.dump(train_state, fp)\n",
    "    print (\"==> ✅ Training complete!\")"
   ]
  },
  {
   "cell_type": "markdown",
   "metadata": {
    "colab_type": "text",
    "id": "7yLIizWvI-KV"
   },
   "source": [
    "### Operations"
   ]
  },
  {
   "cell_type": "code",
   "execution_count": 71,
   "metadata": {
    "colab": {
     "base_uri": "https://localhost:8080/",
     "height": 119
    },
    "colab_type": "code",
    "id": "EtJhoyL2HApb",
    "outputId": "732330ab-2990-4c03-84e5-59b278155ccd"
   },
   "outputs": [
    {
     "name": "stdout",
     "output_type": "stream",
     "text": [
      "==> 🏋 Training:\n",
      "[EPOCH]: 0 | [LR]: 0.001 | [TRAIN LOSS]: 1.69 | [TRAIN ACC]: 38.6% | [VAL LOSS]: 1.45 | [VAL ACC]: 48.0%\n",
      "[EPOCH]: 1 | [LR]: 0.001 | [TRAIN LOSS]: 1.39 | [TRAIN ACC]: 49.8% | [VAL LOSS]: 1.28 | [VAL ACC]: 54.4%\n",
      "[EPOCH]: 2 | [LR]: 0.001 | [TRAIN LOSS]: 1.28 | [TRAIN ACC]: 54.5% | [VAL LOSS]: 1.19 | [VAL ACC]: 57.3%\n",
      "[EPOCH]: 3 | [LR]: 0.001 | [TRAIN LOSS]: 1.20 | [TRAIN ACC]: 57.5% | [VAL LOSS]: 1.13 | [VAL ACC]: 60.2%\n",
      "[EPOCH]: 4 | [LR]: 0.001 | [TRAIN LOSS]: 1.14 | [TRAIN ACC]: 59.7% | [VAL LOSS]: 1.08 | [VAL ACC]: 61.6%\n"
     ]
    }
   ],
   "source": [
    "# Training\n",
    "trainer = Trainer(\n",
    "    dataset=dataset, model=model, model_file=config[\"model_file\"],\n",
    "    device=config[\"device\"], shuffle=config[\"shuffle\"], \n",
    "    num_epochs=config[\"num_epochs\"], batch_size=config[\"batch_size\"], \n",
    "    learning_rate=config[\"learning_rate\"], \n",
    "    early_stopping_criteria=config[\"early_stopping_criteria\"])\n",
    "trainer.run_train_loop()"
   ]
  },
  {
   "cell_type": "code",
   "execution_count": 72,
   "metadata": {
    "colab": {
     "base_uri": "https://localhost:8080/",
     "height": 352
    },
    "colab_type": "code",
    "id": "2G6I5YWtt_Ea",
    "outputId": "c3fc5823-0f0a-43cc-d3fc-9cd067852734"
   },
   "outputs": [
    {
     "name": "stdout",
     "output_type": "stream",
     "text": [
      "==> 📈 Metric plots:\n"
     ]
    },
    {
     "data": {
      "image/png": "[encoded data removed]",
      "text/plain": [
       "<Figure size 1080x360 with 2 Axes>"
      ]
     },
     "metadata": {
      "needs_background": "light"
     },
     "output_type": "display_data"
    }
   ],
   "source": [
    "# Plot performance\n",
    "plot_performance(train_state=trainer.train_state, \n",
    "                 save_dir=config[\"save_dir\"], show_plot=True)"
   ]
  },
  {
   "cell_type": "code",
   "execution_count": 73,
   "metadata": {
    "colab": {
     "base_uri": "https://localhost:8080/",
     "height": 68
    },
    "colab_type": "code",
    "id": "Iz3G5eaTS04m",
    "outputId": "fbb86f93-da9f-4691-cc83-98bfd5a04c13"
   },
   "outputs": [
    {
     "name": "stdout",
     "output_type": "stream",
     "text": [
      "==> 💯 Test performance:\n",
      "Test loss: 1.08\n",
      "Test Accuracy: 63.1%\n"
     ]
    }
   ],
   "source": [
    "# Test performance\n",
    "trainer.run_test_loop()"
   ]
  },
  {
   "cell_type": "code",
   "execution_count": 74,
   "metadata": {
    "colab": {
     "base_uri": "https://localhost:8080/",
     "height": 34
    },
    "colab_type": "code",
    "id": "kqMzljfpS09F",
    "outputId": "4a2523aa-c54b-4fee-8f66-37acb5577457"
   },
   "outputs": [
    {
     "name": "stdout",
     "output_type": "stream",
     "text": [
      "==> ✅ Training complete!\n"
     ]
    }
   ],
   "source": [
    "# Save all results\n",
    "save_train_state(train_state=trainer.train_state, save_dir=config[\"save_dir\"])"
   ]
  },
  {
   "cell_type": "markdown",
   "metadata": {
    "colab_type": "text",
    "id": "1fMNOVJUYvhs"
   },
   "source": [
    "~60% test performance for our CIFAR10 dataset is not bad but we can do way better."
   ]
  },
  {
   "cell_type": "markdown",
   "metadata": {
    "colab_type": "text",
    "id": "P9DcE8tHYvfX"
   },
   "source": [
    "# Transfer learning"
   ]
  },
  {
   "cell_type": "markdown",
   "metadata": {
    "colab_type": "text",
    "id": "EclYytw6Swh-"
   },
   "source": [
    "In this section, we're going to use a pretrained model that performs very well on a different dataset. We're going to take the architecture and the initial convolutional weights from the model to use on our data. We will freeze the initial convolutional weights and fine tune the later convolutional and fully-connected layers. \n",
    "\n",
    "Transfer learning works here because the initial convolution layers act as excellent feature extractors for common spatial features that are shared across images regardless of their class. We're going to leverage these large, pretrained models' feature extractors for our own dataset."
   ]
  },
  {
   "cell_type": "code",
   "execution_count": null,
   "metadata": {
    "colab": {},
    "colab_type": "code",
    "id": "D8w9CEDeONTY"
   },
   "outputs": [],
   "source": [
    "!pip install torchvision"
   ]
  },
  {
   "cell_type": "code",
   "execution_count": 76,
   "metadata": {
    "colab": {},
    "colab_type": "code",
    "id": "mxl4PEfqTMwm"
   },
   "outputs": [],
   "source": [
    "from torchvision import models"
   ]
  },
  {
   "cell_type": "code",
   "execution_count": 77,
   "metadata": {
    "colab": {
     "base_uri": "https://localhost:8080/",
     "height": 54
    },
    "colab_type": "code",
    "id": "GjufXPDJTB7W",
    "outputId": "7eb92456-10c4-416d-a658-7db3d5e9ad38"
   },
   "outputs": [
    {
     "name": "stdout",
     "output_type": "stream",
     "text": [
      "['alexnet', 'densenet121', 'densenet161', 'densenet169', 'densenet201', 'inception_v3', 'resnet101', 'resnet152', 'resnet18', 'resnet34', 'resnet50', 'squeezenet1_0', 'squeezenet1_1', 'vgg11', 'vgg11_bn', 'vgg13', 'vgg13_bn', 'vgg16', 'vgg16_bn', 'vgg19', 'vgg19_bn']\n"
     ]
    }
   ],
   "source": [
    "model_names = sorted(name for name in models.__dict__\n",
    "    if name.islower() and not name.startswith(\"__\")\n",
    "    and callable(models.__dict__[name]))\n",
    "print (model_names)"
   ]
  },
  {
   "cell_type": "code",
   "execution_count": null,
   "metadata": {
    "colab": {},
    "colab_type": "code",
    "id": "daJN4BSWS016"
   },
   "outputs": [],
   "source": [
    "model_name = 'vgg19_bn'\n",
    "vgg_19bn = models.__dict__[model_name](pretrained=True) # Set false to train from scratch\n",
    "print (vgg_19bn.named_parameters)"
   ]
  },
  {
   "cell_type": "markdown",
   "metadata": {
    "colab_type": "text",
    "id": "XBudDGFz1j87"
   },
   "source": [
    "The VGG model we chose has a `features` and a `classifier` component. The `features` component is composed of convolution and pooling layers which act as feature extractors. The `classifier` component is composed on fully connected layers. We're going to freeze most of the `feature` component and design our own FC layers for our CIFAR10 task. You can access the default code for all models at `/usr/local/lib/python3.6/dist-packages/torchvision/models` if you prefer cloning and modifying that instead."
   ]
  },
  {
   "cell_type": "markdown",
   "metadata": {
    "colab_type": "text",
    "id": "5rz1g7FrOlQg"
   },
   "source": [
    "### Components"
   ]
  },
  {
   "cell_type": "code",
   "execution_count": 79,
   "metadata": {
    "colab": {},
    "colab_type": "code",
    "id": "YmzQIXsd59Rj"
   },
   "outputs": [],
   "source": [
    "class ImageModel(nn.Module):\n",
    "    def __init__(self, feature_extractor, num_hidden_units, \n",
    "                 num_classes, dropout_p):\n",
    "        super(ImageModel, self).__init__()\n",
    "        \n",
    "        # Pretrained feature extractor\n",
    "        self.feature_extractor = feature_extractor\n",
    "        \n",
    "        # FC weights\n",
    "        self.classifier = nn.Sequential(\n",
    "            nn.Linear(512, 250, bias=True),\n",
    "            nn.ReLU(),\n",
    "            nn.Dropout(0.5),\n",
    "            nn.Linear(250, 100, bias=True),\n",
    "            nn.ReLU(),\n",
    "            nn.Dropout(0.5),\n",
    "            nn.Linear(100, 10, bias=True),\n",
    "            )\n",
    "\n",
    "    def forward(self, x, apply_softmax=False):\n",
    "          \n",
    "        # Feature extractor\n",
    "        z = self.feature_extractor(x)\n",
    "        z = z.view(x.size(0), -1)\n",
    "        \n",
    "        # FC\n",
    "        y_pred = self.classifier(z)\n",
    "\n",
    "        if apply_softmax:\n",
    "            y_pred = F.softmax(y_pred, dim=1)\n",
    "        return y_pred "
   ]
  },
  {
   "cell_type": "code",
   "execution_count": 80,
   "metadata": {
    "colab": {},
    "colab_type": "code",
    "id": "0uVyLE91OnFq"
   },
   "outputs": [],
   "source": [
    "def initialize_model(config, vectorizer, feature_extractor):\n",
    "    \"\"\"Initialize the model.\n",
    "    \"\"\"\n",
    "    print (\"\\n==> 🚀 Initializing model:\")\n",
    "    model = ImageModel(\n",
    "       feature_extractor=feature_extractor,\n",
    "       num_hidden_units=config[\"fc\"][\"hidden_dim\"], \n",
    "       num_classes=len(vectorizer.category_vocab),\n",
    "       dropout_p=config[\"fc\"][\"dropout_p\"])\n",
    "    print (model.named_modules)\n",
    "    return model"
   ]
  },
  {
   "cell_type": "markdown",
   "metadata": {
    "colab_type": "text",
    "id": "C75F1xbdOnfP"
   },
   "source": [
    "### Operations"
   ]
  },
  {
   "cell_type": "code",
   "execution_count": 81,
   "metadata": {
    "colab": {},
    "colab_type": "code",
    "id": "czo1bGBwXKNj"
   },
   "outputs": [
    {
     "name": "stdout",
     "output_type": "stream",
     "text": [
      "\n",
      "==> 🚀 Initializing model:\n",
      "<bound method Module.named_modules of ImageModel(\n",
      "  (feature_extractor): Sequential(\n",
      "    (0): Conv2d(3, 64, kernel_size=(3, 3), stride=(1, 1), padding=(1, 1))\n",
      "    (1): BatchNorm2d(64, eps=1e-05, momentum=0.1, affine=True, track_running_stats=True)\n",
      "    (2): ReLU(inplace)\n",
      "    (3): Conv2d(64, 64, kernel_size=(3, 3), stride=(1, 1), padding=(1, 1))\n",
      "    (4): BatchNorm2d(64, eps=1e-05, momentum=0.1, affine=True, track_running_stats=True)\n",
      "    (5): ReLU(inplace)\n",
      "    (6): MaxPool2d(kernel_size=2, stride=2, padding=0, dilation=1, ceil_mode=False)\n",
      "    (7): Conv2d(64, 128, kernel_size=(3, 3), stride=(1, 1), padding=(1, 1))\n",
      "    (8): BatchNorm2d(128, eps=1e-05, momentum=0.1, affine=True, track_running_stats=True)\n",
      "    (9): ReLU(inplace)\n",
      "    (10): Conv2d(128, 128, kernel_size=(3, 3), stride=(1, 1), padding=(1, 1))\n",
      "    (11): BatchNorm2d(128, eps=1e-05, momentum=0.1, affine=True, track_running_stats=True)\n",
      "    (12): ReLU(inplace)\n",
      "    (13): MaxPool2d(kernel_size=2, stride=2, padding=0, dilation=1, ceil_mode=False)\n",
      "    (14): Conv2d(128, 256, kernel_size=(3, 3), stride=(1, 1), padding=(1, 1))\n",
      "    (15): BatchNorm2d(256, eps=1e-05, momentum=0.1, affine=True, track_running_stats=True)\n",
      "    (16): ReLU(inplace)\n",
      "    (17): Conv2d(256, 256, kernel_size=(3, 3), stride=(1, 1), padding=(1, 1))\n",
      "    (18): BatchNorm2d(256, eps=1e-05, momentum=0.1, affine=True, track_running_stats=True)\n",
      "    (19): ReLU(inplace)\n",
      "    (20): Conv2d(256, 256, kernel_size=(3, 3), stride=(1, 1), padding=(1, 1))\n",
      "    (21): BatchNorm2d(256, eps=1e-05, momentum=0.1, affine=True, track_running_stats=True)\n",
      "    (22): ReLU(inplace)\n",
      "    (23): Conv2d(256, 256, kernel_size=(3, 3), stride=(1, 1), padding=(1, 1))\n",
      "    (24): BatchNorm2d(256, eps=1e-05, momentum=0.1, affine=True, track_running_stats=True)\n",
      "    (25): ReLU(inplace)\n",
      "    (26): MaxPool2d(kernel_size=2, stride=2, padding=0, dilation=1, ceil_mode=False)\n",
      "    (27): Conv2d(256, 512, kernel_size=(3, 3), stride=(1, 1), padding=(1, 1))\n",
      "    (28): BatchNorm2d(512, eps=1e-05, momentum=0.1, affine=True, track_running_stats=True)\n",
      "    (29): ReLU(inplace)\n",
      "    (30): Conv2d(512, 512, kernel_size=(3, 3), stride=(1, 1), padding=(1, 1))\n",
      "    (31): BatchNorm2d(512, eps=1e-05, momentum=0.1, affine=True, track_running_stats=True)\n",
      "    (32): ReLU(inplace)\n",
      "    (33): Conv2d(512, 512, kernel_size=(3, 3), stride=(1, 1), padding=(1, 1))\n",
      "    (34): BatchNorm2d(512, eps=1e-05, momentum=0.1, affine=True, track_running_stats=True)\n",
      "    (35): ReLU(inplace)\n",
      "    (36): Conv2d(512, 512, kernel_size=(3, 3), stride=(1, 1), padding=(1, 1))\n",
      "    (37): BatchNorm2d(512, eps=1e-05, momentum=0.1, affine=True, track_running_stats=True)\n",
      "    (38): ReLU(inplace)\n",
      "    (39): MaxPool2d(kernel_size=2, stride=2, padding=0, dilation=1, ceil_mode=False)\n",
      "    (40): Conv2d(512, 512, kernel_size=(3, 3), stride=(1, 1), padding=(1, 1))\n",
      "    (41): BatchNorm2d(512, eps=1e-05, momentum=0.1, affine=True, track_running_stats=True)\n",
      "    (42): ReLU(inplace)\n",
      "    (43): Conv2d(512, 512, kernel_size=(3, 3), stride=(1, 1), padding=(1, 1))\n",
      "    (44): BatchNorm2d(512, eps=1e-05, momentum=0.1, affine=True, track_running_stats=True)\n",
      "    (45): ReLU(inplace)\n",
      "    (46): Conv2d(512, 512, kernel_size=(3, 3), stride=(1, 1), padding=(1, 1))\n",
      "    (47): BatchNorm2d(512, eps=1e-05, momentum=0.1, affine=True, track_running_stats=True)\n",
      "    (48): ReLU(inplace)\n",
      "    (49): Conv2d(512, 512, kernel_size=(3, 3), stride=(1, 1), padding=(1, 1))\n",
      "    (50): BatchNorm2d(512, eps=1e-05, momentum=0.1, affine=True, track_running_stats=True)\n",
      "    (51): ReLU(inplace)\n",
      "    (52): MaxPool2d(kernel_size=2, stride=2, padding=0, dilation=1, ceil_mode=False)\n",
      "  )\n",
      "  (classifier): Sequential(\n",
      "    (0): Linear(in_features=512, out_features=250, bias=True)\n",
      "    (1): ReLU()\n",
      "    (2): Dropout(p=0.5)\n",
      "    (3): Linear(in_features=250, out_features=100, bias=True)\n",
      "    (4): ReLU()\n",
      "    (5): Dropout(p=0.5)\n",
      "    (6): Linear(in_features=100, out_features=10, bias=True)\n",
      "  )\n",
      ")>\n"
     ]
    }
   ],
   "source": [
    "# Initializing model\n",
    "model = initialize_model(config=config, vectorizer=vectorizer, \n",
    "                         feature_extractor=vgg_19bn.features)"
   ]
  },
  {
   "cell_type": "code",
   "execution_count": 82,
   "metadata": {
    "colab": {},
    "colab_type": "code",
    "id": "hZybxGHoDTwQ"
   },
   "outputs": [],
   "source": [
    "# Finetune last few conv layers and FC layers\n",
    "for i, param in enumerate(model.feature_extractor.parameters()):\n",
    "    if i < 36:\n",
    "        param.requires_grad = False\n",
    "    else:\n",
    "        param.requires_grad = True"
   ]
  },
  {
   "cell_type": "code",
   "execution_count": 83,
   "metadata": {
    "colab": {
     "base_uri": "https://localhost:8080/",
     "height": 119
    },
    "colab_type": "code",
    "id": "GTbYKussTvB2",
    "outputId": "04e2b9cf-0870-4aac-ec10-fcdf5b8b34a3"
   },
   "outputs": [
    {
     "name": "stdout",
     "output_type": "stream",
     "text": [
      "==> 🏋 Training:\n",
      "[EPOCH]: 0 | [LR]: 0.001 | [TRAIN LOSS]: 0.98 | [TRAIN ACC]: 69.2% | [VAL LOSS]: 0.60 | [VAL ACC]: 80.6%\n",
      "[EPOCH]: 1 | [LR]: 0.001 | [TRAIN LOSS]: 0.58 | [TRAIN ACC]: 82.9% | [VAL LOSS]: 0.50 | [VAL ACC]: 84.1%\n",
      "[EPOCH]: 2 | [LR]: 0.001 | [TRAIN LOSS]: 0.44 | [TRAIN ACC]: 87.1% | [VAL LOSS]: 0.54 | [VAL ACC]: 83.6%\n",
      "[EPOCH]: 3 | [LR]: 0.001 | [TRAIN LOSS]: 0.33 | [TRAIN ACC]: 90.3% | [VAL LOSS]: 0.56 | [VAL ACC]: 83.5%\n",
      "[EPOCH]: 4 | [LR]: 0.001 | [TRAIN LOSS]: 0.19 | [TRAIN ACC]: 94.6% | [VAL LOSS]: 0.52 | [VAL ACC]: 86.0%\n"
     ]
    }
   ],
   "source": [
    "# Training\n",
    "trainer = Trainer(\n",
    "    dataset=dataset, model=model, model_file=config[\"model_file\"],\n",
    "    device=config[\"device\"], shuffle=config[\"shuffle\"], \n",
    "    num_epochs=config[\"num_epochs\"], batch_size=config[\"batch_size\"], \n",
    "    learning_rate=config[\"learning_rate\"], \n",
    "    early_stopping_criteria=config[\"early_stopping_criteria\"])\n",
    "trainer.run_train_loop()"
   ]
  },
  {
   "cell_type": "code",
   "execution_count": 84,
   "metadata": {
    "colab": {
     "base_uri": "https://localhost:8080/",
     "height": 352
    },
    "colab_type": "code",
    "id": "NCLCnQgATvMj",
    "outputId": "c27278e4-3cf1-4401-ff60-03f0a8b4c3cb"
   },
   "outputs": [
    {
     "name": "stdout",
     "output_type": "stream",
     "text": [
      "==> 📈 Metric plots:\n"
     ]
    },
    {
     "data": {
      "image/png": "[encoded data removed]",
      "text/plain": [
       "<Figure size 1080x360 with 2 Axes>"
      ]
     },
     "metadata": {
      "needs_background": "light"
     },
     "output_type": "display_data"
    }
   ],
   "source": [
    "# Plot performance\n",
    "plot_performance(train_state=trainer.train_state, \n",
    "                 save_dir=config[\"save_dir\"], show_plot=True)"
   ]
  },
  {
   "cell_type": "code",
   "execution_count": 85,
   "metadata": {
    "colab": {
     "base_uri": "https://localhost:8080/",
     "height": 68
    },
    "colab_type": "code",
    "id": "Hjn0HJVoTvJ0",
    "outputId": "92d8644d-f51a-4d82-bff0-78aba33131c3"
   },
   "outputs": [
    {
     "name": "stdout",
     "output_type": "stream",
     "text": [
      "==> 💯 Test performance:\n",
      "Test loss: 0.50\n",
      "Test Accuracy: 86.3%\n"
     ]
    }
   ],
   "source": [
    "# Test performance\n",
    "trainer.run_test_loop()"
   ]
  },
  {
   "cell_type": "code",
   "execution_count": 86,
   "metadata": {
    "colab": {
     "base_uri": "https://localhost:8080/",
     "height": 34
    },
    "colab_type": "code",
    "id": "ZQVrGTNNTvH0",
    "outputId": "44a24c37-2e22-47af-974d-3fc197b6427a"
   },
   "outputs": [
    {
     "name": "stdout",
     "output_type": "stream",
     "text": [
      "==> ✅ Training complete!\n"
     ]
    }
   ],
   "source": [
    "# Save all results\n",
    "save_train_state(train_state=trainer.train_state, save_dir=config[\"save_dir\"])"
   ]
  },
  {
   "cell_type": "markdown",
   "metadata": {
    "colab_type": "text",
    "id": "7CL689FebJhf"
   },
   "source": [
    "Much better performance! If you let it train long enough, we'll actually reach ~95% accuracy :)"
   ]
  },
  {
   "cell_type": "markdown",
   "metadata": {
    "colab_type": "text",
    "id": "02iDXCtiYo5K"
   },
   "source": [
    "## Inference"
   ]
  },
  {
   "cell_type": "code",
   "execution_count": 87,
   "metadata": {
    "colab": {},
    "colab_type": "code",
    "id": "cVT--tAvnOu7"
   },
   "outputs": [],
   "source": [
    "from pylab import rcParams\n",
    "rcParams['figure.figsize'] = 2, 2"
   ]
  },
  {
   "cell_type": "markdown",
   "metadata": {
    "colab_type": "text",
    "id": "KFEGIgA1NKJ-"
   },
   "source": [
    "### Components"
   ]
  },
  {
   "cell_type": "code",
   "execution_count": 88,
   "metadata": {
    "colab": {},
    "colab_type": "code",
    "id": "5IH9qjDpNW8m"
   },
   "outputs": [],
   "source": [
    "class Inference(object):\n",
    "    def __init__(self, model, vectorizer, device=\"cpu\"):\n",
    "        self.model = model.to(device)\n",
    "        self.vectorizer = vectorizer\n",
    "        self.device = device\n",
    "  \n",
    "    def predict_category(self, dataset):\n",
    "        # Batch generator\n",
    "        batch_generator = dataset.generate_batches(\n",
    "            batch_size=len(dataset), shuffle=False, device=self.device)\n",
    "        self.model.eval()\n",
    "        \n",
    "        # Predict\n",
    "        for batch_index, batch_dict in enumerate(batch_generator):\n",
    "            # compute the output\n",
    "            y_pred =  self.model(batch_dict['image'], apply_softmax=True)\n",
    "\n",
    "            # Top k categories\n",
    "            y_prob, indices = torch.topk(y_pred, k=len(self.vectorizer.category_vocab))\n",
    "            probabilities = y_prob.detach().to('cpu').numpy()[0]\n",
    "            indices = indices.detach().to('cpu').numpy()[0]\n",
    "\n",
    "            results = []\n",
    "            for probability, index in zip(probabilities, indices):\n",
    "                category = self.vectorizer.category_vocab.lookup_index(index)\n",
    "                results.append({'category': category, 'probability': probability})\n",
    "\n",
    "        return results"
   ]
  },
  {
   "cell_type": "markdown",
   "metadata": {
    "colab_type": "text",
    "id": "uFJ7Dmn4NLm7"
   },
   "source": [
    "### Operations"
   ]
  },
  {
   "cell_type": "code",
   "execution_count": 89,
   "metadata": {
    "colab": {},
    "colab_type": "code",
    "id": "OtKJsv4HNLsN"
   },
   "outputs": [],
   "source": [
    "# Load vectorizer\n",
    "with open(config[\"vectorizer_file\"]) as fp:\n",
    "    vectorizer = ImageVectorizer.from_serializable(json.load(fp))"
   ]
  },
  {
   "cell_type": "code",
   "execution_count": 90,
   "metadata": {
    "colab": {},
    "colab_type": "code",
    "id": "iAeHP-FvP26o"
   },
   "outputs": [
    {
     "name": "stdout",
     "output_type": "stream",
     "text": [
      "\n",
      "==> 🚀 Initializing model:\n",
      "<bound method Module.named_modules of ImageModel(\n",
      "  (feature_extractor): Sequential(\n",
      "    (0): Conv2d(3, 64, kernel_size=(3, 3), stride=(1, 1), padding=(1, 1))\n",
      "    (1): BatchNorm2d(64, eps=1e-05, momentum=0.1, affine=True, track_running_stats=True)\n",
      "    (2): ReLU(inplace)\n",
      "    (3): Conv2d(64, 64, kernel_size=(3, 3), stride=(1, 1), padding=(1, 1))\n",
      "    (4): BatchNorm2d(64, eps=1e-05, momentum=0.1, affine=True, track_running_stats=True)\n",
      "    (5): ReLU(inplace)\n",
      "    (6): MaxPool2d(kernel_size=2, stride=2, padding=0, dilation=1, ceil_mode=False)\n",
      "    (7): Conv2d(64, 128, kernel_size=(3, 3), stride=(1, 1), padding=(1, 1))\n",
      "    (8): BatchNorm2d(128, eps=1e-05, momentum=0.1, affine=True, track_running_stats=True)\n",
      "    (9): ReLU(inplace)\n",
      "    (10): Conv2d(128, 128, kernel_size=(3, 3), stride=(1, 1), padding=(1, 1))\n",
      "    (11): BatchNorm2d(128, eps=1e-05, momentum=0.1, affine=True, track_running_stats=True)\n",
      "    (12): ReLU(inplace)\n",
      "    (13): MaxPool2d(kernel_size=2, stride=2, padding=0, dilation=1, ceil_mode=False)\n",
      "    (14): Conv2d(128, 256, kernel_size=(3, 3), stride=(1, 1), padding=(1, 1))\n",
      "    (15): BatchNorm2d(256, eps=1e-05, momentum=0.1, affine=True, track_running_stats=True)\n",
      "    (16): ReLU(inplace)\n",
      "    (17): Conv2d(256, 256, kernel_size=(3, 3), stride=(1, 1), padding=(1, 1))\n",
      "    (18): BatchNorm2d(256, eps=1e-05, momentum=0.1, affine=True, track_running_stats=True)\n",
      "    (19): ReLU(inplace)\n",
      "    (20): Conv2d(256, 256, kernel_size=(3, 3), stride=(1, 1), padding=(1, 1))\n",
      "    (21): BatchNorm2d(256, eps=1e-05, momentum=0.1, affine=True, track_running_stats=True)\n",
      "    (22): ReLU(inplace)\n",
      "    (23): Conv2d(256, 256, kernel_size=(3, 3), stride=(1, 1), padding=(1, 1))\n",
      "    (24): BatchNorm2d(256, eps=1e-05, momentum=0.1, affine=True, track_running_stats=True)\n",
      "    (25): ReLU(inplace)\n",
      "    (26): MaxPool2d(kernel_size=2, stride=2, padding=0, dilation=1, ceil_mode=False)\n",
      "    (27): Conv2d(256, 512, kernel_size=(3, 3), stride=(1, 1), padding=(1, 1))\n",
      "    (28): BatchNorm2d(512, eps=1e-05, momentum=0.1, affine=True, track_running_stats=True)\n",
      "    (29): ReLU(inplace)\n",
      "    (30): Conv2d(512, 512, kernel_size=(3, 3), stride=(1, 1), padding=(1, 1))\n",
      "    (31): BatchNorm2d(512, eps=1e-05, momentum=0.1, affine=True, track_running_stats=True)\n",
      "    (32): ReLU(inplace)\n",
      "    (33): Conv2d(512, 512, kernel_size=(3, 3), stride=(1, 1), padding=(1, 1))\n",
      "    (34): BatchNorm2d(512, eps=1e-05, momentum=0.1, affine=True, track_running_stats=True)\n",
      "    (35): ReLU(inplace)\n",
      "    (36): Conv2d(512, 512, kernel_size=(3, 3), stride=(1, 1), padding=(1, 1))\n",
      "    (37): BatchNorm2d(512, eps=1e-05, momentum=0.1, affine=True, track_running_stats=True)\n",
      "    (38): ReLU(inplace)\n",
      "    (39): MaxPool2d(kernel_size=2, stride=2, padding=0, dilation=1, ceil_mode=False)\n",
      "    (40): Conv2d(512, 512, kernel_size=(3, 3), stride=(1, 1), padding=(1, 1))\n",
      "    (41): BatchNorm2d(512, eps=1e-05, momentum=0.1, affine=True, track_running_stats=True)\n",
      "    (42): ReLU(inplace)\n",
      "    (43): Conv2d(512, 512, kernel_size=(3, 3), stride=(1, 1), padding=(1, 1))\n",
      "    (44): BatchNorm2d(512, eps=1e-05, momentum=0.1, affine=True, track_running_stats=True)\n",
      "    (45): ReLU(inplace)\n",
      "    (46): Conv2d(512, 512, kernel_size=(3, 3), stride=(1, 1), padding=(1, 1))\n",
      "    (47): BatchNorm2d(512, eps=1e-05, momentum=0.1, affine=True, track_running_stats=True)\n",
      "    (48): ReLU(inplace)\n",
      "    (49): Conv2d(512, 512, kernel_size=(3, 3), stride=(1, 1), padding=(1, 1))\n",
      "    (50): BatchNorm2d(512, eps=1e-05, momentum=0.1, affine=True, track_running_stats=True)\n",
      "    (51): ReLU(inplace)\n",
      "    (52): MaxPool2d(kernel_size=2, stride=2, padding=0, dilation=1, ceil_mode=False)\n",
      "  )\n",
      "  (classifier): Sequential(\n",
      "    (0): Linear(in_features=512, out_features=250, bias=True)\n",
      "    (1): ReLU()\n",
      "    (2): Dropout(p=0.5)\n",
      "    (3): Linear(in_features=250, out_features=100, bias=True)\n",
      "    (4): ReLU()\n",
      "    (5): Dropout(p=0.5)\n",
      "    (6): Linear(in_features=100, out_features=10, bias=True)\n",
      "  )\n",
      ")>\n"
     ]
    }
   ],
   "source": [
    "# Load the model\n",
    "model = initialize_model(config=config, vectorizer=vectorizer, feature_extractor=vgg_19bn.features)\n",
    "model.load_state_dict(torch.load(config[\"model_file\"]))"
   ]
  },
  {
   "cell_type": "code",
   "execution_count": 91,
   "metadata": {
    "colab": {},
    "colab_type": "code",
    "id": "OlOlBXp-mWYT"
   },
   "outputs": [],
   "source": [
    "# Initialize\n",
    "inference = Inference(model=model, vectorizer=vectorizer, device=config[\"device\"])"
   ]
  },
  {
   "cell_type": "code",
   "execution_count": 92,
   "metadata": {
    "colab": {
     "base_uri": "https://localhost:8080/",
     "height": 176
    },
    "colab_type": "code",
    "id": "6NwjskFsysKb",
    "outputId": "00e7d3c2-b011-4e62-df7c-8e288040155a"
   },
   "outputs": [
    {
     "name": "stderr",
     "output_type": "stream",
     "text": [
      "Clipping input data to the valid range for imshow with RGB data ([0..1] for floats or [0..255] for integers).\n"
     ]
    },
    {
     "name": "stdout",
     "output_type": "stream",
     "text": [
      "Actual: bird\n"
     ]
    },
    {
     "data": {
      "image/png": "[encoded data removed]",
      "text/plain": [
       "<Figure size 144x144 with 1 Axes>"
      ]
     },
     "metadata": {
      "needs_background": "light"
     },
     "output_type": "display_data"
    }
   ],
   "source": [
    "# Get a sample\n",
    "sample = split_df[split_df.split==\"test\"].iloc[0]\n",
    "plt.imshow(sample.image)\n",
    "plt.axis(\"off\")\n",
    "print (\"Actual:\", sample.category)"
   ]
  },
  {
   "cell_type": "code",
   "execution_count": 93,
   "metadata": {
    "colab": {
     "base_uri": "https://localhost:8080/",
     "height": 187
    },
    "colab_type": "code",
    "id": "cp-rN2eeybae",
    "outputId": "a88e448d-63f5-422c-ef72-b0d724b7cdd9"
   },
   "outputs": [
    {
     "data": {
      "text/plain": [
       "[{'category': 'bird', 'probability': 0.99677974},\n",
       " {'category': 'cat', 'probability': 0.0010572287},\n",
       " {'category': 'deer', 'probability': 0.00066853035},\n",
       " {'category': 'dog', 'probability': 0.0006506502},\n",
       " {'category': 'frog', 'probability': 0.0004852901},\n",
       " {'category': 'plane', 'probability': 0.00033667297},\n",
       " {'category': 'horse', 'probability': 2.0638561e-05},\n",
       " {'category': 'ship', 'probability': 6.627122e-07},\n",
       " {'category': 'truck', 'probability': 5.603571e-07},\n",
       " {'category': 'car', 'probability': 1.5759051e-08}]"
      ]
     },
     "execution_count": 93,
     "metadata": {},
     "output_type": "execute_result"
    }
   ],
   "source": [
    "# Inference\n",
    "category = list(vectorizer.category_vocab.token_to_idx.keys())[0] # random filler category\n",
    "infer_df = pd.DataFrame([[sample.image, category, \"infer\"]], columns=['image', 'category', 'split'])\n",
    "infer_dataset = ImageDataset(df=infer_df, vectorizer=vectorizer, infer=True)\n",
    "results = inference.predict_category(dataset=infer_dataset)\n",
    "results"
   ]
  },
  {
   "cell_type": "markdown",
   "metadata": {
    "colab_type": "text",
    "id": "1YHneO3SStOp"
   },
   "source": [
    "# TODO"
   ]
  },
  {
   "cell_type": "markdown",
   "metadata": {
    "colab_type": "text",
    "id": "gGHaKTe1SuEk"
   },
   "source": [
    "- segmentation\n",
    "- interpretability via activation maps\n",
    "- processing images of different sizes"
   ]
  }
 ],
 "metadata": {
  "accelerator": "GPU",
  "colab": {
   "collapsed_sections": [
    "W_2LVROYwFyL",
    "muXdsetFx4QW",
    "p2SLUqQp6S4-",
    "cOH5OuG07Ohv",
    "gbIKSQ5a7jsG",
    "DyfX-utj8JTz",
    "TtnGYqxk9Hxc",
    "OdZfoEKc-BBm",
    "kCkVhv54G6Ui",
    "5rz1g7FrOlQg",
    "KFEGIgA1NKJ-"
   ],
   "name": "15_Computer_Vision",
   "provenance": [],
   "toc_visible": true,
   "version": "0.3.2"
  },
  "kernelspec": {
   "display_name": "Python 3",
   "language": "python",
   "name": "python3"
  },
  "language_info": {
   "codemirror_mode": {
    "name": "ipython",
    "version": 3
   },
   "file_extension": ".py",
   "mimetype": "text/x-python",
   "name": "python",
   "nbconvert_exporter": "python",
   "pygments_lexer": "ipython3",
   "version": "3.7.3"
  }
 },
 "nbformat": 4,
 "nbformat_minor": 1
}
