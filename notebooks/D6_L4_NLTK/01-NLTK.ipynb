{
 "cells": [
  {
   "cell_type": "markdown",
   "metadata": {},
   "source": [
    "# NLTK"
   ]
  },
  {
   "cell_type": "markdown",
   "metadata": {},
   "source": [
    "<img src='figures/nltk.jpg' width=350>\n",
    "\n",
    "NLTK is a leading platform for building Python programs to work with human language data.  It provides easy-to-use interfaces to over 50 corpora and lexical resources such as WordNet, along with a suite of text processing libraries for classification, tokenization, stemming, tagging, parsing, and semantic reasoning, and an active discussion forum.\n",
    "\n",
    "Library documentation: <a>http://www.nltk.org/</a>\n",
    "\n",
    "We begin with the standard imports:"
   ]
  },
  {
   "cell_type": "code",
   "execution_count": 4,
   "metadata": {},
   "outputs": [],
   "source": [
    "# needed to display the graphs\n",
    "%matplotlib inline\n",
    "import nltk\n",
    "#nltk.download() # download sample texts"
   ]
  },
  {
   "cell_type": "code",
   "execution_count": 5,
   "metadata": {},
   "outputs": [
    {
     "name": "stdout",
     "output_type": "stream",
     "text": [
      "*** Introductory Examples for the NLTK Book ***\n",
      "Loading text1, ..., text9 and sent1, ..., sent9\n",
      "Type the name of the text or sentence to view it.\n",
      "Type: 'texts()' or 'sents()' to list the materials.\n",
      "text1: Moby Dick by Herman Melville 1851\n",
      "text2: Sense and Sensibility by Jane Austen 1811\n",
      "text3: The Book of Genesis\n",
      "text4: Inaugural Address Corpus\n",
      "text5: Chat Corpus\n",
      "text6: Monty Python and the Holy Grail\n",
      "text7: Wall Street Journal\n",
      "text8: Personals Corpus\n",
      "text9: The Man Who Was Thursday by G . K . Chesterton 1908\n"
     ]
    }
   ],
   "source": [
    "from nltk.book import *"
   ]
  },
  {
   "cell_type": "code",
   "execution_count": 7,
   "metadata": {},
   "outputs": [
    {
     "name": "stdout",
     "output_type": "stream",
     "text": [
      "Displaying 25 of 220 matches:\n",
      "posed in me by the people of united America . Previous to the execution of any \n",
      "y times , that no middle course for America remained between unlimited submissi\n",
      "this dangerous crisis the people of America were not abandoned by their usual g\n",
      "ay be exposed ) which the people of America have exhibited to the admiration an\n",
      "ty toward the aboriginal nations of America , and a disposition to meliorate th\n",
      "onor and integrity of the people of America and the internal sentiment of their\n",
      "een Spain and the colonies in South America , which had commenced many years be\n",
      " Britannic Majesty ' s dominions in America , with other differences on importa\n",
      " generations yet to come , and that America will present to every friend of man\n",
      "route across the isthmus of Central America . It is impossible to conceive that\n",
      "thmus that connects North and South America as will protect our national intere\n",
      ", in the Philippines , and in South America are known to everyone who has given\n",
      "of steamers between North and South America has been brought to the attention o\n",
      "ates and the western coast of South America , and , indeed , with some of the i\n",
      "nt ports on the east coast of South America reached by rail from the west coast\n",
      "action will avail , is the unity of America -- an America united in feeling , i\n",
      "ail , is the unity of America -- an America united in feeling , in purpose and \n",
      "friendship and harbor no hate . But America , our America , the America builded\n",
      " harbor no hate . But America , our America , the America builded on the founda\n",
      "e . But America , our America , the America builded on the foundation laid by t\n",
      "ligent , dependable popular will of America . In a deliberate questioning of a \n",
      "mandate in manifest understanding . America is ready to encourage , eager to in\n",
      "lization , and we hold a maintained America , the proven Republic , the unshake\n",
      "ome , it also revealed the heart of America as sound and fearless , and beating\n",
      "lective strength and consecrate all America , materially and spiritually , body\n"
     ]
    }
   ],
   "source": [
    "# examine concordances (word + context)\n",
    "text4.concordance(\"America\")"
   ]
  },
  {
   "cell_type": "code",
   "execution_count": 126,
   "metadata": {},
   "outputs": [
    {
     "name": "stdout",
     "output_type": "stream",
     "text": [
      "it freedom government peace life all congress god which them us war\n",
      "justice this nations law others people liberty power\n"
     ]
    }
   ],
   "source": [
    "# The similar() method takes an input_word and returns other words who \n",
    "# appear in a similar range of contexts in the text.\n",
    "text4.similar(\"America\",20)"
   ]
  },
  {
   "cell_type": "code",
   "execution_count": 130,
   "metadata": {},
   "outputs": [
    {
     "name": "stdout",
     "output_type": "stream",
     "text": [
      "the_of our_the our_must of_and of_from the_we own_will in_s of_the\n"
     ]
    }
   ],
   "source": [
    "#The common_contexts() method allows you to examine the contexts that are shared \n",
    "# by two or more words.\n",
    "text4.common_contexts(['people', 'America'])"
   ]
  },
  {
   "cell_type": "markdown",
   "metadata": {},
   "source": [
    "This means that in the text we'll find 'the people of' and 'our America the'. "
   ]
  },
  {
   "cell_type": "code",
   "execution_count": 7,
   "metadata": {},
   "outputs": [
    {
     "data": {
      "image/png": "[encoded data removed]",
      "text/plain": [
       "<Figure size 432x288 with 1 Axes>"
      ]
     },
     "metadata": {
      "needs_background": "light"
     },
     "output_type": "display_data"
    }
   ],
   "source": [
    "# see where in a text certain words are found to occur\n",
    "text4.dispersion_plot([\"citizens\", \"democracy\", \"freedom\", \"duties\", \"America\"])"
   ]
  },
  {
   "cell_type": "code",
   "execution_count": 131,
   "metadata": {},
   "outputs": [
    {
     "data": {
      "text/plain": [
       "149797"
      ]
     },
     "execution_count": 131,
     "metadata": {},
     "output_type": "execute_result"
    }
   ],
   "source": [
    "# count of all tokens (including punctuation)\n",
    "len(text4)"
   ]
  },
  {
   "cell_type": "code",
   "execution_count": 132,
   "metadata": {},
   "outputs": [
    {
     "data": {
      "text/plain": [
       "9913"
      ]
     },
     "execution_count": 132,
     "metadata": {},
     "output_type": "execute_result"
    }
   ],
   "source": [
    "# number of distinct tokens\n",
    "len(set(text4))"
   ]
  },
  {
   "cell_type": "code",
   "execution_count": 133,
   "metadata": {},
   "outputs": [
    {
     "data": {
      "text/plain": [
       "['be',\n",
       " 'surprised',\n",
       " 'by',\n",
       " 'the',\n",
       " 'power',\n",
       " 'of',\n",
       " 'our',\n",
       " 'ideals',\n",
       " '.',\n",
       " 'Eventually',\n",
       " ',',\n",
       " 'the',\n",
       " 'call',\n",
       " 'of',\n",
       " 'freedom',\n",
       " 'comes',\n",
       " 'to',\n",
       " 'every',\n",
       " 'mind',\n",
       " 'and',\n",
       " 'every',\n",
       " 'soul',\n",
       " '.',\n",
       " 'We',\n",
       " 'do',\n",
       " 'not',\n",
       " 'accept',\n",
       " 'the',\n",
       " 'existence',\n",
       " 'of',\n",
       " 'permanent',\n",
       " 'tyranny',\n",
       " 'because',\n",
       " 'we',\n",
       " 'do',\n",
       " 'not',\n",
       " 'accept',\n",
       " 'the',\n",
       " 'possibility',\n",
       " 'of',\n",
       " 'permanent',\n",
       " 'slavery',\n",
       " '.',\n",
       " 'Liberty',\n",
       " 'will',\n",
       " 'come',\n",
       " 'to',\n",
       " 'those',\n",
       " 'who',\n",
       " 'love',\n",
       " 'it',\n",
       " '.',\n",
       " 'Today',\n",
       " ',',\n",
       " 'America',\n",
       " 'speaks',\n",
       " 'anew',\n",
       " 'to',\n",
       " 'the',\n",
       " 'peoples',\n",
       " 'of',\n",
       " 'the',\n",
       " 'world',\n",
       " ':',\n",
       " 'All',\n",
       " 'who',\n",
       " 'live',\n",
       " 'in',\n",
       " 'tyranny',\n",
       " 'and',\n",
       " 'hopelessness',\n",
       " 'can',\n",
       " 'know',\n",
       " ':',\n",
       " 'the',\n",
       " 'United',\n",
       " 'States',\n",
       " 'will',\n",
       " 'not',\n",
       " 'ignore',\n",
       " 'your',\n",
       " 'oppression',\n",
       " ',',\n",
       " 'or',\n",
       " 'excuse',\n",
       " 'your',\n",
       " 'oppressors',\n",
       " '.',\n",
       " 'When',\n",
       " 'you',\n",
       " 'stand',\n",
       " 'for',\n",
       " 'your',\n",
       " 'liberty',\n",
       " ',',\n",
       " 'we',\n",
       " 'will',\n",
       " 'stand',\n",
       " 'with',\n",
       " 'you',\n",
       " '.',\n",
       " 'Democratic',\n",
       " 'reformers',\n",
       " 'facing',\n",
       " 'repression',\n",
       " ',',\n",
       " 'prison',\n",
       " ',',\n",
       " 'or',\n",
       " 'exile',\n",
       " 'can',\n",
       " 'know',\n",
       " ':',\n",
       " 'America',\n",
       " 'sees',\n",
       " 'you',\n",
       " 'for',\n",
       " 'who',\n",
       " 'you',\n",
       " 'are',\n",
       " ':',\n",
       " 'the',\n",
       " 'future',\n",
       " 'leaders',\n",
       " 'of',\n",
       " 'your',\n",
       " 'free',\n",
       " 'country',\n",
       " '.',\n",
       " 'The',\n",
       " 'rulers',\n",
       " 'of',\n",
       " 'outlaw',\n",
       " 'regimes',\n",
       " 'can',\n",
       " 'know',\n",
       " 'that',\n",
       " 'we',\n",
       " 'still',\n",
       " 'believe',\n",
       " 'as',\n",
       " 'Abraham',\n",
       " 'Lincoln',\n",
       " 'did',\n",
       " ':',\n",
       " '¡§',\n",
       " 'Those',\n",
       " 'who',\n",
       " 'deny',\n",
       " 'freedom',\n",
       " 'to',\n",
       " 'others',\n",
       " 'deserve',\n",
       " 'it',\n",
       " 'not',\n",
       " 'for',\n",
       " 'themselves',\n",
       " ';',\n",
       " 'and',\n",
       " ',',\n",
       " 'under',\n",
       " 'the',\n",
       " 'rule',\n",
       " 'of',\n",
       " 'a',\n",
       " 'just',\n",
       " 'God',\n",
       " ',',\n",
       " 'cannot',\n",
       " 'long',\n",
       " 'retain',\n",
       " 'it',\n",
       " '.¡¨',\n",
       " 'The',\n",
       " 'leaders',\n",
       " 'of',\n",
       " 'governments',\n",
       " 'with',\n",
       " 'long',\n",
       " 'habits',\n",
       " 'of',\n",
       " 'control',\n",
       " 'need',\n",
       " 'to',\n",
       " 'know',\n",
       " ':',\n",
       " 'To',\n",
       " 'serve',\n",
       " 'your',\n",
       " 'people',\n",
       " 'you',\n",
       " 'must',\n",
       " 'learn',\n",
       " 'to',\n",
       " 'trust',\n",
       " 'them',\n",
       " '.',\n",
       " 'Start',\n",
       " 'on',\n",
       " 'this',\n",
       " 'journey',\n",
       " 'of',\n",
       " 'progress',\n",
       " 'and',\n",
       " 'justice',\n",
       " ',',\n",
       " 'and',\n",
       " 'America',\n",
       " 'will',\n",
       " 'walk',\n",
       " 'at',\n",
       " 'your',\n",
       " 'side',\n",
       " '.',\n",
       " 'And',\n",
       " 'all',\n",
       " 'the',\n",
       " 'allies',\n",
       " 'of',\n",
       " 'the',\n",
       " 'United',\n",
       " 'States',\n",
       " 'can',\n",
       " 'know',\n",
       " ':',\n",
       " 'we',\n",
       " 'honor',\n",
       " 'your',\n",
       " 'friendship',\n",
       " ',',\n",
       " 'we',\n",
       " 'rely',\n",
       " 'on',\n",
       " 'your',\n",
       " 'counsel',\n",
       " ',',\n",
       " 'and',\n",
       " 'we',\n",
       " 'depend',\n",
       " 'on',\n",
       " 'your',\n",
       " 'help',\n",
       " '.',\n",
       " 'Division',\n",
       " 'among',\n",
       " 'free',\n",
       " 'nations',\n",
       " 'is',\n",
       " 'a',\n",
       " 'primary',\n",
       " 'goal',\n",
       " 'of',\n",
       " 'freedom',\n",
       " '¡¦',\n",
       " 's',\n",
       " 'enemies',\n",
       " '.',\n",
       " 'The',\n",
       " 'concerted',\n",
       " 'effort',\n",
       " 'of',\n",
       " 'free',\n",
       " 'nations',\n",
       " 'to',\n",
       " 'promote',\n",
       " 'democracy',\n",
       " 'is',\n",
       " 'a',\n",
       " 'prelude',\n",
       " 'to',\n",
       " 'our',\n",
       " 'enemies',\n",
       " '¡¦',\n",
       " 'defeat',\n",
       " '.',\n",
       " 'Today',\n",
       " ',',\n",
       " 'I',\n",
       " 'also',\n",
       " 'speak',\n",
       " 'anew',\n",
       " 'to',\n",
       " 'my',\n",
       " 'fellow',\n",
       " 'citizens',\n",
       " ':',\n",
       " 'From',\n",
       " 'all',\n",
       " 'of',\n",
       " 'you',\n",
       " ',',\n",
       " 'I',\n",
       " 'have',\n",
       " 'asked',\n",
       " 'patience',\n",
       " 'in',\n",
       " 'the',\n",
       " 'hard',\n",
       " 'task',\n",
       " 'of',\n",
       " 'securing',\n",
       " 'America',\n",
       " ',',\n",
       " 'which',\n",
       " 'you',\n",
       " 'have',\n",
       " 'granted',\n",
       " 'in',\n",
       " 'good',\n",
       " 'measure',\n",
       " '.',\n",
       " 'Our',\n",
       " 'country',\n",
       " 'has',\n",
       " 'accepted',\n",
       " 'obligations',\n",
       " 'that',\n",
       " 'are',\n",
       " 'difficult',\n",
       " 'to',\n",
       " 'fulfill',\n",
       " ',',\n",
       " 'and',\n",
       " 'would',\n",
       " 'be',\n",
       " 'dishonorable',\n",
       " 'to',\n",
       " 'abandon',\n",
       " '.',\n",
       " 'Yet',\n",
       " 'because',\n",
       " 'we',\n",
       " 'have',\n",
       " 'acted',\n",
       " 'in',\n",
       " 'the',\n",
       " 'great',\n",
       " 'liberating',\n",
       " 'tradition',\n",
       " 'of',\n",
       " 'this',\n",
       " 'nation',\n",
       " ',',\n",
       " 'tens',\n",
       " 'of',\n",
       " 'millions',\n",
       " 'have',\n",
       " 'achieved',\n",
       " 'their',\n",
       " 'freedom',\n",
       " '.',\n",
       " 'And',\n",
       " 'as',\n",
       " 'hope',\n",
       " 'kindles',\n",
       " 'hope',\n",
       " ',',\n",
       " 'millions',\n",
       " 'more',\n",
       " 'will',\n",
       " 'find',\n",
       " 'it',\n",
       " '.',\n",
       " 'By',\n",
       " 'our',\n",
       " 'efforts',\n",
       " ',',\n",
       " 'we',\n",
       " 'have',\n",
       " 'lit',\n",
       " 'a',\n",
       " 'fire',\n",
       " 'as',\n",
       " 'well',\n",
       " '¡',\n",
       " 'Xa',\n",
       " 'fire',\n",
       " 'in',\n",
       " 'the',\n",
       " 'minds',\n",
       " 'of',\n",
       " 'men',\n",
       " '.',\n",
       " 'It',\n",
       " 'warms',\n",
       " 'those',\n",
       " 'who',\n",
       " 'feel',\n",
       " 'its',\n",
       " 'power',\n",
       " ',',\n",
       " 'it',\n",
       " 'burns',\n",
       " 'those',\n",
       " 'who',\n",
       " 'fight',\n",
       " 'its',\n",
       " 'progress',\n",
       " ',',\n",
       " 'and',\n",
       " 'one',\n",
       " 'day',\n",
       " 'this',\n",
       " 'untamed',\n",
       " 'fire',\n",
       " 'of',\n",
       " 'freedom',\n",
       " 'will',\n",
       " 'reach',\n",
       " 'the',\n",
       " 'darkest',\n",
       " 'corners',\n",
       " 'of',\n",
       " 'our',\n",
       " 'world',\n",
       " '.',\n",
       " 'A',\n",
       " 'few',\n",
       " 'Americans',\n",
       " 'have',\n",
       " 'accepted',\n",
       " 'the',\n",
       " 'hardest',\n",
       " 'duties',\n",
       " 'in',\n",
       " 'this',\n",
       " 'cause',\n",
       " '¡',\n",
       " 'Xin',\n",
       " 'the',\n",
       " 'quiet',\n",
       " 'work',\n",
       " 'of',\n",
       " 'intelligence',\n",
       " 'and',\n",
       " 'diplomacy',\n",
       " '¡',\n",
       " 'K',\n",
       " 'the',\n",
       " 'idealistic',\n",
       " 'work',\n",
       " 'of',\n",
       " 'helping',\n",
       " 'raise',\n",
       " 'up',\n",
       " 'free',\n",
       " 'governments',\n",
       " '¡',\n",
       " 'K',\n",
       " 'the',\n",
       " 'dangerous',\n",
       " 'and',\n",
       " 'necessary',\n",
       " 'work',\n",
       " 'of',\n",
       " 'fighting',\n",
       " 'our',\n",
       " 'enemies',\n",
       " '.',\n",
       " 'Some',\n",
       " 'have',\n",
       " 'shown',\n",
       " 'their',\n",
       " 'devotion',\n",
       " 'to',\n",
       " 'our',\n",
       " 'country',\n",
       " 'in',\n",
       " 'deaths',\n",
       " 'that',\n",
       " 'honored',\n",
       " 'their',\n",
       " 'whole',\n",
       " 'lives',\n",
       " '¡',\n",
       " 'Xand',\n",
       " 'we',\n",
       " 'will',\n",
       " 'always',\n",
       " 'honor',\n",
       " 'their',\n",
       " 'names',\n",
       " 'and',\n",
       " 'their',\n",
       " 'sacrifice',\n",
       " '.',\n",
       " 'All',\n",
       " 'Americans',\n",
       " 'have',\n",
       " 'witnessed',\n",
       " 'this',\n",
       " 'idealism',\n",
       " ',',\n",
       " 'and',\n",
       " 'some',\n",
       " 'for',\n",
       " 'the',\n",
       " 'first',\n",
       " 'time',\n",
       " '.',\n",
       " 'I',\n",
       " 'ask',\n",
       " 'our',\n",
       " 'youngest',\n",
       " 'citizens',\n",
       " 'to',\n",
       " 'believe',\n",
       " 'the',\n",
       " 'evidence',\n",
       " 'of',\n",
       " 'your',\n",
       " 'eyes',\n",
       " '.',\n",
       " 'You',\n",
       " 'have',\n",
       " 'seen',\n",
       " 'duty',\n",
       " 'and',\n",
       " 'allegiance',\n",
       " 'in',\n",
       " 'the',\n",
       " 'determined',\n",
       " 'faces',\n",
       " 'of',\n",
       " 'our',\n",
       " 'soldiers',\n",
       " '.',\n",
       " 'You',\n",
       " 'have',\n",
       " 'seen',\n",
       " 'that',\n",
       " 'life',\n",
       " 'is',\n",
       " 'fragile',\n",
       " ',',\n",
       " 'and',\n",
       " 'evil',\n",
       " 'is',\n",
       " 'real',\n",
       " ',',\n",
       " 'and',\n",
       " 'courage',\n",
       " 'triumphs',\n",
       " '.',\n",
       " 'Make',\n",
       " 'the',\n",
       " 'choice',\n",
       " 'to',\n",
       " 'serve',\n",
       " 'in',\n",
       " 'a',\n",
       " 'cause',\n",
       " 'larger',\n",
       " 'than',\n",
       " 'your',\n",
       " 'wants',\n",
       " ',',\n",
       " 'larger',\n",
       " 'than',\n",
       " 'yourself',\n",
       " '¡',\n",
       " 'Xand',\n",
       " 'in',\n",
       " 'your',\n",
       " 'days',\n",
       " 'you',\n",
       " 'will',\n",
       " 'add',\n",
       " 'not',\n",
       " 'just',\n",
       " 'to',\n",
       " 'the',\n",
       " 'wealth',\n",
       " 'of',\n",
       " 'our',\n",
       " 'country',\n",
       " ',',\n",
       " 'but',\n",
       " 'to',\n",
       " 'its',\n",
       " 'character',\n",
       " '.',\n",
       " 'America',\n",
       " 'has',\n",
       " 'need',\n",
       " 'of',\n",
       " 'idealism',\n",
       " 'and',\n",
       " 'courage',\n",
       " ',',\n",
       " 'because',\n",
       " 'we',\n",
       " 'have',\n",
       " 'essential',\n",
       " 'work',\n",
       " 'at',\n",
       " 'home',\n",
       " '¡',\n",
       " 'Xthe',\n",
       " 'unfinished',\n",
       " 'work',\n",
       " 'of',\n",
       " 'American',\n",
       " 'freedom',\n",
       " '.',\n",
       " 'In',\n",
       " 'a',\n",
       " 'world',\n",
       " 'moving',\n",
       " 'toward',\n",
       " 'liberty',\n",
       " ',',\n",
       " 'we',\n",
       " 'are',\n",
       " 'determined',\n",
       " 'to',\n",
       " 'show',\n",
       " 'the',\n",
       " 'meaning',\n",
       " 'and',\n",
       " 'promise',\n",
       " 'of',\n",
       " 'liberty',\n",
       " '.',\n",
       " 'In',\n",
       " 'America',\n",
       " '¡¦',\n",
       " 's',\n",
       " 'ideal',\n",
       " 'of',\n",
       " 'freedom',\n",
       " ',',\n",
       " 'citizens',\n",
       " 'find',\n",
       " 'the',\n",
       " 'dignity',\n",
       " 'and',\n",
       " 'security',\n",
       " 'of',\n",
       " 'economic',\n",
       " 'independence',\n",
       " ',',\n",
       " 'instead',\n",
       " 'of',\n",
       " 'laboring',\n",
       " 'on',\n",
       " 'the',\n",
       " 'edge',\n",
       " 'of',\n",
       " 'subsistence',\n",
       " '.',\n",
       " 'This',\n",
       " 'is',\n",
       " 'the',\n",
       " 'broader',\n",
       " 'definition',\n",
       " 'of',\n",
       " 'liberty',\n",
       " 'that',\n",
       " 'motivated',\n",
       " 'the',\n",
       " 'Homestead',\n",
       " 'Act',\n",
       " ',',\n",
       " 'the',\n",
       " 'Social',\n",
       " 'Security',\n",
       " 'Act',\n",
       " ',',\n",
       " 'and',\n",
       " 'the',\n",
       " 'G',\n",
       " '.',\n",
       " 'I',\n",
       " '.',\n",
       " 'Bill',\n",
       " 'of',\n",
       " 'Rights',\n",
       " '.',\n",
       " 'And',\n",
       " 'now',\n",
       " 'we',\n",
       " 'will',\n",
       " 'extend',\n",
       " 'this',\n",
       " 'vision',\n",
       " 'by',\n",
       " 'reforming',\n",
       " 'great',\n",
       " 'institutions',\n",
       " 'to',\n",
       " 'serve',\n",
       " 'the',\n",
       " 'needs',\n",
       " 'of',\n",
       " 'our',\n",
       " 'time',\n",
       " '.',\n",
       " 'To',\n",
       " 'give',\n",
       " 'every',\n",
       " 'American',\n",
       " 'a',\n",
       " 'stake',\n",
       " 'in',\n",
       " 'the',\n",
       " 'promise',\n",
       " 'and',\n",
       " 'future',\n",
       " 'of',\n",
       " 'our',\n",
       " 'country',\n",
       " ',',\n",
       " 'we',\n",
       " 'will',\n",
       " 'bring',\n",
       " 'the',\n",
       " 'highest',\n",
       " 'standards',\n",
       " 'to',\n",
       " 'our',\n",
       " 'schools',\n",
       " ',',\n",
       " 'and',\n",
       " 'build',\n",
       " 'an',\n",
       " 'ownership',\n",
       " 'society',\n",
       " '.',\n",
       " 'We',\n",
       " 'will',\n",
       " 'widen',\n",
       " 'the',\n",
       " 'ownership',\n",
       " 'of',\n",
       " 'homes',\n",
       " 'and',\n",
       " 'businesses',\n",
       " ',',\n",
       " 'retirement',\n",
       " 'savings',\n",
       " 'and',\n",
       " 'health',\n",
       " 'insurance',\n",
       " '¡',\n",
       " 'Xpreparing',\n",
       " 'our',\n",
       " 'people',\n",
       " 'for',\n",
       " 'the',\n",
       " 'challenges',\n",
       " 'of',\n",
       " 'life',\n",
       " 'in',\n",
       " 'a',\n",
       " 'free',\n",
       " 'society',\n",
       " '.',\n",
       " 'By',\n",
       " 'making',\n",
       " 'every',\n",
       " 'citizen',\n",
       " 'an',\n",
       " 'agent',\n",
       " 'of',\n",
       " 'his',\n",
       " 'or',\n",
       " 'her',\n",
       " 'own',\n",
       " 'destiny',\n",
       " ',',\n",
       " 'we',\n",
       " 'will',\n",
       " 'give',\n",
       " 'our',\n",
       " 'fellow',\n",
       " 'Americans',\n",
       " 'greater',\n",
       " 'freedom',\n",
       " 'from',\n",
       " 'want',\n",
       " 'and',\n",
       " 'fear',\n",
       " ',',\n",
       " 'and',\n",
       " 'make',\n",
       " 'our',\n",
       " 'society',\n",
       " 'more',\n",
       " 'prosperous',\n",
       " 'and',\n",
       " 'just',\n",
       " 'and',\n",
       " 'equal',\n",
       " '.',\n",
       " 'In',\n",
       " 'America',\n",
       " '¡¦',\n",
       " 's',\n",
       " 'ideal',\n",
       " 'of',\n",
       " 'freedom',\n",
       " ',',\n",
       " 'the',\n",
       " 'public',\n",
       " 'interest',\n",
       " 'depends',\n",
       " 'on',\n",
       " 'private',\n",
       " 'character',\n",
       " '¡',\n",
       " 'Xon',\n",
       " 'integrity',\n",
       " ',',\n",
       " 'and',\n",
       " 'tolerance',\n",
       " 'toward',\n",
       " 'others',\n",
       " ',',\n",
       " 'and',\n",
       " 'the',\n",
       " 'rule',\n",
       " 'of',\n",
       " 'conscience',\n",
       " 'in',\n",
       " 'our',\n",
       " 'own',\n",
       " 'lives',\n",
       " '.',\n",
       " 'Self',\n",
       " '-',\n",
       " 'government',\n",
       " 'relies',\n",
       " ',',\n",
       " 'in',\n",
       " 'the',\n",
       " 'end',\n",
       " ',',\n",
       " 'on',\n",
       " 'the',\n",
       " 'governing',\n",
       " 'of',\n",
       " 'the',\n",
       " 'self',\n",
       " '.',\n",
       " 'That',\n",
       " 'edifice',\n",
       " 'of',\n",
       " 'character',\n",
       " 'is',\n",
       " 'built',\n",
       " 'in',\n",
       " 'families',\n",
       " ',',\n",
       " 'supported',\n",
       " 'by',\n",
       " 'communities',\n",
       " 'with',\n",
       " 'standards',\n",
       " ',',\n",
       " 'and',\n",
       " 'sustained',\n",
       " 'in',\n",
       " 'our',\n",
       " 'national',\n",
       " 'life',\n",
       " 'by',\n",
       " 'the',\n",
       " 'truths',\n",
       " 'of',\n",
       " 'Sinai',\n",
       " ',',\n",
       " 'the',\n",
       " 'Sermon',\n",
       " 'on',\n",
       " 'the',\n",
       " 'Mount',\n",
       " ',',\n",
       " 'the',\n",
       " 'words',\n",
       " 'of',\n",
       " 'the',\n",
       " 'Koran',\n",
       " ',',\n",
       " 'and',\n",
       " 'the',\n",
       " 'varied',\n",
       " 'faiths',\n",
       " 'of',\n",
       " 'our',\n",
       " 'people',\n",
       " '.',\n",
       " 'Americans',\n",
       " 'move',\n",
       " 'forward',\n",
       " 'in',\n",
       " 'every',\n",
       " 'generation',\n",
       " 'by',\n",
       " 'reaffirming',\n",
       " 'all',\n",
       " 'that',\n",
       " 'is',\n",
       " 'good',\n",
       " 'and',\n",
       " 'true',\n",
       " 'that',\n",
       " 'came',\n",
       " 'before',\n",
       " '¡',\n",
       " 'Xideals',\n",
       " 'of',\n",
       " 'justice',\n",
       " 'and',\n",
       " 'conduct',\n",
       " 'that',\n",
       " 'are',\n",
       " 'the',\n",
       " 'same',\n",
       " 'yesterday',\n",
       " ',',\n",
       " 'today',\n",
       " ',',\n",
       " 'and',\n",
       " 'forever',\n",
       " '.',\n",
       " 'In',\n",
       " 'America',\n",
       " '¡¦',\n",
       " 's',\n",
       " 'ideal',\n",
       " 'of',\n",
       " 'freedom',\n",
       " ',',\n",
       " 'the',\n",
       " 'exercise',\n",
       " 'of',\n",
       " 'rights',\n",
       " 'is',\n",
       " 'ennobled',\n",
       " 'by',\n",
       " 'service',\n",
       " ',',\n",
       " 'and',\n",
       " 'mercy',\n",
       " ',',\n",
       " 'and',\n",
       " 'a',\n",
       " 'heart',\n",
       " 'for',\n",
       " 'the',\n",
       " 'weak',\n",
       " '.',\n",
       " 'Liberty',\n",
       " 'for',\n",
       " 'all',\n",
       " 'does',\n",
       " 'not',\n",
       " 'mean',\n",
       " 'independence',\n",
       " 'from',\n",
       " 'one',\n",
       " 'another',\n",
       " '.',\n",
       " 'Our',\n",
       " 'nation',\n",
       " 'relies',\n",
       " 'on',\n",
       " 'men',\n",
       " 'and',\n",
       " 'women',\n",
       " 'who',\n",
       " 'look',\n",
       " 'after',\n",
       " 'a',\n",
       " 'neighbor',\n",
       " 'and',\n",
       " 'surround',\n",
       " 'the',\n",
       " 'lost',\n",
       " 'with',\n",
       " 'love',\n",
       " '.',\n",
       " 'Americans',\n",
       " ',',\n",
       " 'at',\n",
       " 'our',\n",
       " 'best',\n",
       " ',',\n",
       " 'value',\n",
       " 'the',\n",
       " 'life',\n",
       " 'we',\n",
       " 'see',\n",
       " 'in',\n",
       " 'one',\n",
       " 'another',\n",
       " ',',\n",
       " 'and',\n",
       " 'must',\n",
       " ...]"
      ]
     },
     "execution_count": 133,
     "metadata": {},
     "output_type": "execute_result"
    }
   ],
   "source": [
    "# the texts are just lists of strings\n",
    "text4[141525:]"
   ]
  },
  {
   "cell_type": "code",
   "execution_count": 134,
   "metadata": {},
   "outputs": [
    {
     "data": {
      "text/plain": [
       "FreqDist({'the': 9446, 'of': 7087, ',': 7045, 'and': 5146, '.': 4856, 'to': 4414, 'in': 2561, 'a': 2184, 'our': 2021, 'that': 1748, ...})"
      ]
     },
     "execution_count": 134,
     "metadata": {},
     "output_type": "execute_result"
    }
   ],
   "source": [
    "# build a frequency distribution\n",
    "fdist4 = FreqDist(text4) \n",
    "fdist4"
   ]
  },
  {
   "cell_type": "code",
   "execution_count": 135,
   "metadata": {},
   "outputs": [
    {
     "data": {
      "text/plain": [
       "[('the', 9446),\n",
       " ('of', 7087),\n",
       " (',', 7045),\n",
       " ('and', 5146),\n",
       " ('.', 4856),\n",
       " ('to', 4414),\n",
       " ('in', 2561),\n",
       " ('a', 2184),\n",
       " ('our', 2021),\n",
       " ('that', 1748),\n",
       " ('be', 1483),\n",
       " ('is', 1448),\n",
       " ('we', 1211),\n",
       " ('for', 1110),\n",
       " ('by', 1053),\n",
       " ('it', 1028),\n",
       " ('have', 1008),\n",
       " ('which', 1006),\n",
       " ('not', 949),\n",
       " ('will', 909)]"
      ]
     },
     "execution_count": 135,
     "metadata": {},
     "output_type": "execute_result"
    }
   ],
   "source": [
    "fdist4.most_common(20)"
   ]
  },
  {
   "cell_type": "code",
   "execution_count": 136,
   "metadata": {},
   "outputs": [
    {
     "data": {
      "text/plain": [
       "220"
      ]
     },
     "execution_count": 136,
     "metadata": {},
     "output_type": "execute_result"
    }
   ],
   "source": [
    "fdist4['America']"
   ]
  },
  {
   "cell_type": "code",
   "execution_count": 137,
   "metadata": {},
   "outputs": [
    {
     "data": {
      "image/png": "[encoded data removed]",
      "text/plain": [
       "<Figure size 432x288 with 1 Axes>"
      ]
     },
     "metadata": {
      "needs_background": "light"
     },
     "output_type": "display_data"
    }
   ],
   "source": [
    "fdist4.plot(20, cumulative=True)"
   ]
  },
  {
   "cell_type": "code",
   "execution_count": 138,
   "metadata": {},
   "outputs": [
    {
     "data": {
      "text/plain": [
       "['RESPONSIBILITIES',\n",
       " 'antiphilosophists',\n",
       " 'constitutionally',\n",
       " 'contradistinction',\n",
       " 'discountenancing',\n",
       " 'disqualification',\n",
       " 'enthusiastically',\n",
       " 'instrumentalities',\n",
       " 'internationality',\n",
       " 'irresponsibility',\n",
       " 'misappropriation',\n",
       " 'misrepresentation',\n",
       " 'misunderstanding',\n",
       " 'responsibilities',\n",
       " 'sentimentalizing',\n",
       " 'transcontinental',\n",
       " 'uncharitableness',\n",
       " 'unconstitutional']"
      ]
     },
     "execution_count": 138,
     "metadata": {},
     "output_type": "execute_result"
    }
   ],
   "source": [
    "# apply a list comprehension to get words over 15 characters\n",
    "V = set(text4)\n",
    "long_words = [w for w in V if len(w) > 15]\n",
    "sorted(long_words)"
   ]
  },
  {
   "cell_type": "code",
   "execution_count": 139,
   "metadata": {},
   "outputs": [
    {
     "data": {
      "text/plain": [
       "['Administration',\n",
       " 'Almighty',\n",
       " 'American',\n",
       " 'Americans',\n",
       " 'Confederacy',\n",
       " 'Congress',\n",
       " 'Constitution',\n",
       " 'Declaration',\n",
       " 'Departments',\n",
       " 'European',\n",
       " 'Executive',\n",
       " 'Government',\n",
       " 'Independence',\n",
       " 'Jefferson',\n",
       " 'Legislature',\n",
       " 'Magistrate',\n",
       " 'National',\n",
       " 'President',\n",
       " 'Presidential',\n",
       " 'Providence',\n",
       " 'Republic',\n",
       " 'Revolution',\n",
       " 'Southern',\n",
       " 'Territories',\n",
       " 'Territory',\n",
       " 'Together',\n",
       " 'Treasury',\n",
       " 'Washington',\n",
       " 'absolute',\n",
       " 'accepted',\n",
       " 'accomplish',\n",
       " 'accomplished',\n",
       " 'accordance',\n",
       " 'according',\n",
       " 'accountability',\n",
       " 'achieved',\n",
       " 'achievement',\n",
       " 'acknowledged',\n",
       " 'activities',\n",
       " 'additional',\n",
       " 'adequate',\n",
       " 'adherence',\n",
       " 'adjustment',\n",
       " 'administer',\n",
       " 'administered',\n",
       " 'administration',\n",
       " 'admitted',\n",
       " 'adoption',\n",
       " 'advanced',\n",
       " 'advancement',\n",
       " 'advantage',\n",
       " 'advantages',\n",
       " 'affecting',\n",
       " 'affection',\n",
       " 'afforded',\n",
       " 'agencies',\n",
       " 'aggression',\n",
       " 'agitation',\n",
       " 'agricultural',\n",
       " 'agriculture',\n",
       " 'alliances',\n",
       " 'altogether',\n",
       " 'ambition',\n",
       " 'amendment',\n",
       " 'amendments',\n",
       " 'anticipated',\n",
       " 'anything',\n",
       " 'application',\n",
       " 'appointment',\n",
       " 'apprehension',\n",
       " 'approach',\n",
       " 'appropriate',\n",
       " 'arbitration',\n",
       " 'armaments',\n",
       " 'aspirations',\n",
       " 'assembled',\n",
       " 'assembly',\n",
       " 'assigned',\n",
       " 'assistance',\n",
       " 'assurance',\n",
       " 'attained',\n",
       " 'attention',\n",
       " 'authorities',\n",
       " 'authority',\n",
       " 'available',\n",
       " 'beginning',\n",
       " 'believed',\n",
       " 'beneficent',\n",
       " 'beneficial',\n",
       " 'benefits',\n",
       " 'bestowed',\n",
       " 'blessing',\n",
       " 'blessings',\n",
       " 'branches',\n",
       " 'building',\n",
       " 'business',\n",
       " 'calculated',\n",
       " 'capacity',\n",
       " 'carrying',\n",
       " 'celebrate',\n",
       " 'centuries',\n",
       " 'ceremony',\n",
       " 'certainly',\n",
       " 'challenge',\n",
       " 'challenges',\n",
       " 'character',\n",
       " 'cheerfully',\n",
       " 'cherished',\n",
       " 'children',\n",
       " 'circumstances',\n",
       " 'citizens',\n",
       " 'citizenship',\n",
       " 'civilization',\n",
       " 'civilized',\n",
       " 'collected',\n",
       " 'combinations',\n",
       " 'commerce',\n",
       " 'commercial',\n",
       " 'commission',\n",
       " 'commitment',\n",
       " 'committed',\n",
       " 'communities',\n",
       " 'community',\n",
       " 'compassion',\n",
       " 'competent',\n",
       " 'competition',\n",
       " 'complete',\n",
       " 'compromise',\n",
       " 'concerned',\n",
       " 'concerning',\n",
       " 'concerns',\n",
       " 'concession',\n",
       " 'condition',\n",
       " 'conditions',\n",
       " 'conferred',\n",
       " 'confidence',\n",
       " 'confident',\n",
       " 'confidently',\n",
       " 'conflict',\n",
       " 'conflicting',\n",
       " 'conformity',\n",
       " 'connected',\n",
       " 'conscience',\n",
       " 'conscious',\n",
       " 'consciousness',\n",
       " 'consequence',\n",
       " 'consequences',\n",
       " 'consider',\n",
       " 'consideration',\n",
       " 'considerations',\n",
       " 'considered',\n",
       " 'consistent',\n",
       " 'constant',\n",
       " 'constantly',\n",
       " 'constituted',\n",
       " 'constitution',\n",
       " 'constitutional',\n",
       " 'construction',\n",
       " 'contemplate',\n",
       " 'continent',\n",
       " 'continuance',\n",
       " 'continue',\n",
       " 'continued',\n",
       " 'continuing',\n",
       " 'contrary',\n",
       " 'contributed',\n",
       " 'controversies',\n",
       " 'convenience',\n",
       " 'conviction',\n",
       " 'cooperation',\n",
       " 'councils',\n",
       " 'counsels',\n",
       " 'countries',\n",
       " 'countrymen',\n",
       " 'covenant',\n",
       " 'cultivate',\n",
       " 'currency',\n",
       " 'dangerous',\n",
       " 'decision',\n",
       " 'decisions',\n",
       " 'declaration',\n",
       " 'declared',\n",
       " 'dedication',\n",
       " 'definite',\n",
       " 'demanded',\n",
       " 'democracy',\n",
       " 'democratic',\n",
       " 'department',\n",
       " 'departments',\n",
       " 'depression',\n",
       " 'despotism',\n",
       " 'destinies',\n",
       " 'destruction',\n",
       " 'determination',\n",
       " 'determine',\n",
       " 'determined',\n",
       " 'development',\n",
       " 'devotion',\n",
       " 'difference',\n",
       " 'differences',\n",
       " 'different',\n",
       " 'difficult',\n",
       " 'difficulties',\n",
       " 'difficulty',\n",
       " 'diplomacy',\n",
       " 'directed',\n",
       " 'direction',\n",
       " 'directly',\n",
       " 'disaster',\n",
       " 'discharge',\n",
       " 'discipline',\n",
       " 'discretion',\n",
       " 'discussion',\n",
       " 'disposition',\n",
       " 'disputes',\n",
       " 'disregard',\n",
       " 'dissolution',\n",
       " 'distinction',\n",
       " 'distinguished',\n",
       " 'disturbed',\n",
       " 'diversity',\n",
       " 'division',\n",
       " 'divisions',\n",
       " 'domestic',\n",
       " 'dominions',\n",
       " 'economic',\n",
       " 'education',\n",
       " 'effected',\n",
       " 'effective',\n",
       " 'efficiency',\n",
       " 'efficient',\n",
       " 'election',\n",
       " 'elections',\n",
       " 'elements',\n",
       " 'emergency',\n",
       " 'employed',\n",
       " 'employees',\n",
       " 'employment',\n",
       " 'encourage',\n",
       " 'encouragement',\n",
       " 'encouraging',\n",
       " 'endeavor',\n",
       " 'enduring',\n",
       " 'energies',\n",
       " 'enforced',\n",
       " 'enforcement',\n",
       " 'enjoyment',\n",
       " 'enlarged',\n",
       " 'enlightened',\n",
       " 'entering',\n",
       " 'enterprise',\n",
       " 'enterprises',\n",
       " 'entertain',\n",
       " 'entertained',\n",
       " 'entirely',\n",
       " 'entitled',\n",
       " 'equality',\n",
       " 'especially',\n",
       " 'essential',\n",
       " 'establish',\n",
       " 'established',\n",
       " 'establishment',\n",
       " 'everyone',\n",
       " 'everything',\n",
       " 'everywhere',\n",
       " 'evidence',\n",
       " 'examples',\n",
       " 'excitement',\n",
       " 'exclusively',\n",
       " 'executed',\n",
       " 'execution',\n",
       " 'executive',\n",
       " 'exercise',\n",
       " 'exercised',\n",
       " 'existence',\n",
       " 'existing',\n",
       " 'expansion',\n",
       " 'expected',\n",
       " 'expedient',\n",
       " 'expenditure',\n",
       " 'expenditures',\n",
       " 'experience',\n",
       " 'experiment',\n",
       " 'expressed',\n",
       " 'expression',\n",
       " 'expressly',\n",
       " 'extended',\n",
       " 'extension',\n",
       " 'extraordinary',\n",
       " 'extravagance',\n",
       " 'facilities',\n",
       " 'factories',\n",
       " 'faculties',\n",
       " 'faithful',\n",
       " 'faithfully',\n",
       " 'families',\n",
       " 'favorable',\n",
       " 'fearless',\n",
       " 'feelings',\n",
       " 'fidelity',\n",
       " 'financial',\n",
       " 'followed',\n",
       " 'forbearance',\n",
       " 'forgotten',\n",
       " 'formation',\n",
       " 'fortifications',\n",
       " 'foundation',\n",
       " 'foundations',\n",
       " 'founders',\n",
       " 'fraternal',\n",
       " 'friendly',\n",
       " 'friendship',\n",
       " 'fulfillment',\n",
       " 'functions',\n",
       " 'fundamental',\n",
       " 'generally',\n",
       " 'generation',\n",
       " 'generations',\n",
       " 'generous',\n",
       " 'glorious',\n",
       " 'goodness',\n",
       " 'governed',\n",
       " 'government',\n",
       " 'governmental',\n",
       " 'governments',\n",
       " 'grateful',\n",
       " 'gratitude',\n",
       " 'greatest',\n",
       " 'greatness',\n",
       " 'guaranty',\n",
       " 'guidance',\n",
       " 'happiness',\n",
       " 'heretofore',\n",
       " 'heritage',\n",
       " 'historic',\n",
       " 'hitherto',\n",
       " 'honestly',\n",
       " 'honorable',\n",
       " 'humanity',\n",
       " 'idealism',\n",
       " 'ignorance',\n",
       " 'ignorant',\n",
       " 'illustrious',\n",
       " 'immediate',\n",
       " 'imperative',\n",
       " 'importance',\n",
       " 'important',\n",
       " 'impossible',\n",
       " 'impressed',\n",
       " 'improvement',\n",
       " 'improvements',\n",
       " 'inauguration',\n",
       " 'incident',\n",
       " 'increase',\n",
       " 'increased',\n",
       " 'increasing',\n",
       " 'independence',\n",
       " 'independent',\n",
       " 'indispensable',\n",
       " 'individual',\n",
       " 'individuals',\n",
       " 'industrial',\n",
       " 'industries',\n",
       " 'industry',\n",
       " 'inevitable',\n",
       " 'influence',\n",
       " 'information',\n",
       " 'inhabitants',\n",
       " 'initiative',\n",
       " 'injustice',\n",
       " 'inseparable',\n",
       " 'instance',\n",
       " 'instances',\n",
       " 'institution',\n",
       " 'institutions',\n",
       " 'instrument',\n",
       " 'integrity',\n",
       " 'intelligence',\n",
       " 'intelligent',\n",
       " 'intended',\n",
       " 'intention',\n",
       " 'intercourse',\n",
       " 'interest',\n",
       " 'interests',\n",
       " 'interfere',\n",
       " 'interference',\n",
       " 'internal',\n",
       " 'international',\n",
       " 'interstate',\n",
       " 'intrusted',\n",
       " 'invasion',\n",
       " 'involved',\n",
       " 'judgment',\n",
       " 'judicial',\n",
       " 'jurisdiction',\n",
       " 'knowledge',\n",
       " 'language',\n",
       " 'leadership',\n",
       " 'legislation',\n",
       " 'legislative',\n",
       " 'legitimate',\n",
       " 'liberties',\n",
       " 'limitation',\n",
       " 'limitations',\n",
       " 'maintain',\n",
       " 'maintained',\n",
       " 'maintaining',\n",
       " 'maintenance',\n",
       " 'majority',\n",
       " 'management',\n",
       " 'manufactures',\n",
       " 'material',\n",
       " 'materials',\n",
       " 'measures',\n",
       " 'military',\n",
       " 'millions',\n",
       " 'minorities',\n",
       " 'minority',\n",
       " 'movement',\n",
       " 'national',\n",
       " 'necessarily',\n",
       " 'necessary',\n",
       " 'necessities',\n",
       " 'necessity',\n",
       " 'negotiation',\n",
       " 'neighbor',\n",
       " 'neighbors',\n",
       " 'neutrality',\n",
       " 'obedience',\n",
       " 'obligation',\n",
       " 'obligations',\n",
       " 'observance',\n",
       " 'observed',\n",
       " 'occasion',\n",
       " 'occurred',\n",
       " 'officers',\n",
       " 'official',\n",
       " 'operation',\n",
       " 'opinions',\n",
       " 'opportunities',\n",
       " 'opportunity',\n",
       " 'opposition',\n",
       " 'ordinary',\n",
       " 'organization',\n",
       " 'organized',\n",
       " 'original',\n",
       " 'otherwise',\n",
       " 'ourselves',\n",
       " 'participation',\n",
       " 'particular',\n",
       " 'partisan',\n",
       " 'passions',\n",
       " 'patriotic',\n",
       " 'patriotism',\n",
       " 'patriots',\n",
       " 'peaceful',\n",
       " 'peculiar',\n",
       " 'penalties',\n",
       " 'performance',\n",
       " 'permanent',\n",
       " 'permitted',\n",
       " 'perpetual',\n",
       " 'personal',\n",
       " 'physical',\n",
       " 'platform',\n",
       " 'policies',\n",
       " 'political',\n",
       " 'politics',\n",
       " 'population',\n",
       " 'position',\n",
       " 'possessed',\n",
       " 'possessions',\n",
       " 'possible',\n",
       " 'posterity',\n",
       " 'powerful',\n",
       " 'practicable',\n",
       " 'practical',\n",
       " 'practice',\n",
       " 'precious',\n",
       " 'predecessor',\n",
       " 'predecessors',\n",
       " 'prejudice',\n",
       " 'prejudices',\n",
       " 'preparation',\n",
       " 'prepared',\n",
       " 'prescribed',\n",
       " 'presence',\n",
       " 'presented',\n",
       " 'preservation',\n",
       " 'preserve',\n",
       " 'preserved',\n",
       " 'preserving',\n",
       " 'principal',\n",
       " 'principle',\n",
       " 'principles',\n",
       " 'privilege',\n",
       " 'privileges',\n",
       " 'problems',\n",
       " 'proclaim',\n",
       " 'produced',\n",
       " 'production',\n",
       " 'productions',\n",
       " 'productive',\n",
       " 'products',\n",
       " 'profound',\n",
       " 'progress',\n",
       " 'promises',\n",
       " 'promoted',\n",
       " 'promoting',\n",
       " 'promotion',\n",
       " 'promptly',\n",
       " 'properly',\n",
       " 'property',\n",
       " 'proposed',\n",
       " 'proposition',\n",
       " 'prospect',\n",
       " 'prosperity',\n",
       " 'prosperous',\n",
       " 'protected',\n",
       " 'protecting',\n",
       " 'protection',\n",
       " 'provided',\n",
       " 'provision',\n",
       " 'provisions',\n",
       " 'punishment',\n",
       " 'purposes',\n",
       " 'question',\n",
       " 'questions',\n",
       " 'railroads',\n",
       " 'reaching',\n",
       " 'realization',\n",
       " 'realized',\n",
       " 'reasonable',\n",
       " 'received',\n",
       " 'recognition',\n",
       " 'recognize',\n",
       " 'recognized',\n",
       " 'recommend',\n",
       " 'recommendations',\n",
       " 'recommended',\n",
       " 'recovery',\n",
       " 'reference',\n",
       " 'relation',\n",
       " 'relations',\n",
       " 'reliance',\n",
       " 'religion',\n",
       " 'religious',\n",
       " 'remedies',\n",
       " 'remember',\n",
       " 'remembered',\n",
       " 'representative',\n",
       " 'representatives',\n",
       " 'republic',\n",
       " 'republican',\n",
       " 'republics',\n",
       " 'required',\n",
       " 'requires',\n",
       " 'reserved',\n",
       " 'resolution',\n",
       " 'resources',\n",
       " 'respecting',\n",
       " 'respective',\n",
       " 'respects',\n",
       " 'responsibilities',\n",
       " 'responsibility',\n",
       " 'responsible',\n",
       " 'restoration',\n",
       " 'restored',\n",
       " 'revenues',\n",
       " 'reverence',\n",
       " 'revolution',\n",
       " 'righteousness',\n",
       " 'rightful',\n",
       " 'sacredly',\n",
       " 'sacrifice',\n",
       " 'sacrifices',\n",
       " 'sanction',\n",
       " 'satisfaction',\n",
       " 'satisfactory',\n",
       " 'scarcely',\n",
       " 'sectional',\n",
       " 'sections',\n",
       " 'securing',\n",
       " 'security',\n",
       " 'selected',\n",
       " 'sentiment',\n",
       " 'sentiments',\n",
       " 'separate',\n",
       " 'servants',\n",
       " 'services',\n",
       " 'settlement',\n",
       " 'situation',\n",
       " 'slightest',\n",
       " 'soldiers',\n",
       " 'solicitude',\n",
       " 'solution',\n",
       " 'something',\n",
       " 'sometimes',\n",
       " 'sovereign',\n",
       " 'sovereignty',\n",
       " 'speaking',\n",
       " 'speedily',\n",
       " 'spiritual',\n",
       " 'stability',\n",
       " 'standard',\n",
       " 'standards',\n",
       " 'standing',\n",
       " 'statesmen',\n",
       " 'steadily',\n",
       " 'strength',\n",
       " 'strengthen',\n",
       " 'strengthened',\n",
       " 'strictly',\n",
       " 'stronger',\n",
       " 'strongest',\n",
       " 'structure',\n",
       " 'struggle',\n",
       " 'struggling',\n",
       " 'subjects',\n",
       " 'submitted',\n",
       " 'successful',\n",
       " 'successfully',\n",
       " 'suffered',\n",
       " 'suffering',\n",
       " 'sufficient',\n",
       " 'suffrage',\n",
       " 'suitable',\n",
       " 'supported',\n",
       " 'supporting',\n",
       " 'supposed',\n",
       " 'surrender',\n",
       " 'surrendered',\n",
       " 'suspicion',\n",
       " 'sustained',\n",
       " 'sympathy',\n",
       " 'taxation',\n",
       " 'temporary',\n",
       " 'tendency',\n",
       " 'territory',\n",
       " 'themselves',\n",
       " 'therefore',\n",
       " 'thoughts',\n",
       " 'thousand',\n",
       " 'thousands',\n",
       " 'threatened',\n",
       " 'throughout',\n",
       " 'together',\n",
       " 'tolerance',\n",
       " 'tomorrow',\n",
       " 'tranquillity',\n",
       " 'treaties',\n",
       " 'tribunal',\n",
       " 'triumphs',\n",
       " 'ultimate',\n",
       " 'ultimately',\n",
       " 'understand',\n",
       " 'understanding',\n",
       " 'understood',\n",
       " 'undertake',\n",
       " 'universal',\n",
       " 'unnecessary',\n",
       " 'violation',\n",
       " 'violence',\n",
       " 'virtuous',\n",
       " 'weakness',\n",
       " 'whatever',\n",
       " 'whenever',\n",
       " 'wherever',\n",
       " 'witnessed']"
      ]
     },
     "execution_count": 139,
     "metadata": {},
     "output_type": "execute_result"
    }
   ],
   "source": [
    "fdist4 = FreqDist(text4)\n",
    "sorted(w for w in set(text4) if len(w) > 7 and fdist4[w] > 7)"
   ]
  },
  {
   "cell_type": "code",
   "execution_count": 17,
   "metadata": {},
   "outputs": [
    {
     "name": "stdout",
     "output_type": "stream",
     "text": [
      "United States; fellow citizens; four years; years ago; Federal\n",
      "Government; General Government; American people; Vice President; God\n",
      "bless; Chief Justice; Old World; Almighty God; Fellow citizens; Chief\n",
      "Magistrate; every citizen; one another; fellow Americans; Indian\n",
      "tribes; public debt; foreign nations\n"
     ]
    }
   ],
   "source": [
    "# word sequences that appear together unusually often\n",
    "text4.collocations()"
   ]
  },
  {
   "cell_type": "markdown",
   "metadata": {},
   "source": [
    "## Raw Text Processing"
   ]
  },
  {
   "cell_type": "code",
   "execution_count": 44,
   "metadata": {},
   "outputs": [
    {
     "data": {
      "text/plain": [
       "1176967"
      ]
     },
     "execution_count": 44,
     "metadata": {},
     "output_type": "execute_result"
    }
   ],
   "source": [
    "# download raw text from an online repository\n",
    "from urllib.request import urlopen\n",
    "url = \"http://www.gutenberg.org/files/2554/2554-0.txt\"\n",
    "response = urlopen(url)\n",
    "raw = response.read().decode('utf8')\n",
    "len(raw)"
   ]
  },
  {
   "cell_type": "code",
   "execution_count": 45,
   "metadata": {},
   "outputs": [
    {
     "data": {
      "text/plain": [
       "'\\ufeffThe Project Gutenberg EBook of Crime and Punishment, by Fyodor Dostoevsky\\r'"
      ]
     },
     "execution_count": 45,
     "metadata": {},
     "output_type": "execute_result"
    }
   ],
   "source": [
    "raw[:75]"
   ]
  },
  {
   "cell_type": "code",
   "execution_count": 46,
   "metadata": {},
   "outputs": [
    {
     "data": {
      "text/plain": [
       "257727"
      ]
     },
     "execution_count": 46,
     "metadata": {},
     "output_type": "execute_result"
    }
   ],
   "source": [
    "# tokenize the raw text\n",
    "from nltk import word_tokenize\n",
    "tokens = word_tokenize(raw)\n",
    "len(tokens)"
   ]
  },
  {
   "cell_type": "code",
   "execution_count": 47,
   "metadata": {},
   "outputs": [
    {
     "data": {
      "text/plain": [
       "['\\ufeffThe',\n",
       " 'Project',\n",
       " 'Gutenberg',\n",
       " 'EBook',\n",
       " 'of',\n",
       " 'Crime',\n",
       " 'and',\n",
       " 'Punishment',\n",
       " ',',\n",
       " 'by']"
      ]
     },
     "execution_count": 47,
     "metadata": {},
     "output_type": "execute_result"
    }
   ],
   "source": [
    "tokens[:10]"
   ]
  },
  {
   "cell_type": "code",
   "execution_count": 48,
   "metadata": {},
   "outputs": [
    {
     "data": {
      "text/plain": [
       "['an',\n",
       " 'exceptionally',\n",
       " 'hot',\n",
       " 'evening',\n",
       " 'early',\n",
       " 'in',\n",
       " 'July',\n",
       " 'a',\n",
       " 'young',\n",
       " 'man',\n",
       " 'came',\n",
       " 'out',\n",
       " 'of',\n",
       " 'the',\n",
       " 'garret',\n",
       " 'in',\n",
       " 'which',\n",
       " 'he',\n",
       " 'lodged',\n",
       " 'in',\n",
       " 'S.',\n",
       " 'Place',\n",
       " 'and',\n",
       " 'walked',\n",
       " 'slowly',\n",
       " ',',\n",
       " 'as',\n",
       " 'though',\n",
       " 'in',\n",
       " 'hesitation',\n",
       " ',',\n",
       " 'towards',\n",
       " 'K.',\n",
       " 'bridge',\n",
       " '.',\n",
       " 'He',\n",
       " 'had',\n",
       " 'successfully']"
      ]
     },
     "execution_count": 48,
     "metadata": {},
     "output_type": "execute_result"
    }
   ],
   "source": [
    "text = nltk.Text(tokens)\n",
    "text[1024:1062]"
   ]
  },
  {
   "cell_type": "code",
   "execution_count": 49,
   "metadata": {},
   "outputs": [
    {
     "name": "stdout",
     "output_type": "stream",
     "text": [
      "Katerina Ivanovna; Pyotr Petrovitch; Pulcheria Alexandrovna; Avdotya\n",
      "Romanovna; Rodion Romanovitch; Marfa Petrovna; Sofya Semyonovna; old\n",
      "woman; Project Gutenberg-tm; Porfiry Petrovitch; Amalia Ivanovna;\n",
      "great deal; young man; Nikodim Fomitch; Ilya Petrovitch; Project\n",
      "Gutenberg; Andrey Semyonovitch; Hay Market; Dmitri Prokofitch; Good\n",
      "heavens\n"
     ]
    }
   ],
   "source": [
    "text.collocations()"
   ]
  },
  {
   "cell_type": "code",
   "execution_count": 50,
   "metadata": {},
   "outputs": [
    {
     "data": {
      "text/plain": [
       "5336"
      ]
     },
     "execution_count": 50,
     "metadata": {},
     "output_type": "execute_result"
    }
   ],
   "source": [
    "raw.find(\"PART I\")"
   ]
  },
  {
   "cell_type": "code",
   "execution_count": 52,
   "metadata": {},
   "outputs": [
    {
     "data": {
      "text/plain": [
       "['BBC', 'NEWS', '|', 'Health', '|', 'Blondes', \"'to\", 'die', 'out', 'in']"
      ]
     },
     "execution_count": 52,
     "metadata": {},
     "output_type": "execute_result"
    }
   ],
   "source": [
    "# HTML parsing using the Beautiful Soup library\n",
    "from bs4 import BeautifulSoup\n",
    "url = \"http://news.bbc.co.uk/2/hi/health/2284783.stm\"\n",
    "html = urlopen(url).read().decode('utf8')\n",
    "raw = BeautifulSoup(html).get_text()\n",
    "tokens = word_tokenize(raw)\n",
    "tokens[0:10]"
   ]
  },
  {
   "cell_type": "code",
   "execution_count": 53,
   "metadata": {},
   "outputs": [
    {
     "name": "stdout",
     "output_type": "stream",
     "text": [
      "Displaying 5 of 5 matches:\n",
      "hey say too few people now carry the gene for blondes to last beyond the next \n",
      "blonde hair is caused by a recessive gene . In order for a child to have blond\n",
      " have blonde hair , it must have the gene on both sides of the family in the g\n",
      "ere is a disadvantage of having that gene or by chance . They do n't disappear\n",
      "des would disappear is if having the gene was a disadvantage and I do not thin\n"
     ]
    }
   ],
   "source": [
    "# isolate just the article text\n",
    "tokens = tokens[110:390]\n",
    "text = nltk.Text(tokens)\n",
    "text.concordance('gene')"
   ]
  },
  {
   "cell_type": "markdown",
   "metadata": {},
   "source": [
    "## Regular Expressions"
   ]
  },
  {
   "cell_type": "code",
   "execution_count": 54,
   "metadata": {},
   "outputs": [],
   "source": [
    "# regular expression library\n",
    "import re\n",
    "wordlist = [w for w in nltk.corpus.words.words('en') if w.islower()]"
   ]
  },
  {
   "cell_type": "code",
   "execution_count": 55,
   "metadata": {},
   "outputs": [
    {
     "data": {
      "text/plain": [
       "['abaissed',\n",
       " 'abandoned',\n",
       " 'abased',\n",
       " 'abashed',\n",
       " 'abatised',\n",
       " 'abed',\n",
       " 'aborted',\n",
       " 'abridged',\n",
       " 'abscessed',\n",
       " 'absconded']"
      ]
     },
     "execution_count": 55,
     "metadata": {},
     "output_type": "execute_result"
    }
   ],
   "source": [
    "# match the end of a word\n",
    "[w for w in wordlist if re.search('ed$', w)][0:10]"
   ]
  },
  {
   "cell_type": "code",
   "execution_count": 56,
   "metadata": {},
   "outputs": [
    {
     "data": {
      "text/plain": [
       "['abjectly',\n",
       " 'adjuster',\n",
       " 'dejected',\n",
       " 'dejectly',\n",
       " 'injector',\n",
       " 'majestic',\n",
       " 'objectee',\n",
       " 'objector',\n",
       " 'rejecter',\n",
       " 'rejector']"
      ]
     },
     "execution_count": 56,
     "metadata": {},
     "output_type": "execute_result"
    }
   ],
   "source": [
    "# wildcard matches any single character\n",
    "[w for w in wordlist if re.search('^..j..t..$', w)][0:10]"
   ]
  },
  {
   "cell_type": "code",
   "execution_count": 57,
   "metadata": {},
   "outputs": [
    {
     "data": {
      "text/plain": [
       "['gold', 'golf', 'hold', 'hole']"
      ]
     },
     "execution_count": 57,
     "metadata": {},
     "output_type": "execute_result"
    }
   ],
   "source": [
    "# combination of caret (start of word) and sets\n",
    "[w for w in wordlist if re.search('^[ghi][mno][jlk][def]$', w)]"
   ]
  },
  {
   "cell_type": "code",
   "execution_count": 58,
   "metadata": {},
   "outputs": [
    {
     "data": {
      "text/plain": [
       "['miiiiiiiiiiiiinnnnnnnnnnneeeeeeeeee',\n",
       " 'miiiiiinnnnnnnnnneeeeeeee',\n",
       " 'mine',\n",
       " 'mmmmmmmmiiiiiiiiinnnnnnnnneeeeeeee']"
      ]
     },
     "execution_count": 58,
     "metadata": {},
     "output_type": "execute_result"
    }
   ],
   "source": [
    "chat_words = sorted(set(w for w in nltk.corpus.nps_chat.words()))\n",
    "\n",
    "# plus symbol matches any number of times repeating\n",
    "[w for w in chat_words if re.search('^m+i+n+e+$', w)]"
   ]
  },
  {
   "cell_type": "code",
   "execution_count": 59,
   "metadata": {},
   "outputs": [
    {
     "data": {
      "text/plain": [
       "['0.0085', '0.05', '0.1', '0.16', '0.2', '0.25', '0.28', '0.3', '0.4', '0.5']"
      ]
     },
     "execution_count": 59,
     "metadata": {},
     "output_type": "execute_result"
    }
   ],
   "source": [
    "wsj = sorted(set(nltk.corpus.treebank.words()))\n",
    "\n",
    "# more advanced regex example\n",
    "[w for w in wsj if re.search('^[0-9]+\\.[0-9]+$', w)][0:10]"
   ]
  },
  {
   "cell_type": "code",
   "execution_count": 60,
   "metadata": {},
   "outputs": [
    {
     "data": {
      "text/plain": [
       "['C$', 'US$']"
      ]
     },
     "execution_count": 60,
     "metadata": {},
     "output_type": "execute_result"
    }
   ],
   "source": [
    "[w for w in wsj if re.search('^[A-Z]+\\$$', w)]"
   ]
  },
  {
   "cell_type": "code",
   "execution_count": 61,
   "metadata": {},
   "outputs": [
    {
     "data": {
      "text/plain": [
       "['1614',\n",
       " '1637',\n",
       " '1787',\n",
       " '1901',\n",
       " '1903',\n",
       " '1917',\n",
       " '1925',\n",
       " '1929',\n",
       " '1933',\n",
       " '1934']"
      ]
     },
     "execution_count": 61,
     "metadata": {},
     "output_type": "execute_result"
    }
   ],
   "source": [
    "[w for w in wsj if re.search('^[0-9]{4}$', w)][0:10]"
   ]
  },
  {
   "cell_type": "code",
   "execution_count": 62,
   "metadata": {},
   "outputs": [
    {
     "data": {
      "text/plain": [
       "['10-day',\n",
       " '10-lap',\n",
       " '10-year',\n",
       " '100-share',\n",
       " '12-point',\n",
       " '12-year',\n",
       " '14-hour',\n",
       " '15-day',\n",
       " '150-point',\n",
       " '190-point']"
      ]
     },
     "execution_count": 62,
     "metadata": {},
     "output_type": "execute_result"
    }
   ],
   "source": [
    "[w for w in wsj if re.search('^[0-9]+-[a-z]{3,5}$', w)][0:10]"
   ]
  },
  {
   "cell_type": "code",
   "execution_count": 63,
   "metadata": {},
   "outputs": [
    {
     "data": {
      "text/plain": [
       "['black-and-white',\n",
       " 'bread-and-butter',\n",
       " 'father-in-law',\n",
       " 'machine-gun-toting',\n",
       " 'savings-and-loan']"
      ]
     },
     "execution_count": 63,
     "metadata": {},
     "output_type": "execute_result"
    }
   ],
   "source": [
    "[w for w in wsj if re.search('^[a-z]{5,}-[a-z]{2,3}-[a-z]{,6}$', w)][0:10]"
   ]
  },
  {
   "cell_type": "code",
   "execution_count": 64,
   "metadata": {},
   "outputs": [
    {
     "data": {
      "text/plain": [
       "['62%-owned',\n",
       " 'Absorbed',\n",
       " 'According',\n",
       " 'Adopting',\n",
       " 'Advanced',\n",
       " 'Advancing',\n",
       " 'Alfred',\n",
       " 'Allied',\n",
       " 'Annualized',\n",
       " 'Anything']"
      ]
     },
     "execution_count": 64,
     "metadata": {},
     "output_type": "execute_result"
    }
   ],
   "source": [
    "[w for w in wsj if re.search('(ed|ing)$', w)][0:10]"
   ]
  },
  {
   "cell_type": "code",
   "execution_count": 65,
   "metadata": {},
   "outputs": [
    {
     "data": {
      "text/plain": [
       "[('io', 549),\n",
       " ('ea', 476),\n",
       " ('ie', 331),\n",
       " ('ou', 329),\n",
       " ('ai', 261),\n",
       " ('ia', 253),\n",
       " ('ee', 217),\n",
       " ('oo', 174),\n",
       " ('ua', 109),\n",
       " ('au', 106),\n",
       " ('ue', 105),\n",
       " ('ui', 95)]"
      ]
     },
     "execution_count": 65,
     "metadata": {},
     "output_type": "execute_result"
    }
   ],
   "source": [
    "# using \"findall\" to extract partial matches from words\n",
    "fd = nltk.FreqDist(vs for word in wsj \n",
    "                      for vs in re.findall(r'[aeiou]{2,}', word))\n",
    "fd.most_common(12)"
   ]
  },
  {
   "cell_type": "markdown",
   "metadata": {},
   "source": [
    "## Normalizing Text"
   ]
  },
  {
   "cell_type": "code",
   "execution_count": 67,
   "metadata": {},
   "outputs": [],
   "source": [
    "# NLTK has several word stemmers built in\n",
    "porter = nltk.PorterStemmer()\n",
    "lancaster = nltk.LancasterStemmer()"
   ]
  },
  {
   "cell_type": "code",
   "execution_count": 68,
   "metadata": {},
   "outputs": [
    {
     "data": {
      "text/plain": [
       "['UK',\n",
       " 'blond',\n",
       " \"'to\",\n",
       " 'die',\n",
       " 'out',\n",
       " 'in',\n",
       " '200',\n",
       " \"years'\",\n",
       " 'scientist',\n",
       " 'believ']"
      ]
     },
     "execution_count": 68,
     "metadata": {},
     "output_type": "execute_result"
    }
   ],
   "source": [
    "[porter.stem(t) for t in tokens][0:10]"
   ]
  },
  {
   "cell_type": "code",
   "execution_count": 69,
   "metadata": {},
   "outputs": [
    {
     "data": {
      "text/plain": [
       "['uk', 'blond', \"'to\", 'die', 'out', 'in', '200', \"years'\", 'sci', 'believ']"
      ]
     },
     "execution_count": 69,
     "metadata": {},
     "output_type": "execute_result"
    }
   ],
   "source": [
    "[lancaster.stem(t) for t in tokens][0:10]"
   ]
  },
  {
   "cell_type": "code",
   "execution_count": 70,
   "metadata": {},
   "outputs": [
    {
     "data": {
      "text/plain": [
       "['UK',\n",
       " 'Blondes',\n",
       " \"'to\",\n",
       " 'die',\n",
       " 'out',\n",
       " 'in',\n",
       " '200',\n",
       " \"years'\",\n",
       " 'Scientists',\n",
       " 'believe']"
      ]
     },
     "execution_count": 70,
     "metadata": {},
     "output_type": "execute_result"
    }
   ],
   "source": [
    "wnl = nltk.WordNetLemmatizer()\n",
    "[wnl.lemmatize(t) for t in tokens][0:10]"
   ]
  },
  {
   "cell_type": "code",
   "execution_count": 71,
   "metadata": {},
   "outputs": [
    {
     "data": {
      "text/plain": [
       "[('', '', ''),\n",
       " ('A.', '', ''),\n",
       " ('', '-print', ''),\n",
       " ('', '', ''),\n",
       " ('', '', '.40'),\n",
       " ('', '', '')]"
      ]
     },
     "execution_count": 71,
     "metadata": {},
     "output_type": "execute_result"
    }
   ],
   "source": [
    "# also has a tokenizer that takes a regular expression as a parameter\n",
    "text = 'That U.S.A. poster-print costs $12.40...'\n",
    "pattern = r'''(?x)    # set flag to allow verbose regexps\n",
    "     ([A-Z]\\.)+        # abbreviations, e.g. U.S.A.\n",
    "   | \\w+(-\\w+)*        # words with optional internal hyphens\n",
    "   | \\$?\\d+(\\.\\d+)?%?  # currency and percentages, e.g. $12.40, 82%\n",
    "   | \\.\\.\\.            # ellipsis\n",
    "   | [][.,;\"'?():-_`]  # these are separate tokens; includes ], [\n",
    "'''\n",
    "nltk.regexp_tokenize(text, pattern)"
   ]
  },
  {
   "cell_type": "markdown",
   "metadata": {},
   "source": [
    "## Tagging"
   ]
  },
  {
   "cell_type": "code",
   "execution_count": 72,
   "metadata": {},
   "outputs": [
    {
     "data": {
      "text/plain": [
       "[('They', 'PRP'),\n",
       " ('refuse', 'VBP'),\n",
       " ('to', 'TO'),\n",
       " ('permit', 'VB'),\n",
       " ('us', 'PRP'),\n",
       " ('to', 'TO'),\n",
       " ('obtain', 'VB'),\n",
       " ('the', 'DT'),\n",
       " ('refuse', 'NN'),\n",
       " ('permit', 'NN')]"
      ]
     },
     "execution_count": 72,
     "metadata": {},
     "output_type": "execute_result"
    }
   ],
   "source": [
    "# Use a built-in tokenizer and tagger\n",
    "text = word_tokenize(\"They refuse to permit us to obtain the refuse permit\")\n",
    "nltk.pos_tag(text)"
   ]
  },
  {
   "cell_type": "code",
   "execution_count": 73,
   "metadata": {},
   "outputs": [
    {
     "name": "stdout",
     "output_type": "stream",
     "text": [
      "man time day year car moment world house family child country boy\n",
      "state job place way war girl work word\n"
     ]
    }
   ],
   "source": [
    "# Word similarity using a pre-tagged text\n",
    "text = nltk.Text(word.lower() for word in nltk.corpus.brown.words())\n",
    "text.similar('woman')"
   ]
  },
  {
   "cell_type": "code",
   "execution_count": 74,
   "metadata": {},
   "outputs": [
    {
     "data": {
      "text/plain": [
       "[('The', 'AT'),\n",
       " ('Fulton', 'NP-TL'),\n",
       " ('County', 'NN-TL'),\n",
       " ('Grand', 'JJ-TL'),\n",
       " ('Jury', 'NN-TL'),\n",
       " ('said', 'VBD'),\n",
       " ('Friday', 'NR'),\n",
       " ('an', 'AT'),\n",
       " ('investigation', 'NN'),\n",
       " ('of', 'IN')]"
      ]
     },
     "execution_count": 74,
     "metadata": {},
     "output_type": "execute_result"
    }
   ],
   "source": [
    "# Tagged words are saved as tuples\n",
    "nltk.corpus.brown.tagged_words()[0:10]"
   ]
  },
  {
   "cell_type": "code",
   "execution_count": 75,
   "metadata": {},
   "outputs": [
    {
     "data": {
      "text/plain": [
       "[('The', 'DET'),\n",
       " ('Fulton', 'NOUN'),\n",
       " ('County', 'NOUN'),\n",
       " ('Grand', 'ADJ'),\n",
       " ('Jury', 'NOUN'),\n",
       " ('said', 'VERB'),\n",
       " ('Friday', 'NOUN'),\n",
       " ('an', 'DET'),\n",
       " ('investigation', 'NOUN'),\n",
       " ('of', 'ADP')]"
      ]
     },
     "execution_count": 75,
     "metadata": {},
     "output_type": "execute_result"
    }
   ],
   "source": [
    "nltk.corpus.brown.tagged_words(tagset='universal')[0:10]"
   ]
  },
  {
   "cell_type": "code",
   "execution_count": 76,
   "metadata": {},
   "outputs": [
    {
     "data": {
      "text/plain": [
       "[('NOUN', 30654),\n",
       " ('VERB', 14399),\n",
       " ('ADP', 12355),\n",
       " ('.', 11928),\n",
       " ('DET', 11389),\n",
       " ('ADJ', 6706),\n",
       " ('ADV', 3349),\n",
       " ('CONJ', 2717),\n",
       " ('PRON', 2535),\n",
       " ('PRT', 2264),\n",
       " ('NUM', 2166),\n",
       " ('X', 92)]"
      ]
     },
     "execution_count": 76,
     "metadata": {},
     "output_type": "execute_result"
    }
   ],
   "source": [
    "from nltk.corpus import brown\n",
    "brown_news_tagged = brown.tagged_words(categories='news', tagset='universal')\n",
    "tag_fd = nltk.FreqDist(tag for (word, tag) in brown_news_tagged)\n",
    "tag_fd.most_common()"
   ]
  },
  {
   "cell_type": "code",
   "execution_count": 77,
   "metadata": {},
   "outputs": [
    {
     "name": "stdout",
     "output_type": "stream",
     "text": [
      "VERB  ADV  ADP  ADJ    .  PRT \n",
      "  37    8    7    6    4    2 \n"
     ]
    }
   ],
   "source": [
    "# Part of speech tag count for words following \"often\" in a text\n",
    "brown_lrnd_tagged = brown.tagged_words(categories='learned', tagset='universal')\n",
    "tags = [b[1] for (a, b) in nltk.bigrams(brown_lrnd_tagged) if a[0] == 'often']\n",
    "fd = nltk.FreqDist(tags)\n",
    "fd.tabulate()"
   ]
  },
  {
   "cell_type": "code",
   "execution_count": 78,
   "metadata": {},
   "outputs": [],
   "source": [
    "# Load some raw sentences to tag\n",
    "from nltk.corpus import brown\n",
    "brown_tagged_sents = brown.tagged_sents(categories='news')\n",
    "brown_sents = brown.sents(categories='news')"
   ]
  },
  {
   "cell_type": "code",
   "execution_count": 79,
   "metadata": {},
   "outputs": [
    {
     "data": {
      "text/plain": [
       "[('I', 'NN'),\n",
       " ('do', 'NN'),\n",
       " ('not', 'NN'),\n",
       " ('like', 'NN'),\n",
       " ('green', 'NN'),\n",
       " ('eggs', 'NN'),\n",
       " ('and', 'NN'),\n",
       " ('ham', 'NN'),\n",
       " (',', 'NN'),\n",
       " ('I', 'NN'),\n",
       " ('do', 'NN'),\n",
       " ('not', 'NN'),\n",
       " ('like', 'NN'),\n",
       " ('them', 'NN'),\n",
       " ('Sam', 'NN'),\n",
       " ('I', 'NN'),\n",
       " ('am', 'NN'),\n",
       " ('!', 'NN')]"
      ]
     },
     "execution_count": 79,
     "metadata": {},
     "output_type": "execute_result"
    }
   ],
   "source": [
    "# Default tagger (assigns same tag to each token)\n",
    "tags = [tag for (word, tag) in brown.tagged_words(categories='news')]\n",
    "nltk.FreqDist(tags).max()\n",
    "raw = 'I do not like green eggs and ham, I do not like them Sam I am!'\n",
    "tokens = word_tokenize(raw)\n",
    "default_tagger = nltk.DefaultTagger('NN')\n",
    "default_tagger.tag(tokens)"
   ]
  },
  {
   "cell_type": "code",
   "execution_count": 80,
   "metadata": {},
   "outputs": [
    {
     "data": {
      "text/plain": [
       "0.13089484257215028"
      ]
     },
     "execution_count": 80,
     "metadata": {},
     "output_type": "execute_result"
    }
   ],
   "source": [
    "# Evaluate the performance against a tagged corpus\n",
    "default_tagger.evaluate(brown_tagged_sents)"
   ]
  },
  {
   "cell_type": "code",
   "execution_count": 81,
   "metadata": {},
   "outputs": [
    {
     "data": {
      "text/plain": [
       "[('Various', 'JJ'),\n",
       " ('of', 'IN'),\n",
       " ('the', 'AT'),\n",
       " ('apartments', 'NNS'),\n",
       " ('are', 'BER'),\n",
       " ('of', 'IN'),\n",
       " ('the', 'AT'),\n",
       " ('terrace', 'NN'),\n",
       " ('type', 'NN'),\n",
       " (',', ','),\n",
       " ('being', 'BEG'),\n",
       " ('on', 'IN'),\n",
       " ('the', 'AT'),\n",
       " ('ground', 'NN'),\n",
       " ('floor', 'NN'),\n",
       " ('so', 'QL'),\n",
       " ('that', 'CS'),\n",
       " ('entrance', 'NN'),\n",
       " ('is', 'BEZ'),\n",
       " ('direct', 'JJ'),\n",
       " ('.', '.')]"
      ]
     },
     "execution_count": 81,
     "metadata": {},
     "output_type": "execute_result"
    }
   ],
   "source": [
    "# Training a unigram tagger\n",
    "from nltk.corpus import brown\n",
    "brown_tagged_sents = brown.tagged_sents(categories='news')\n",
    "brown_sents = brown.sents(categories='news')\n",
    "unigram_tagger = nltk.UnigramTagger(brown_tagged_sents)\n",
    "unigram_tagger.tag(brown_sents[2007])"
   ]
  },
  {
   "cell_type": "code",
   "execution_count": 82,
   "metadata": {},
   "outputs": [
    {
     "data": {
      "text/plain": [
       "0.9349006503968017"
      ]
     },
     "execution_count": 82,
     "metadata": {},
     "output_type": "execute_result"
    }
   ],
   "source": [
    "# Now evalute it\n",
    "unigram_tagger.evaluate(brown_tagged_sents)"
   ]
  },
  {
   "cell_type": "code",
   "execution_count": 83,
   "metadata": {},
   "outputs": [
    {
     "data": {
      "text/plain": [
       "0.9731487558923564"
      ]
     },
     "execution_count": 83,
     "metadata": {},
     "output_type": "execute_result"
    }
   ],
   "source": [
    "# Combining taggers\n",
    "t0 = nltk.DefaultTagger('NN')\n",
    "t1 = nltk.UnigramTagger(brown_tagged_sents, backoff=t0)\n",
    "t2 = nltk.BigramTagger(brown_tagged_sents, backoff=t1)\n",
    "t2.evaluate(brown_tagged_sents)"
   ]
  },
  {
   "cell_type": "markdown",
   "metadata": {},
   "source": [
    "## Classifying Text"
   ]
  },
  {
   "cell_type": "code",
   "execution_count": 84,
   "metadata": {},
   "outputs": [
    {
     "data": {
      "text/plain": [
       "{'last_letter': 'k'}"
      ]
     },
     "execution_count": 84,
     "metadata": {},
     "output_type": "execute_result"
    }
   ],
   "source": [
    "# Define a feature extractor\n",
    "def gender_features(word):\n",
    "        return {'last_letter': word[-1]}\n",
    "gender_features('Shrek')"
   ]
  },
  {
   "cell_type": "code",
   "execution_count": 85,
   "metadata": {},
   "outputs": [],
   "source": [
    "# Prepare a list of examples\n",
    "from nltk.corpus import names\n",
    "labeled_names = ([(name, 'male') for name in names.words('male.txt')] +\n",
    "    [(name, 'female') for name in names.words('female.txt')])\n",
    "import random\n",
    "random.shuffle(labeled_names)"
   ]
  },
  {
   "cell_type": "code",
   "execution_count": 86,
   "metadata": {},
   "outputs": [],
   "source": [
    "# Process the names data\n",
    "featuresets = [(gender_features(n), gender) for (n, gender) in labeled_names]\n",
    "train_set, test_set = featuresets[500:], featuresets[:500]\n",
    "classifier = nltk.NaiveBayesClassifier.train(train_set)"
   ]
  },
  {
   "cell_type": "code",
   "execution_count": 87,
   "metadata": {},
   "outputs": [
    {
     "data": {
      "text/plain": [
       "'male'"
      ]
     },
     "execution_count": 87,
     "metadata": {},
     "output_type": "execute_result"
    }
   ],
   "source": [
    "classifier.classify(gender_features('Neo'))"
   ]
  },
  {
   "cell_type": "code",
   "execution_count": 88,
   "metadata": {},
   "outputs": [
    {
     "data": {
      "text/plain": [
       "'female'"
      ]
     },
     "execution_count": 88,
     "metadata": {},
     "output_type": "execute_result"
    }
   ],
   "source": [
    "classifier.classify(gender_features('Trinity'))"
   ]
  },
  {
   "cell_type": "code",
   "execution_count": 89,
   "metadata": {},
   "outputs": [
    {
     "name": "stdout",
     "output_type": "stream",
     "text": [
      "0.73\n"
     ]
    }
   ],
   "source": [
    "print(nltk.classify.accuracy(classifier, test_set))"
   ]
  },
  {
   "cell_type": "code",
   "execution_count": 90,
   "metadata": {},
   "outputs": [
    {
     "name": "stdout",
     "output_type": "stream",
     "text": [
      "Most Informative Features\n",
      "             last_letter = 'k'              male : female =     42.1 : 1.0\n",
      "             last_letter = 'a'            female : male   =     35.6 : 1.0\n",
      "             last_letter = 'p'              male : female =     19.9 : 1.0\n",
      "             last_letter = 'f'              male : female =     14.7 : 1.0\n",
      "             last_letter = 'v'              male : female =     11.3 : 1.0\n"
     ]
    }
   ],
   "source": [
    "classifier.show_most_informative_features(5)"
   ]
  },
  {
   "cell_type": "code",
   "execution_count": 91,
   "metadata": {},
   "outputs": [],
   "source": [
    "# Document classification\n",
    "from nltk.corpus import movie_reviews\n",
    "documents = [(list(movie_reviews.words(fileid)), category)\n",
    "             for category in movie_reviews.categories()\n",
    "             for fileid in movie_reviews.fileids(category)]\n",
    "random.shuffle(documents)"
   ]
  },
  {
   "cell_type": "code",
   "execution_count": 143,
   "metadata": {},
   "outputs": [],
   "source": [
    "all_words = nltk.FreqDist(w.lower() for w in movie_reviews.words())\n",
    "word_features = all_words.keys() #all_words.keys()[:2000]\n",
    "\n",
    "def document_features(document):\n",
    "    document_words = set(document)\n",
    "    features = {}\n",
    "    for word in word_features:\n",
    "        features['contains(%s)' % word] = (word in document_words)\n",
    "    return features"
   ]
  },
  {
   "cell_type": "code",
   "execution_count": 144,
   "metadata": {},
   "outputs": [],
   "source": [
    "featuresets = [(document_features(d), c) for (d,c) in documents]\n",
    "train_set, test_set = featuresets[100:], featuresets[:100]\n",
    "classifier = nltk.NaiveBayesClassifier.train(train_set)"
   ]
  },
  {
   "cell_type": "code",
   "execution_count": 145,
   "metadata": {},
   "outputs": [
    {
     "name": "stdout",
     "output_type": "stream",
     "text": [
      "0.85\n"
     ]
    }
   ],
   "source": [
    "print(nltk.classify.accuracy(classifier, test_set))"
   ]
  },
  {
   "cell_type": "code",
   "execution_count": 146,
   "metadata": {},
   "outputs": [
    {
     "name": "stdout",
     "output_type": "stream",
     "text": [
      "Most Informative Features\n",
      "        contains(avoids) = True              pos : neg    =     12.4 : 1.0\n",
      "   contains(fascination) = True              pos : neg    =     11.0 : 1.0\n",
      "          contains(slip) = True              pos : neg    =     11.0 : 1.0\n",
      "     contains(ludicrous) = True              neg : pos    =     10.7 : 1.0\n",
      "     contains(insulting) = True              neg : pos    =     10.6 : 1.0\n"
     ]
    }
   ],
   "source": [
    "classifier.show_most_informative_features(5)"
   ]
  }
 ],
 "metadata": {
  "kernelspec": {
   "display_name": "Python 3",
   "language": "python",
   "name": "python3"
  },
  "language_info": {
   "codemirror_mode": {
    "name": "ipython",
    "version": 3
   },
   "file_extension": ".py",
   "mimetype": "text/x-python",
   "name": "python",
   "nbconvert_exporter": "python",
   "pygments_lexer": "ipython3",
   "version": "3.7.3"
  }
 },
 "nbformat": 4,
 "nbformat_minor": 1
}
