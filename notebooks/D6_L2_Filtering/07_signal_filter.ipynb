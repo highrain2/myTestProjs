{
 "cells": [
  {
   "cell_type": "markdown",
   "metadata": {},
   "source": [
    "# Applying a linear filter to a digital signal"
   ]
  },
  {
   "cell_type": "markdown",
   "metadata": {},
   "source": [
    "Now that we have looked at FFTs, lets consider the simple linear filter.  Linear filters are great for simple data where we want to remove noise.  Later we will look at a Kalman Filter, but this requires some knowledge of the statistics of the data, where as the linear filter does not.\n",
    "\n",
    "We begin with the standard imports."
   ]
  },
  {
   "cell_type": "code",
   "execution_count": null,
   "metadata": {},
   "outputs": [],
   "source": [
    "import numpy as np\n",
    "import scipy as sp\n",
    "import scipy.signal as sg\n",
    "import pandas as pd\n",
    "import matplotlib.pyplot as plt\n",
    "%matplotlib inline"
   ]
  },
  {
   "cell_type": "markdown",
   "metadata": {},
   "source": [
    "In this example, let's look at the stock prices over a period of a few years."
   ]
  },
  {
   "cell_type": "code",
   "execution_count": null,
   "metadata": {},
   "outputs": [],
   "source": [
    "nasdaq_df = pd.read_csv(\n",
    "    'data/nasdaq.csv',\n",
    "    index_col='Date',\n",
    "    parse_dates=['Date'])"
   ]
  },
  {
   "cell_type": "code",
   "execution_count": null,
   "metadata": {
    "podoc": {
     "output_text": "Output"
    }
   },
   "outputs": [],
   "source": [
    "nasdaq_df.head()"
   ]
  },
  {
   "cell_type": "code",
   "execution_count": null,
   "metadata": {},
   "outputs": [],
   "source": [
    "date = nasdaq_df.index\n",
    "nasdaq = nasdaq_df['Close']"
   ]
  },
  {
   "cell_type": "markdown",
   "metadata": {},
   "source": [
    "Plotting the results we find a definite trend, with a peak, and lots of noise."
   ]
  },
  {
   "cell_type": "code",
   "execution_count": null,
   "metadata": {
    "podoc": {
     "output_text": "<matplotlib.figure.Figure at 0x1204bcf8>"
    }
   },
   "outputs": [],
   "source": [
    "fig, ax = plt.subplots(1, 1, figsize=(6, 4))\n",
    "nasdaq.plot(ax=ax, lw=1)"
   ]
  },
  {
   "cell_type": "markdown",
   "metadata": {},
   "source": [
    "Using a linear filter, we can remove much of the noise, while preserving the important information like the peak.\n",
    "\n",
    "Notice that if we simply did a line fit, e.g. linear regression, we would get a trend, but we would eliminate the peak around the year 2000.  Historically this is very important, because after the 9/11 attack in NYC, the stock market dropped significantly."
   ]
  },
  {
   "cell_type": "code",
   "execution_count": null,
   "metadata": {},
   "outputs": [],
   "source": [
    "# We get a triangular window with 60 samples.\n",
    "h = sg.get_window('triang', 60)\n",
    "# We convolve the signal with this window.\n",
    "fil = sg.convolve(nasdaq, h / h.sum())"
   ]
  },
  {
   "cell_type": "code",
   "execution_count": null,
   "metadata": {
    "podoc": {
     "output_text": "<matplotlib.figure.Figure at 0x1224fe10>"
    }
   },
   "outputs": [],
   "source": [
    "fig, ax = plt.subplots(1, 1, figsize=(6, 4))\n",
    "# We plot the original signal...\n",
    "nasdaq.plot(ax=ax, lw=3)\n",
    "# ... and the filtered signal.\n",
    "ax.plot_date(date, fil[:len(nasdaq)],\n",
    "             '-w', lw=2)"
   ]
  },
  {
   "cell_type": "markdown",
   "metadata": {},
   "source": [
    "Going one step further, we cann apply the Butterworth low-pass filter to further smooth the result.\n",
    "\n",
    "Can you see the difference?"
   ]
  },
  {
   "cell_type": "code",
   "execution_count": null,
   "metadata": {
    "podoc": {
     "output_text": "<matplotlib.figure.Figure at 0x1223add8>"
    }
   },
   "outputs": [],
   "source": [
    "fig, ax = plt.subplots(1, 1, figsize=(6, 4))\n",
    "nasdaq.plot(ax=ax, lw=3)\n",
    "# We create a 4-th order Butterworth low-pass filter.\n",
    "b, a = sg.butter(4, 2. / 365)\n",
    "# We apply this filter to the signal.\n",
    "ax.plot_date(date, sg.filtfilt(b, a, nasdaq),\n",
    "             '-w', lw=2)"
   ]
  },
  {
   "cell_type": "markdown",
   "metadata": {},
   "source": [
    "Again using the Butterworth filter, instead of plotting the smooth line, we can instead look at the delta between the smooth line and the raw data.  This can reveal important underlying features in the data for further analysis."
   ]
  },
  {
   "cell_type": "code",
   "execution_count": null,
   "metadata": {
    "podoc": {
     "output_text": "<matplotlib.figure.Figure at 0x12230908>"
    }
   },
   "outputs": [],
   "source": [
    "fig, ax = plt.subplots(1, 1, figsize=(6, 4))\n",
    "nasdaq.plot(ax=ax, lw=1)\n",
    "b, a = sg.butter(4, 2 * 5. / 365, btype='high')\n",
    "ax.plot_date(date, sg.filtfilt(b, a, nasdaq),\n",
    "             '-', lw=1)"
   ]
  }
 ],
 "metadata": {
  "kernelspec": {
   "display_name": "Python 3",
   "language": "python",
   "name": "python3"
  },
  "language_info": {
   "codemirror_mode": {
    "name": "ipython",
    "version": 3
   },
   "file_extension": ".py",
   "mimetype": "text/x-python",
   "name": "python",
   "nbconvert_exporter": "python",
   "pygments_lexer": "ipython3",
   "version": "3.7.3"
  }
 },
 "nbformat": 4,
 "nbformat_minor": 2
}
