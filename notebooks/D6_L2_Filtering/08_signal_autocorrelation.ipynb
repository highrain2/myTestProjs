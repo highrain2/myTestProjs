{
 "cells": [
  {
   "cell_type": "markdown",
   "metadata": {},
   "source": [
    "# Computing the autocorrelation of a time series\n",
    "\n",
    "When timeseries data is available, the **autocorrelation** function is a useful method to evaluate correlation between timeseries events.  In this example we will look at the correlation in baby names over the last several decades.  Do you see a trend?\n",
    "\n",
    "Autocorrelation measures the relationship between a variable's current value and its past values. When computing autocorrelation, the resulting output can range from 1 to negative 1, in line with the traditional correlation statistic. An autocorrelation of +1 represents a perfect positive correlation (an increase seen in one time series leads to a proportionate increase in the other time series). An autocorrelation of negative 1, on the other hand, represents perfect negative correlation (an increase seen in one time series results in a proportionate decrease in the other time series). Autocorrelation measures linear relationships; even if the autocorrelation is minuscule, there may still be a nonlinear relationship between a time series and a lagged version of itself.\n",
    "\n",
    "Key Takeaways:\n",
    "- Autocorrelation represents the degree of similarity between a given time series and a lagged version of itself over successive time intervals.\n",
    "- Autocorrelation measures the relationship between a variable's current value and its past values.\n",
    "- An autocorrelation of +1 represents a perfect positive correlation, while an autocorrelation of negative 1 represents a perfect negative correlation.\n",
    "- Technical analysts can use autocorrelation to see how much of an impact past prices for a security have on its future price.\n",
    "\n",
    "\n"
   ]
  },
  {
   "cell_type": "code",
   "execution_count": null,
   "metadata": {},
   "outputs": [],
   "source": [
    "import os\n",
    "import numpy as np\n",
    "import pandas as pd\n",
    "import matplotlib.pyplot as plt\n",
    "%matplotlib inline"
   ]
  },
  {
   "cell_type": "code",
   "execution_count": null,
   "metadata": {},
   "outputs": [],
   "source": [
    "import io\n",
    "import requests\n",
    "import zipfile"
   ]
  },
  {
   "cell_type": "code",
   "execution_count": null,
   "metadata": {},
   "outputs": [],
   "source": [
    "zipfile.ZipFile('data/babies.zip').extractall('babies')"
   ]
  },
  {
   "cell_type": "code",
   "execution_count": null,
   "metadata": {},
   "outputs": [],
   "source": [
    "%ls babies"
   ]
  },
  {
   "cell_type": "code",
   "execution_count": null,
   "metadata": {},
   "outputs": [],
   "source": [
    "files = [file for file in os.listdir('babies')\n",
    "         if file.startswith('yob')]"
   ]
  },
  {
   "cell_type": "code",
   "execution_count": null,
   "metadata": {},
   "outputs": [],
   "source": [
    "years = np.array(sorted([int(file[3:7])\n",
    "                         for file in files]))"
   ]
  },
  {
   "cell_type": "code",
   "execution_count": null,
   "metadata": {},
   "outputs": [],
   "source": [
    "data = {year:\n",
    "        pd.read_csv('babies/yob%d.txt' % year,\n",
    "                    index_col=0, header=None,\n",
    "                    names=['First name',\n",
    "                           'Gender',\n",
    "                           'Number'])\n",
    "        for year in years}"
   ]
  },
  {
   "cell_type": "code",
   "execution_count": null,
   "metadata": {
    "podoc": {
     "output_text": "Output"
    }
   },
   "outputs": [],
   "source": [
    "data[2016].head()"
   ]
  },
  {
   "cell_type": "code",
   "execution_count": null,
   "metadata": {},
   "outputs": [],
   "source": [
    "def get_value(name, gender, year):\n",
    "    \"\"\"Return the number of babies born a given year,\n",
    "    with a given gender and a given name.\"\"\"\n",
    "    dy = data[year]\n",
    "    try:\n",
    "        return dy[dy['Gender'] == gender] \\\n",
    "                 ['Number'][name]\n",
    "    except KeyError:\n",
    "        return 0"
   ]
  },
  {
   "cell_type": "code",
   "execution_count": null,
   "metadata": {},
   "outputs": [],
   "source": [
    "def get_evolution(name, gender):\n",
    "    \"\"\"Return the evolution of a baby name over\n",
    "    the years.\"\"\"\n",
    "    return np.array([get_value(name, gender, year)\n",
    "                     for year in years])"
   ]
  },
  {
   "cell_type": "code",
   "execution_count": null,
   "metadata": {},
   "outputs": [],
   "source": [
    "def autocorr(x):\n",
    "    result = np.correlate(x, x, mode='full')\n",
    "    return result[result.size // 2:]"
   ]
  },
  {
   "cell_type": "code",
   "execution_count": null,
   "metadata": {},
   "outputs": [],
   "source": [
    "def autocorr_name(name, gender, color, axes=None):\n",
    "    x = get_evolution(name, gender)\n",
    "    z = autocorr(x)\n",
    "\n",
    "    # Evolution of the name.\n",
    "    axes[0].plot(years, x, '-o' + color,\n",
    "                 label=name)\n",
    "    axes[0].set_title(\"Baby names\")\n",
    "    axes[0].legend()\n",
    "\n",
    "    # Autocorrelation.\n",
    "    axes[1].plot(z / float(z.max()),\n",
    "                 '-' + color, label=name)\n",
    "    axes[1].legend()\n",
    "    axes[1].set_title(\"Autocorrelation\")"
   ]
  },
  {
   "cell_type": "code",
   "execution_count": null,
   "metadata": {
    "podoc": {
     "output_text": "<matplotlib.figure.Figure at 0xcae9048>"
    }
   },
   "outputs": [],
   "source": [
    "fig, axes = plt.subplots(1, 2, figsize=(12, 4))\n",
    "autocorr_name('Olivia', 'F', 'k', axes=axes)\n",
    "autocorr_name('Maria', 'F', 'y', axes=axes)"
   ]
  }
 ],
 "metadata": {
  "kernelspec": {
   "display_name": "Python 3",
   "language": "python",
   "name": "python3"
  },
  "language_info": {
   "codemirror_mode": {
    "name": "ipython",
    "version": 3
   },
   "file_extension": ".py",
   "mimetype": "text/x-python",
   "name": "python",
   "nbconvert_exporter": "python",
   "pygments_lexer": "ipython3",
   "version": "3.7.3"
  }
 },
 "nbformat": 4,
 "nbformat_minor": 2
}
