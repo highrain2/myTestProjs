{
 "cells": [
  {
   "cell_type": "markdown",
   "metadata": {},
   "source": [
    "# Linear Programming\n",
    "\n",
    "<img src=\"figures/ilp.png\" width=650>\n",
    "\n",
    "\n",
    "# Introduction\n",
    "\n",
    "The **Company X** wants to know, How many products the company should make monthly. This company makes, **tables**, **sofas** and **chairs**. The requirements of each product is in the next Diagram:   \n",
    "\n",
    "<img src=\"figures/CompanyX.png\" width=650>\n",
    "\n",
    "* The Company needs to pay $\\$ 75000$ monthly, this includes, $1540$ hours of work ($\\$ 48.70$ per hour).\n",
    "\n",
    "* Prices of each product:\n",
    "  * Tables: $\\$ 400$ per unit.\n",
    "  * Sofas:  $\\$ 750$ per unit.\n",
    "  * Chairs: $\\$ 240$ per unit.\n",
    "\n",
    "## Variables\n",
    "\n",
    "* $X_{1}$ = Table\n",
    "* $X_{2}$ = Sofa\n",
    "* $X_{3}$ = Chair\n",
    "\n",
    "## Objective function\n",
    "\n",
    "- $z(max) = (400-100) X_{1} + (750-75-175) X_{2} + (240-40) X_{3} - 75000$\n",
    "- $z(max) = 300 X_{1} + 500 X_{2} + 200 X_{3} - 75000$\n",
    "\n",
    "## Constraints:\n",
    "\n",
    "* $C_1$(Wood): $10 X_{1} + 7.5 X_{2} + 4 X_{3} \\leq 4350$\n",
    "* $C_2$(Cloth): $10 X_{2} \\leq 2500$\n",
    "* $C_3$(Saw): $0.5 X_{1} + 0.4 X_{2} + 0.5 X_{3} \\leq 280$\n",
    "* $C_4$(Cut Cloth): $0.4 X_{2} \\leq 140$\n",
    "* $C_5$(Sand): $0.5 X_{1} + 0.1 X_{2} + 0.5 X_{3} \\leq 280$\n",
    "* $C_6$(Inky): $0.4 X_{1} + 0.2 X_{2} + 0.4 X_{3} \\leq 140$\n",
    "* $C_7$(Assembly): $1 X_{1} + 1.5 X_{2} + 0.5 X_{3} \\leq 700$\n",
    "\n",
    "### Demand\n",
    "\n",
    "* $C_8$(Tables): $X_{1} \\leq 300$\n",
    "* $C_9$(Sofas): $X_{2} \\leq 180$\n",
    "* $C_{10}$(Chairs): $X_{3} \\leq 400$"
   ]
  },
  {
   "cell_type": "code",
   "execution_count": null,
   "metadata": {},
   "outputs": [],
   "source": [
    "from scipy.optimize import linprog\n",
    "import numpy as np"
   ]
  },
  {
   "cell_type": "markdown",
   "metadata": {},
   "source": [
    "#### Objective Function"
   ]
  },
  {
   "cell_type": "code",
   "execution_count": null,
   "metadata": {},
   "outputs": [],
   "source": [
    "z = np.array([300,500,200])\n",
    "expense = 75000"
   ]
  },
  {
   "cell_type": "markdown",
   "metadata": {},
   "source": [
    "#### Constraints"
   ]
  },
  {
   "cell_type": "code",
   "execution_count": null,
   "metadata": {},
   "outputs": [],
   "source": [
    "C = np.array([\n",
    "    [ 10, 7.5,   4],        #C1\n",
    "    [  0,  10,   0],        #C2\n",
    "    [0.5, 0.4, 0.5],        #C3\n",
    "    [  0, 0.4,   0],        #C4\n",
    "    [0.5, 0.1, 0.5],        #C5\n",
    "    [0.4, 0.2, 0.4],        #C6\n",
    "    [  1, 1.5, 0.5],        #C7\n",
    "    [  1,   0,   0],        #C8\n",
    "    [  0,   1,   0],        #C9\n",
    "    [  0,   0,   1]         #C10\n",
    "])\n",
    "\n",
    "b = np.array([4350, 2500, 280, 140, 280, 140, 700, 300, 180, 400])"
   ]
  },
  {
   "cell_type": "markdown",
   "metadata": {},
   "source": [
    "#### Bounds"
   ]
  },
  {
   "cell_type": "code",
   "execution_count": null,
   "metadata": {},
   "outputs": [],
   "source": [
    "x1 = (0, None)\n",
    "x2 = (0, None)\n",
    "x3 = (0, None)"
   ]
  },
  {
   "cell_type": "markdown",
   "metadata": {},
   "source": [
    "#### Solution"
   ]
  },
  {
   "cell_type": "code",
   "execution_count": null,
   "metadata": {},
   "outputs": [],
   "source": [
    "sol = linprog(-z, A_ub = C, b_ub = b, bounds = (x1, x2, x3), method='simplex')\n",
    "\n",
    "#Profit Monthly\n",
    "profit = (sol.fun*-1) - expense\n",
    "\n",
    "sol"
   ]
  },
  {
   "cell_type": "code",
   "execution_count": null,
   "metadata": {},
   "outputs": [],
   "source": [
    "print(f\"x1 = {sol.x[0]}, x2 = {sol.x[1]}, x3 = {sol.x[2]}, z = {profit}\")"
   ]
  },
  {
   "cell_type": "markdown",
   "metadata": {},
   "source": [
    "The **Company X** should make monthly:\n",
    "\n",
    "* Tables: $260$ units.\n",
    "* Sofas:  $180$ units.\n",
    "* Chairs:   $0$ unit.\n",
    "\n",
    "Profit: $\\$ 93000$."
   ]
  }
 ],
 "metadata": {
  "kernelspec": {
   "display_name": "Python 3",
   "language": "python",
   "name": "python3"
  },
  "language_info": {
   "codemirror_mode": {
    "name": "ipython",
    "version": 3
   },
   "file_extension": ".py",
   "mimetype": "text/x-python",
   "name": "python",
   "nbconvert_exporter": "python",
   "pygments_lexer": "ipython3",
   "version": "3.7.3"
  }
 },
 "nbformat": 4,
 "nbformat_minor": 2
}
